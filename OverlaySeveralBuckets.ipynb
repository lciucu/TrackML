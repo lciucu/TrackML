{
 "cells": [
  {
   "cell_type": "code",
   "execution_count": null,
   "metadata": {},
   "outputs": [],
   "source": [
    "import pandas as pd\n",
    "import numpy as np\n",
    "import matplotlib.pyplot as plt"
   ]
  },
  {
   "cell_type": "code",
   "execution_count": null,
   "metadata": {
    "scrolled": true
   },
   "outputs": [],
   "source": [
    "path2data=\"/Users/luizaadelinaciucu/Downloads/\"\n",
    "df=pd.read_csv(path2data+\"event000021069-hits.csv\")"
   ]
  },
  {
   "cell_type": "code",
   "execution_count": null,
   "metadata": {},
   "outputs": [],
   "source": [
    "df.head()"
   ]
  },
  {
   "cell_type": "code",
   "execution_count": null,
   "metadata": {},
   "outputs": [],
   "source": [
    "from annoy import AnnoyIndex\n",
    "import random"
   ]
  },
  {
   "cell_type": "code",
   "execution_count": null,
   "metadata": {},
   "outputs": [],
   "source": [
    "def buildAnnoyIndex(data,metric=\"angular\",ntrees=10):\n",
    "    f = len(data[0])\n",
    "    t = AnnoyIndex(f,metric)  \n",
    "    for i,d in enumerate(data):\n",
    "        t.add_item(i, d)\n",
    "    t.build(ntrees) # 10 trees\n",
    "    return t"
   ]
  },
  {
   "cell_type": "code",
   "execution_count": null,
   "metadata": {},
   "outputs": [],
   "source": [
    "data=df[[\"x\",\"y\",\"z\"]].values\n",
    "\n",
    "index=buildAnnoyIndex(data,metric=\"angular\",ntrees=10)\n"
   ]
  },
  {
   "cell_type": "code",
   "execution_count": null,
   "metadata": {},
   "outputs": [],
   "source": [
    "NB_BUCKET=5\n",
    "for i in range(NB_BUCKET):\n",
    "    n=random.choice(range(len(data)))\n",
    "    \n",
    "    bucket_idx=np.array(index.get_nns_by_item(n,50))\n",
    "    bucket=df.iloc[bucket_idx]\n",
    "    plt.plot(bucket.x,bucket.y,\"o\")\n",
    "    plt.plot(0,0,\"r+\")\n",
    "plt.show()"
   ]
  },
  {
   "cell_type": "code",
   "execution_count": null,
   "metadata": {},
   "outputs": [],
   "source": []
  }
 ],
 "metadata": {
  "anaconda-cloud": {},
  "kernelspec": {
   "display_name": "Python 3",
   "language": "python",
   "name": "python3"
  },
  "language_info": {
   "codemirror_mode": {
    "name": "ipython",
    "version": 3
   },
   "file_extension": ".py",
   "mimetype": "text/x-python",
   "name": "python",
   "nbconvert_exporter": "python",
   "pygments_lexer": "ipython3",
   "version": "3.7.5"
  }
 },
 "nbformat": 4,
 "nbformat_minor": 1
}
