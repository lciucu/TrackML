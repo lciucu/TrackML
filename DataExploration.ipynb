{
 "cells": [
  {
   "cell_type": "code",
   "execution_count": 1,
   "metadata": {},
   "outputs": [],
   "source": [
    "import pandas as pd\n",
    "import matplotlib.pyplot as plt\n",
    "import numpy as np"
   ]
  },
  {
   "cell_type": "code",
   "execution_count": 2,
   "metadata": {},
   "outputs": [],
   "source": [
    "inputFolderName=\"/Users/luizaadelinaciucu/Work/ATLAS/TrackML/input/ttbar_mu200-generic\"\n",
    "outputFolderName=\"/Users/luizaadelinaciucu/Work/ATLAS/TrackML/output2\"\n",
    "eventNumber=\"000000099\"\n",
    "inputFileName_hits_recon=inputFolderName+\"/event\"+eventNumber+\"-hits.csv\"\n",
    "inputFileName_hits_truth=inputFolderName+\"/event\"+eventNumber+\"-truth.csv\""
   ]
  },
  {
   "cell_type": "code",
   "execution_count": 3,
   "metadata": {},
   "outputs": [
    {
     "data": {
      "text/html": [
       "<div>\n",
       "<style scoped>\n",
       "    .dataframe tbody tr th:only-of-type {\n",
       "        vertical-align: middle;\n",
       "    }\n",
       "\n",
       "    .dataframe tbody tr th {\n",
       "        vertical-align: top;\n",
       "    }\n",
       "\n",
       "    .dataframe thead th {\n",
       "        text-align: right;\n",
       "    }\n",
       "</style>\n",
       "<table border=\"1\" class=\"dataframe\">\n",
       "  <thead>\n",
       "    <tr style=\"text-align: right;\">\n",
       "      <th></th>\n",
       "      <th>hit_id</th>\n",
       "      <th>x</th>\n",
       "      <th>y</th>\n",
       "      <th>z</th>\n",
       "      <th>volume_id</th>\n",
       "      <th>layer_id</th>\n",
       "      <th>module_id</th>\n",
       "    </tr>\n",
       "  </thead>\n",
       "  <tbody>\n",
       "    <tr>\n",
       "      <th>0</th>\n",
       "      <td>0</td>\n",
       "      <td>53.6895</td>\n",
       "      <td>8.81461</td>\n",
       "      <td>-1502.5</td>\n",
       "      <td>7</td>\n",
       "      <td>2</td>\n",
       "      <td>1</td>\n",
       "    </tr>\n",
       "    <tr>\n",
       "      <th>1</th>\n",
       "      <td>1</td>\n",
       "      <td>70.7608</td>\n",
       "      <td>7.70057</td>\n",
       "      <td>-1502.5</td>\n",
       "      <td>7</td>\n",
       "      <td>2</td>\n",
       "      <td>1</td>\n",
       "    </tr>\n",
       "    <tr>\n",
       "      <th>2</th>\n",
       "      <td>2</td>\n",
       "      <td>80.2306</td>\n",
       "      <td>11.40500</td>\n",
       "      <td>-1502.5</td>\n",
       "      <td>7</td>\n",
       "      <td>2</td>\n",
       "      <td>1</td>\n",
       "    </tr>\n",
       "    <tr>\n",
       "      <th>3</th>\n",
       "      <td>3</td>\n",
       "      <td>63.7141</td>\n",
       "      <td>4.03639</td>\n",
       "      <td>-1502.5</td>\n",
       "      <td>7</td>\n",
       "      <td>2</td>\n",
       "      <td>1</td>\n",
       "    </tr>\n",
       "    <tr>\n",
       "      <th>4</th>\n",
       "      <td>4</td>\n",
       "      <td>63.8302</td>\n",
       "      <td>3.99537</td>\n",
       "      <td>-1502.5</td>\n",
       "      <td>7</td>\n",
       "      <td>2</td>\n",
       "      <td>1</td>\n",
       "    </tr>\n",
       "  </tbody>\n",
       "</table>\n",
       "</div>"
      ],
      "text/plain": [
       "   hit_id        x         y       z  volume_id  layer_id  module_id\n",
       "0       0  53.6895   8.81461 -1502.5          7         2          1\n",
       "1       1  70.7608   7.70057 -1502.5          7         2          1\n",
       "2       2  80.2306  11.40500 -1502.5          7         2          1\n",
       "3       3  63.7141   4.03639 -1502.5          7         2          1\n",
       "4       4  63.8302   3.99537 -1502.5          7         2          1"
      ]
     },
     "execution_count": 3,
     "metadata": {},
     "output_type": "execute_result"
    }
   ],
   "source": [
    "df_hits_recon=pd.read_csv(inputFileName_hits_recon)\n",
    "df_hits_recon.head()"
   ]
  },
  {
   "cell_type": "code",
   "execution_count": 4,
   "metadata": {},
   "outputs": [
    {
     "data": {
      "text/html": [
       "<div>\n",
       "<style scoped>\n",
       "    .dataframe tbody tr th:only-of-type {\n",
       "        vertical-align: middle;\n",
       "    }\n",
       "\n",
       "    .dataframe tbody tr th {\n",
       "        vertical-align: top;\n",
       "    }\n",
       "\n",
       "    .dataframe thead th {\n",
       "        text-align: right;\n",
       "    }\n",
       "</style>\n",
       "<table border=\"1\" class=\"dataframe\">\n",
       "  <thead>\n",
       "    <tr style=\"text-align: right;\">\n",
       "      <th></th>\n",
       "      <th>hit_id</th>\n",
       "      <th>particle_id</th>\n",
       "      <th>tx</th>\n",
       "      <th>ty</th>\n",
       "      <th>tz</th>\n",
       "      <th>tpx</th>\n",
       "      <th>tpy</th>\n",
       "      <th>tpz</th>\n",
       "    </tr>\n",
       "  </thead>\n",
       "  <tbody>\n",
       "    <tr>\n",
       "      <th>0</th>\n",
       "      <td>0</td>\n",
       "      <td>18014467228958720</td>\n",
       "      <td>53.6668</td>\n",
       "      <td>8.82130</td>\n",
       "      <td>-1502.5</td>\n",
       "      <td>0.973584</td>\n",
       "      <td>0.159988</td>\n",
       "      <td>-28.120100</td>\n",
       "    </tr>\n",
       "    <tr>\n",
       "      <th>1</th>\n",
       "      <td>1</td>\n",
       "      <td>22528787094700032</td>\n",
       "      <td>70.7375</td>\n",
       "      <td>7.71636</td>\n",
       "      <td>-1502.5</td>\n",
       "      <td>0.213369</td>\n",
       "      <td>0.023315</td>\n",
       "      <td>-4.386220</td>\n",
       "    </tr>\n",
       "    <tr>\n",
       "      <th>2</th>\n",
       "      <td>2</td>\n",
       "      <td>63052593806442496</td>\n",
       "      <td>80.2098</td>\n",
       "      <td>11.40200</td>\n",
       "      <td>-1502.5</td>\n",
       "      <td>0.050232</td>\n",
       "      <td>0.007147</td>\n",
       "      <td>-0.985516</td>\n",
       "    </tr>\n",
       "    <tr>\n",
       "      <th>3</th>\n",
       "      <td>3</td>\n",
       "      <td>103588701304520704</td>\n",
       "      <td>63.7169</td>\n",
       "      <td>4.02437</td>\n",
       "      <td>-1502.5</td>\n",
       "      <td>0.196107</td>\n",
       "      <td>0.012337</td>\n",
       "      <td>-4.797500</td>\n",
       "    </tr>\n",
       "    <tr>\n",
       "      <th>4</th>\n",
       "      <td>4</td>\n",
       "      <td>117101080734597120</td>\n",
       "      <td>63.8096</td>\n",
       "      <td>4.00231</td>\n",
       "      <td>-1502.5</td>\n",
       "      <td>0.049758</td>\n",
       "      <td>0.003124</td>\n",
       "      <td>-1.159650</td>\n",
       "    </tr>\n",
       "  </tbody>\n",
       "</table>\n",
       "</div>"
      ],
      "text/plain": [
       "   hit_id         particle_id       tx        ty      tz       tpx       tpy  \\\n",
       "0       0   18014467228958720  53.6668   8.82130 -1502.5  0.973584  0.159988   \n",
       "1       1   22528787094700032  70.7375   7.71636 -1502.5  0.213369  0.023315   \n",
       "2       2   63052593806442496  80.2098  11.40200 -1502.5  0.050232  0.007147   \n",
       "3       3  103588701304520704  63.7169   4.02437 -1502.5  0.196107  0.012337   \n",
       "4       4  117101080734597120  63.8096   4.00231 -1502.5  0.049758  0.003124   \n",
       "\n",
       "         tpz  \n",
       "0 -28.120100  \n",
       "1  -4.386220  \n",
       "2  -0.985516  \n",
       "3  -4.797500  \n",
       "4  -1.159650  "
      ]
     },
     "execution_count": 4,
     "metadata": {},
     "output_type": "execute_result"
    }
   ],
   "source": [
    "df_hits_truth=pd.read_csv(inputFileName_hits_truth)\n",
    "df_hits_truth.head()"
   ]
  },
  {
   "cell_type": "code",
   "execution_count": 5,
   "metadata": {},
   "outputs": [
    {
     "data": {
      "text/html": [
       "<div>\n",
       "<style scoped>\n",
       "    .dataframe tbody tr th:only-of-type {\n",
       "        vertical-align: middle;\n",
       "    }\n",
       "\n",
       "    .dataframe tbody tr th {\n",
       "        vertical-align: top;\n",
       "    }\n",
       "\n",
       "    .dataframe thead th {\n",
       "        text-align: right;\n",
       "    }\n",
       "</style>\n",
       "<table border=\"1\" class=\"dataframe\">\n",
       "  <thead>\n",
       "    <tr style=\"text-align: right;\">\n",
       "      <th></th>\n",
       "      <th>hit_id</th>\n",
       "      <th>x</th>\n",
       "      <th>y</th>\n",
       "      <th>z</th>\n",
       "      <th>volume_id</th>\n",
       "      <th>layer_id</th>\n",
       "      <th>module_id</th>\n",
       "      <th>hit_id</th>\n",
       "      <th>particle_id</th>\n",
       "      <th>tx</th>\n",
       "      <th>ty</th>\n",
       "      <th>tz</th>\n",
       "      <th>tpx</th>\n",
       "      <th>tpy</th>\n",
       "      <th>tpz</th>\n",
       "    </tr>\n",
       "  </thead>\n",
       "  <tbody>\n",
       "    <tr>\n",
       "      <th>0</th>\n",
       "      <td>0</td>\n",
       "      <td>53.6895</td>\n",
       "      <td>8.81461</td>\n",
       "      <td>-1502.5</td>\n",
       "      <td>7</td>\n",
       "      <td>2</td>\n",
       "      <td>1</td>\n",
       "      <td>0</td>\n",
       "      <td>18014467228958720</td>\n",
       "      <td>53.6668</td>\n",
       "      <td>8.82130</td>\n",
       "      <td>-1502.5</td>\n",
       "      <td>0.973584</td>\n",
       "      <td>0.159988</td>\n",
       "      <td>-28.120100</td>\n",
       "    </tr>\n",
       "    <tr>\n",
       "      <th>1</th>\n",
       "      <td>1</td>\n",
       "      <td>70.7608</td>\n",
       "      <td>7.70057</td>\n",
       "      <td>-1502.5</td>\n",
       "      <td>7</td>\n",
       "      <td>2</td>\n",
       "      <td>1</td>\n",
       "      <td>1</td>\n",
       "      <td>22528787094700032</td>\n",
       "      <td>70.7375</td>\n",
       "      <td>7.71636</td>\n",
       "      <td>-1502.5</td>\n",
       "      <td>0.213369</td>\n",
       "      <td>0.023315</td>\n",
       "      <td>-4.386220</td>\n",
       "    </tr>\n",
       "    <tr>\n",
       "      <th>2</th>\n",
       "      <td>2</td>\n",
       "      <td>80.2306</td>\n",
       "      <td>11.40500</td>\n",
       "      <td>-1502.5</td>\n",
       "      <td>7</td>\n",
       "      <td>2</td>\n",
       "      <td>1</td>\n",
       "      <td>2</td>\n",
       "      <td>63052593806442496</td>\n",
       "      <td>80.2098</td>\n",
       "      <td>11.40200</td>\n",
       "      <td>-1502.5</td>\n",
       "      <td>0.050232</td>\n",
       "      <td>0.007147</td>\n",
       "      <td>-0.985516</td>\n",
       "    </tr>\n",
       "    <tr>\n",
       "      <th>3</th>\n",
       "      <td>3</td>\n",
       "      <td>63.7141</td>\n",
       "      <td>4.03639</td>\n",
       "      <td>-1502.5</td>\n",
       "      <td>7</td>\n",
       "      <td>2</td>\n",
       "      <td>1</td>\n",
       "      <td>3</td>\n",
       "      <td>103588701304520704</td>\n",
       "      <td>63.7169</td>\n",
       "      <td>4.02437</td>\n",
       "      <td>-1502.5</td>\n",
       "      <td>0.196107</td>\n",
       "      <td>0.012337</td>\n",
       "      <td>-4.797500</td>\n",
       "    </tr>\n",
       "    <tr>\n",
       "      <th>4</th>\n",
       "      <td>4</td>\n",
       "      <td>63.8302</td>\n",
       "      <td>3.99537</td>\n",
       "      <td>-1502.5</td>\n",
       "      <td>7</td>\n",
       "      <td>2</td>\n",
       "      <td>1</td>\n",
       "      <td>4</td>\n",
       "      <td>117101080734597120</td>\n",
       "      <td>63.8096</td>\n",
       "      <td>4.00231</td>\n",
       "      <td>-1502.5</td>\n",
       "      <td>0.049758</td>\n",
       "      <td>0.003124</td>\n",
       "      <td>-1.159650</td>\n",
       "    </tr>\n",
       "  </tbody>\n",
       "</table>\n",
       "</div>"
      ],
      "text/plain": [
       "   hit_id        x         y       z  volume_id  layer_id  module_id  hit_id  \\\n",
       "0       0  53.6895   8.81461 -1502.5          7         2          1       0   \n",
       "1       1  70.7608   7.70057 -1502.5          7         2          1       1   \n",
       "2       2  80.2306  11.40500 -1502.5          7         2          1       2   \n",
       "3       3  63.7141   4.03639 -1502.5          7         2          1       3   \n",
       "4       4  63.8302   3.99537 -1502.5          7         2          1       4   \n",
       "\n",
       "          particle_id       tx        ty      tz       tpx       tpy  \\\n",
       "0   18014467228958720  53.6668   8.82130 -1502.5  0.973584  0.159988   \n",
       "1   22528787094700032  70.7375   7.71636 -1502.5  0.213369  0.023315   \n",
       "2   63052593806442496  80.2098  11.40200 -1502.5  0.050232  0.007147   \n",
       "3  103588701304520704  63.7169   4.02437 -1502.5  0.196107  0.012337   \n",
       "4  117101080734597120  63.8096   4.00231 -1502.5  0.049758  0.003124   \n",
       "\n",
       "         tpz  \n",
       "0 -28.120100  \n",
       "1  -4.386220  \n",
       "2  -0.985516  \n",
       "3  -4.797500  \n",
       "4  -1.159650  "
      ]
     },
     "execution_count": 5,
     "metadata": {},
     "output_type": "execute_result"
    }
   ],
   "source": [
    "# combine truth and recon\n",
    "\n",
    "df_hits=pd.concat([df_hits_recon,df_hits_truth],axis=1,sort=False)\n",
    "df_hits.head()"
   ]
  },
  {
   "cell_type": "code",
   "execution_count": 6,
   "metadata": {},
   "outputs": [],
   "source": [
    "nparray_volume_id=df_hits[\"volume_id\"].values\n",
    "nparray_layer_id=df_hits[\"layer_id\"].values\n",
    "nparray_module_id=df_hits[\"module_id\"].values\n",
    "nparray_z=df_hits[\"z\"].values\n",
    "nparray_r=np.sqrt(df_hits[\"x\"].values**2+df_hits[\"y\"].values**2)\n",
    "nparray_particle_id=df_hits[\"particle_id\"].values\n",
    "nrHits=len(nparray_volume_id) # or nrHits=nparray_volume_id.shape[0]"
   ]
  },
  {
   "cell_type": "code",
   "execution_count": 7,
   "metadata": {},
   "outputs": [
    {
     "data": {
      "text/plain": [
       "(array([    0.,     0.,     0.,     0.,     0.,     0.,     0., 19705.,\n",
       "        29600., 19483.,     0.,     0.,  8852., 19902.,  8318.,     0.,\n",
       "         2836.,  5662.,  2535.,     0.]),\n",
       " array([ 0,  1,  2,  3,  4,  5,  6,  7,  8,  9, 10, 11, 12, 13, 14, 15, 16,\n",
       "        17, 18, 19, 20]),\n",
       " <a list of 20 Patch objects>)"
      ]
     },
     "execution_count": 7,
     "metadata": {},
     "output_type": "execute_result"
    },
    {
     "data": {
      "image/png": "[encoded data removed]",
      "text/plain": [
       "<Figure size 432x288 with 1 Axes>"
      ]
     },
     "metadata": {
      "needs_background": "light"
     },
     "output_type": "display_data"
    }
   ],
   "source": [
    "plt.hist(nparray_volume_id,bins=range(0,21,1))"
   ]
  },
  {
   "cell_type": "code",
   "execution_count": 8,
   "metadata": {},
   "outputs": [
    {
     "data": {
      "text/plain": [
       "(array([    0.,     0., 29124.,     0., 24923.,     0., 20030.,     0.,\n",
       "        18354.,     0.,  9433.,     0.,  9438.,     0.,  5591.,     0.]),\n",
       " array([ 0,  1,  2,  3,  4,  5,  6,  7,  8,  9, 10, 11, 12, 13, 14, 15, 16]),\n",
       " <a list of 16 Patch objects>)"
      ]
     },
     "execution_count": 8,
     "metadata": {},
     "output_type": "execute_result"
    },
    {
     "data": {
      "image/png": "[encoded data removed]",
      "text/plain": [
       "<Figure size 432x288 with 1 Axes>"
      ]
     },
     "metadata": {
      "needs_background": "light"
     },
     "output_type": "display_data"
    }
   ],
   "source": [
    "plt.hist(nparray_layer_id,bins=range(0,17,1))"
   ]
  },
  {
   "cell_type": "code",
   "execution_count": 9,
   "metadata": {},
   "outputs": [
    {
     "data": {
      "text/plain": [
       "(array([4.1361e+04, 2.0925e+04, 1.1839e+04, 5.6190e+03, 3.7000e+03,\n",
       "        2.9480e+03, 2.6600e+03, 2.7660e+03, 2.4960e+03, 2.1230e+03,\n",
       "        1.9350e+03, 1.6740e+03, 1.7090e+03, 1.5360e+03, 1.3030e+03,\n",
       "        1.0860e+03, 9.6100e+02, 7.2200e+02, 7.5500e+02, 7.7400e+02,\n",
       "        7.2200e+02, 6.7000e+02, 4.8200e+02, 4.1000e+02, 3.1600e+02,\n",
       "        3.1200e+02, 3.2100e+02, 3.2400e+02, 3.3000e+02, 2.9400e+02,\n",
       "        3.0800e+02, 2.7200e+02, 2.8000e+02, 2.1600e+02, 1.9300e+02,\n",
       "        1.7900e+02, 1.8000e+02, 1.6600e+02, 1.7000e+02, 1.4900e+02,\n",
       "        1.4900e+02, 1.6900e+02, 1.6700e+02, 1.1300e+02, 9.4000e+01,\n",
       "        1.1000e+02, 8.3000e+01, 8.0000e+01, 9.9000e+01, 9.4000e+01,\n",
       "        5.1000e+01, 5.1000e+01, 4.1000e+01, 3.7000e+01, 4.0000e+01,\n",
       "        4.6000e+01, 2.7000e+01, 4.6000e+01, 4.4000e+01, 3.7000e+01,\n",
       "        3.8000e+01, 4.2000e+01, 2.5000e+01, 2.4000e+01, 0.0000e+00,\n",
       "        0.0000e+00, 0.0000e+00, 0.0000e+00, 0.0000e+00]),\n",
       " array([   0,   50,  100,  150,  200,  250,  300,  350,  400,  450,  500,\n",
       "         550,  600,  650,  700,  750,  800,  850,  900,  950, 1000, 1050,\n",
       "        1100, 1150, 1200, 1250, 1300, 1350, 1400, 1450, 1500, 1550, 1600,\n",
       "        1650, 1700, 1750, 1800, 1850, 1900, 1950, 2000, 2050, 2100, 2150,\n",
       "        2200, 2250, 2300, 2350, 2400, 2450, 2500, 2550, 2600, 2650, 2700,\n",
       "        2750, 2800, 2850, 2900, 2950, 3000, 3050, 3100, 3150, 3200, 3250,\n",
       "        3300, 3350, 3400, 3450]),\n",
       " <a list of 69 Patch objects>)"
      ]
     },
     "execution_count": 9,
     "metadata": {},
     "output_type": "execute_result"
    },
    {
     "data": {
      "image/png": "[encoded data removed]",
      "text/plain": [
       "<Figure size 432x288 with 1 Axes>"
      ]
     },
     "metadata": {
      "needs_background": "light"
     },
     "output_type": "display_data"
    }
   ],
   "source": [
    "plt.hist(nparray_module_id,bins=range(0,3500,50))"
   ]
  },
  {
   "cell_type": "code",
   "execution_count": 10,
   "metadata": {},
   "outputs": [
    {
     "data": {
      "text/plain": [
       "(array([1935.,    0.,    0.,    0.,    0.,    0., 1939.,    0.,    0.,\n",
       "           0.,    0.,    0.,    0., 1982.,    0.,    0.,    0.,    0.,\n",
       "           0., 1988.,    0.,    0.,    0.,    0., 4636.,    0.,    0.,\n",
       "        1213., 1503., 1904.,    0., 2924.,  441., 3333.,  522.,  516.,\n",
       "        3486.,  538., 3490., 3501.,  761.,  870., 1582., 1823., 1827.,\n",
       "        2275., 2669., 3444., 4361., 4856., 4488., 3716., 2981., 2405.,\n",
       "        2087., 1846., 1597., 1533.,  858.,  639., 3457., 3437.,  495.,\n",
       "        3321.,  513.,  443., 3188.,  390., 2867.,    0., 1677., 1508.,\n",
       "        1263.,    0.,    0., 4469.,    0.,    0.,    0.,    0., 1792.,\n",
       "           0.,    0.,    0.,    0.,    0., 1876.,    0.,    0.,    0.,\n",
       "           0.,    0.,    0., 1861.,    0.,    0.,    0.,    0.,    0.,\n",
       "        1867.]),\n",
       " array([-2955.5 , -2896.39, -2837.28, -2778.17, -2719.06, -2659.95,\n",
       "        -2600.84, -2541.73, -2482.62, -2423.51, -2364.4 , -2305.29,\n",
       "        -2246.18, -2187.07, -2127.96, -2068.85, -2009.74, -1950.63,\n",
       "        -1891.52, -1832.41, -1773.3 , -1714.19, -1655.08, -1595.97,\n",
       "        -1536.86, -1477.75, -1418.64, -1359.53, -1300.42, -1241.31,\n",
       "        -1182.2 , -1123.09, -1063.98, -1004.87,  -945.76,  -886.65,\n",
       "         -827.54,  -768.43,  -709.32,  -650.21,  -591.1 ,  -531.99,\n",
       "         -472.88,  -413.77,  -354.66,  -295.55,  -236.44,  -177.33,\n",
       "         -118.22,   -59.11,     0.  ,    59.11,   118.22,   177.33,\n",
       "          236.44,   295.55,   354.66,   413.77,   472.88,   531.99,\n",
       "          591.1 ,   650.21,   709.32,   768.43,   827.54,   886.65,\n",
       "          945.76,  1004.87,  1063.98,  1123.09,  1182.2 ,  1241.31,\n",
       "         1300.42,  1359.53,  1418.64,  1477.75,  1536.86,  1595.97,\n",
       "         1655.08,  1714.19,  1773.3 ,  1832.41,  1891.52,  1950.63,\n",
       "         2009.74,  2068.85,  2127.96,  2187.07,  2246.18,  2305.29,\n",
       "         2364.4 ,  2423.51,  2482.62,  2541.73,  2600.84,  2659.95,\n",
       "         2719.06,  2778.17,  2837.28,  2896.39,  2955.5 ]),\n",
       " <a list of 100 Patch objects>)"
      ]
     },
     "execution_count": 10,
     "metadata": {},
     "output_type": "execute_result"
    },
    {
     "data": {
      "image/png": "[encoded data removed]",
      "text/plain": [
       "<Figure size 432x288 with 1 Axes>"
      ]
     },
     "metadata": {
      "needs_background": "light"
     },
     "output_type": "display_data"
    }
   ],
   "source": [
    "plt.hist(nparray_z,bins=100)"
   ]
  },
  {
   "cell_type": "code",
   "execution_count": 11,
   "metadata": {},
   "outputs": [
    {
     "data": {
      "text/plain": [
       "(array([17793.,  5396.,  4158.,  3389., 10349.,  2207.,  1907.,  1812.,\n",
       "         8431.,  1999.,  1596.,  1478.,  1270.,  1085.,  5918.,     0.,\n",
       "            0.,     0.,     0.,     0.,     0.,   700.,  2508.,  5184.,\n",
       "          601.,   623.,   584.,   507.,   501.,   482.,   447.,   412.,\n",
       "         1753.,  4461.,   348.,   362.,   522.,   389.,   407.,   351.,\n",
       "          389.,   392.,   337.,   357.,   339.,   301.,  1196.,  3823.,\n",
       "          299.,   272.,   236.,   331.,   325.,   340.,   312.,   275.,\n",
       "          307.,   251.,   272.,   252.,   240.,   254.,   754.,  3382.,\n",
       "          223.,   204.,   208.,    59.,     0.,     0.,     0.,     0.,\n",
       "          178.,   211.,   144.,   137.,   185.,   207.,   462.,  2943.,\n",
       "          198.,   167.,   212.,   176.,   344.,   340.,   361.,   349.,\n",
       "          189.,   204.,   151.,   151.,   146.,   153.,   163.,   134.,\n",
       "          129.,   126.,   195.,  2678.]),\n",
       " array([  30.02864632,   39.9818199 ,   49.93499348,   59.88816705,\n",
       "          69.84134063,   79.79451421,   89.74768778,   99.70086136,\n",
       "         109.65403493,  119.60720851,  129.56038209,  139.51355566,\n",
       "         149.46672924,  159.41990282,  169.37307639,  179.32624997,\n",
       "         189.27942355,  199.23259712,  209.1857707 ,  219.13894427,\n",
       "         229.09211785,  239.04529143,  248.998465  ,  258.95163858,\n",
       "         268.90481216,  278.85798573,  288.81115931,  298.76433289,\n",
       "         308.71750646,  318.67068004,  328.62385361,  338.57702719,\n",
       "         348.53020077,  358.48337434,  368.43654792,  378.3897215 ,\n",
       "         388.34289507,  398.29606865,  408.24924223,  418.2024158 ,\n",
       "         428.15558938,  438.10876296,  448.06193653,  458.01511011,\n",
       "         467.96828368,  477.92145726,  487.87463084,  497.82780441,\n",
       "         507.78097799,  517.73415157,  527.68732514,  537.64049872,\n",
       "         547.5936723 ,  557.54684587,  567.50001945,  577.45319302,\n",
       "         587.4063666 ,  597.35954018,  607.31271375,  617.26588733,\n",
       "         627.21906091,  637.17223448,  647.12540806,  657.07858164,\n",
       "         667.03175521,  676.98492879,  686.93810237,  696.89127594,\n",
       "         706.84444952,  716.79762309,  726.75079667,  736.70397025,\n",
       "         746.65714382,  756.6103174 ,  766.56349098,  776.51666455,\n",
       "         786.46983813,  796.42301171,  806.37618528,  816.32935886,\n",
       "         826.28253243,  836.23570601,  846.18887959,  856.14205316,\n",
       "         866.09522674,  876.04840032,  886.00157389,  895.95474747,\n",
       "         905.90792105,  915.86109462,  925.8142682 ,  935.76744178,\n",
       "         945.72061535,  955.67378893,  965.6269625 ,  975.58013608,\n",
       "         985.53330966,  995.48648323, 1005.43965681, 1015.39283039,\n",
       "        1025.34600396]),\n",
       " <a list of 100 Patch objects>)"
      ]
     },
     "execution_count": 11,
     "metadata": {},
     "output_type": "execute_result"
    },
    {
     "data": {
      "image/png": "[encoded data removed]",
      "text/plain": [
       "<Figure size 432x288 with 1 Axes>"
      ]
     },
     "metadata": {
      "needs_background": "light"
     },
     "output_type": "display_data"
    }
   ],
   "source": [
    "plt.hist(nparray_r,bins=100)"
   ]
  },
  {
   "cell_type": "code",
   "execution_count": 12,
   "metadata": {},
   "outputs": [
    {
     "data": {
      "text/plain": [
       "(array([ 832., 1248., 2360., 1207., 1274., 2056.,  585.,  188.,  532.,\n",
       "         685.,  920., 2147., 1116., 3234., 2543.,  785.,  525., 2479.,\n",
       "         911.,  601., 1925.,  374., 2084., 1059.,  711., 3091.,  905.,\n",
       "         266., 1058.,    0., 1838.,    0.,  181., 2939.,  534.,  130.,\n",
       "        1942., 2332.,  733., 2195.,  270.,  840., 1734., 1308.,  908.,\n",
       "        1850.,  743.,  943.,  284.,  354., 2219., 2728.,   16., 1500.,\n",
       "           0.,  315., 2577., 2414.,  374.,  737., 2310.,    0., 2193.,\n",
       "        2783.,    0.,  842.,    0., 3517.,  495.,  401., 2030., 1729.,\n",
       "         860.,  453.,  691.,  249., 1180.,  759.,  689.,  110.,  712.,\n",
       "        2059.,  596.,  683.,  991., 2377.,  319., 2124.,    0.,  441.,\n",
       "         498.,  246., 1249.,  997.,  679.,  428., 1449., 2514., 4026.,\n",
       "         575.]),\n",
       " array([5.32480000e+04, 9.36754701e+15, 1.87350940e+16, 2.81026410e+16,\n",
       "        3.74701880e+16, 4.68377351e+16, 5.62052821e+16, 6.55728291e+16,\n",
       "        7.49403761e+16, 8.43079231e+16, 9.36754701e+16, 1.03043017e+17,\n",
       "        1.12410564e+17, 1.21778111e+17, 1.31145658e+17, 1.40513205e+17,\n",
       "        1.49880752e+17, 1.59248299e+17, 1.68615846e+17, 1.77983393e+17,\n",
       "        1.87350940e+17, 1.96718487e+17, 2.06086034e+17, 2.15453581e+17,\n",
       "        2.24821128e+17, 2.34188675e+17, 2.43556222e+17, 2.52923769e+17,\n",
       "        2.62291316e+17, 2.71658863e+17, 2.81026410e+17, 2.90393957e+17,\n",
       "        2.99761504e+17, 3.09129051e+17, 3.18496598e+17, 3.27864145e+17,\n",
       "        3.37231692e+17, 3.46599239e+17, 3.55966786e+17, 3.65334333e+17,\n",
       "        3.74701880e+17, 3.84069427e+17, 3.93436974e+17, 4.02804521e+17,\n",
       "        4.12172068e+17, 4.21539615e+17, 4.30907163e+17, 4.40274710e+17,\n",
       "        4.49642257e+17, 4.59009804e+17, 4.68377351e+17, 4.77744898e+17,\n",
       "        4.87112445e+17, 4.96479992e+17, 5.05847539e+17, 5.15215086e+17,\n",
       "        5.24582633e+17, 5.33950180e+17, 5.43317727e+17, 5.52685274e+17,\n",
       "        5.62052821e+17, 5.71420368e+17, 5.80787915e+17, 5.90155462e+17,\n",
       "        5.99523009e+17, 6.08890556e+17, 6.18258103e+17, 6.27625650e+17,\n",
       "        6.36993197e+17, 6.46360744e+17, 6.55728291e+17, 6.65095838e+17,\n",
       "        6.74463385e+17, 6.83830932e+17, 6.93198479e+17, 7.02566026e+17,\n",
       "        7.11933573e+17, 7.21301120e+17, 7.30668667e+17, 7.40036214e+17,\n",
       "        7.49403761e+17, 7.58771308e+17, 7.68138855e+17, 7.77506402e+17,\n",
       "        7.86873949e+17, 7.96241496e+17, 8.05609043e+17, 8.14976590e+17,\n",
       "        8.24344137e+17, 8.33711684e+17, 8.43079231e+17, 8.52446778e+17,\n",
       "        8.61814325e+17, 8.71181872e+17, 8.80549419e+17, 8.89916966e+17,\n",
       "        8.99284513e+17, 9.08652060e+17, 9.18019607e+17, 9.27387154e+17,\n",
       "        9.36754701e+17]),\n",
       " <a list of 100 Patch objects>)"
      ]
     },
     "execution_count": 12,
     "metadata": {},
     "output_type": "execute_result"
    },
    {
     "data": {
      "image/png": "[encoded data removed]",
      "text/plain": [
       "<Figure size 432x288 with 1 Axes>"
      ]
     },
     "metadata": {
      "needs_background": "light"
     },
     "output_type": "display_data"
    }
   ],
   "source": [
    "plt.hist(nparray_particle_id,bins=100)\n"
   ]
  },
  {
   "cell_type": "code",
   "execution_count": 21,
   "metadata": {},
   "outputs": [
    {
     "data": {
      "text/plain": [
       "(array([   0.,  118.,  232.,  143.,  295.,  178.,  341.,  264.,  378.,\n",
       "         455., 1230., 1871., 1966., 1448., 1059.,  496.,  187.,   72.,\n",
       "          29.,   10.,   11.,    3.]),\n",
       " array([ 0,  1,  2,  3,  4,  5,  6,  7,  8,  9, 10, 11, 12, 13, 14, 15, 16,\n",
       "        17, 18, 19, 20, 21, 22]),\n",
       " <a list of 22 Patch objects>)"
      ]
     },
     "execution_count": 21,
     "metadata": {},
     "output_type": "execute_result"
    },
    {
     "data": {
      "image/png": "[encoded data removed]",
      "text/plain": [
       "<Figure size 432x288 with 1 Axes>"
      ]
     },
     "metadata": {
      "needs_background": "light"
     },
     "output_type": "display_data"
    }
   ],
   "source": [
    "# count the number of hits for each particle;\n",
    "# from this we learn that the majority of particles have a number of hits smaller than 20, \n",
    "# so we choose a bucket size of 20\n",
    "\n",
    "# create counter dictionary\n",
    "d={}\n",
    "for i in df_hits[\"particle_id\"]:\n",
    "    if i not in d.keys():\n",
    "        d[i]=1\n",
    "    else:\n",
    "        d[i]+=1\n",
    "# done for loop \n",
    "if False:\n",
    "    for i in sorted(d.keys()):\n",
    "        print(\"particle_id\",i,\"counter\",d[i])\n",
    "        \n",
    "# plot the counter of hits for each particle in a histogram\n",
    "plt.hist(d.values(),bins=range(0,23,1))\n"
   ]
  },
  {
   "cell_type": "code",
   "execution_count": 22,
   "metadata": {},
   "outputs": [
    {
     "name": "stdout",
     "output_type": "stream",
     "text": [
      "Study nrHits 116893\n",
      "This number of indices survived 116893\n"
     ]
    },
    {
     "data": {
      "text/html": [
       "<div>\n",
       "<style scoped>\n",
       "    .dataframe tbody tr th:only-of-type {\n",
       "        vertical-align: middle;\n",
       "    }\n",
       "\n",
       "    .dataframe tbody tr th {\n",
       "        vertical-align: top;\n",
       "    }\n",
       "\n",
       "    .dataframe thead th {\n",
       "        text-align: right;\n",
       "    }\n",
       "</style>\n",
       "<table border=\"1\" class=\"dataframe\">\n",
       "  <thead>\n",
       "    <tr style=\"text-align: right;\">\n",
       "      <th></th>\n",
       "      <th>hit_id</th>\n",
       "      <th>x</th>\n",
       "      <th>y</th>\n",
       "      <th>z</th>\n",
       "      <th>volume_id</th>\n",
       "      <th>layer_id</th>\n",
       "      <th>module_id</th>\n",
       "      <th>hit_id</th>\n",
       "      <th>particle_id</th>\n",
       "      <th>tx</th>\n",
       "      <th>ty</th>\n",
       "      <th>tz</th>\n",
       "      <th>tpx</th>\n",
       "      <th>tpy</th>\n",
       "      <th>tpz</th>\n",
       "    </tr>\n",
       "  </thead>\n",
       "  <tbody>\n",
       "    <tr>\n",
       "      <th>0</th>\n",
       "      <td>0</td>\n",
       "      <td>53.6895</td>\n",
       "      <td>8.81461</td>\n",
       "      <td>-1502.5</td>\n",
       "      <td>7</td>\n",
       "      <td>2</td>\n",
       "      <td>1</td>\n",
       "      <td>0</td>\n",
       "      <td>18014467228958720</td>\n",
       "      <td>53.6668</td>\n",
       "      <td>8.82130</td>\n",
       "      <td>-1502.5</td>\n",
       "      <td>0.973584</td>\n",
       "      <td>0.159988</td>\n",
       "      <td>-28.120100</td>\n",
       "    </tr>\n",
       "    <tr>\n",
       "      <th>1</th>\n",
       "      <td>1</td>\n",
       "      <td>70.7608</td>\n",
       "      <td>7.70057</td>\n",
       "      <td>-1502.5</td>\n",
       "      <td>7</td>\n",
       "      <td>2</td>\n",
       "      <td>1</td>\n",
       "      <td>1</td>\n",
       "      <td>22528787094700032</td>\n",
       "      <td>70.7375</td>\n",
       "      <td>7.71636</td>\n",
       "      <td>-1502.5</td>\n",
       "      <td>0.213369</td>\n",
       "      <td>0.023315</td>\n",
       "      <td>-4.386220</td>\n",
       "    </tr>\n",
       "    <tr>\n",
       "      <th>2</th>\n",
       "      <td>2</td>\n",
       "      <td>80.2306</td>\n",
       "      <td>11.40500</td>\n",
       "      <td>-1502.5</td>\n",
       "      <td>7</td>\n",
       "      <td>2</td>\n",
       "      <td>1</td>\n",
       "      <td>2</td>\n",
       "      <td>63052593806442496</td>\n",
       "      <td>80.2098</td>\n",
       "      <td>11.40200</td>\n",
       "      <td>-1502.5</td>\n",
       "      <td>0.050232</td>\n",
       "      <td>0.007147</td>\n",
       "      <td>-0.985516</td>\n",
       "    </tr>\n",
       "    <tr>\n",
       "      <th>3</th>\n",
       "      <td>3</td>\n",
       "      <td>63.7141</td>\n",
       "      <td>4.03639</td>\n",
       "      <td>-1502.5</td>\n",
       "      <td>7</td>\n",
       "      <td>2</td>\n",
       "      <td>1</td>\n",
       "      <td>3</td>\n",
       "      <td>103588701304520704</td>\n",
       "      <td>63.7169</td>\n",
       "      <td>4.02437</td>\n",
       "      <td>-1502.5</td>\n",
       "      <td>0.196107</td>\n",
       "      <td>0.012337</td>\n",
       "      <td>-4.797500</td>\n",
       "    </tr>\n",
       "    <tr>\n",
       "      <th>4</th>\n",
       "      <td>4</td>\n",
       "      <td>63.8302</td>\n",
       "      <td>3.99537</td>\n",
       "      <td>-1502.5</td>\n",
       "      <td>7</td>\n",
       "      <td>2</td>\n",
       "      <td>1</td>\n",
       "      <td>4</td>\n",
       "      <td>117101080734597120</td>\n",
       "      <td>63.8096</td>\n",
       "      <td>4.00231</td>\n",
       "      <td>-1502.5</td>\n",
       "      <td>0.049758</td>\n",
       "      <td>0.003124</td>\n",
       "      <td>-1.159650</td>\n",
       "    </tr>\n",
       "    <tr>\n",
       "      <th>...</th>\n",
       "      <td>...</td>\n",
       "      <td>...</td>\n",
       "      <td>...</td>\n",
       "      <td>...</td>\n",
       "      <td>...</td>\n",
       "      <td>...</td>\n",
       "      <td>...</td>\n",
       "      <td>...</td>\n",
       "      <td>...</td>\n",
       "      <td>...</td>\n",
       "      <td>...</td>\n",
       "      <td>...</td>\n",
       "      <td>...</td>\n",
       "      <td>...</td>\n",
       "      <td>...</td>\n",
       "    </tr>\n",
       "    <tr>\n",
       "      <th>116888</th>\n",
       "      <td>116888</td>\n",
       "      <td>-961.3640</td>\n",
       "      <td>53.08930</td>\n",
       "      <td>2952.5</td>\n",
       "      <td>18</td>\n",
       "      <td>12</td>\n",
       "      <td>98</td>\n",
       "      <td>116888</td>\n",
       "      <td>585472418324152320</td>\n",
       "      <td>-956.7110</td>\n",
       "      <td>52.81380</td>\n",
       "      <td>2952.5</td>\n",
       "      <td>-1.442520</td>\n",
       "      <td>0.079645</td>\n",
       "      <td>4.686170</td>\n",
       "    </tr>\n",
       "    <tr>\n",
       "      <th>116889</th>\n",
       "      <td>116889</td>\n",
       "      <td>-972.9560</td>\n",
       "      <td>34.46040</td>\n",
       "      <td>2952.5</td>\n",
       "      <td>18</td>\n",
       "      <td>12</td>\n",
       "      <td>98</td>\n",
       "      <td>116889</td>\n",
       "      <td>671040467646808064</td>\n",
       "      <td>-973.8240</td>\n",
       "      <td>34.57300</td>\n",
       "      <td>2952.5</td>\n",
       "      <td>-0.447856</td>\n",
       "      <td>0.015907</td>\n",
       "      <td>1.394060</td>\n",
       "    </tr>\n",
       "    <tr>\n",
       "      <th>116890</th>\n",
       "      <td>116890</td>\n",
       "      <td>-937.8320</td>\n",
       "      <td>95.85610</td>\n",
       "      <td>2952.5</td>\n",
       "      <td>18</td>\n",
       "      <td>12</td>\n",
       "      <td>98</td>\n",
       "      <td>116890</td>\n",
       "      <td>765613654639902720</td>\n",
       "      <td>-937.8470</td>\n",
       "      <td>95.88900</td>\n",
       "      <td>2952.5</td>\n",
       "      <td>-0.404170</td>\n",
       "      <td>0.041329</td>\n",
       "      <td>1.265240</td>\n",
       "    </tr>\n",
       "    <tr>\n",
       "      <th>116891</th>\n",
       "      <td>116891</td>\n",
       "      <td>-901.0230</td>\n",
       "      <td>18.39200</td>\n",
       "      <td>2952.5</td>\n",
       "      <td>18</td>\n",
       "      <td>12</td>\n",
       "      <td>98</td>\n",
       "      <td>116891</td>\n",
       "      <td>765620801465483264</td>\n",
       "      <td>-896.3470</td>\n",
       "      <td>18.07520</td>\n",
       "      <td>2952.5</td>\n",
       "      <td>-0.147255</td>\n",
       "      <td>0.002971</td>\n",
       "      <td>0.482319</td>\n",
       "    </tr>\n",
       "    <tr>\n",
       "      <th>116892</th>\n",
       "      <td>116892</td>\n",
       "      <td>-876.7830</td>\n",
       "      <td>72.41660</td>\n",
       "      <td>2952.5</td>\n",
       "      <td>18</td>\n",
       "      <td>12</td>\n",
       "      <td>98</td>\n",
       "      <td>116892</td>\n",
       "      <td>851182322437849088</td>\n",
       "      <td>-878.9670</td>\n",
       "      <td>72.61180</td>\n",
       "      <td>2952.5</td>\n",
       "      <td>-1.352290</td>\n",
       "      <td>0.111683</td>\n",
       "      <td>4.583150</td>\n",
       "    </tr>\n",
       "  </tbody>\n",
       "</table>\n",
       "<p>116893 rows × 15 columns</p>\n",
       "</div>"
      ],
      "text/plain": [
       "        hit_id         x         y       z  volume_id  layer_id  module_id  \\\n",
       "0            0   53.6895   8.81461 -1502.5          7         2          1   \n",
       "1            1   70.7608   7.70057 -1502.5          7         2          1   \n",
       "2            2   80.2306  11.40500 -1502.5          7         2          1   \n",
       "3            3   63.7141   4.03639 -1502.5          7         2          1   \n",
       "4            4   63.8302   3.99537 -1502.5          7         2          1   \n",
       "...        ...       ...       ...     ...        ...       ...        ...   \n",
       "116888  116888 -961.3640  53.08930  2952.5         18        12         98   \n",
       "116889  116889 -972.9560  34.46040  2952.5         18        12         98   \n",
       "116890  116890 -937.8320  95.85610  2952.5         18        12         98   \n",
       "116891  116891 -901.0230  18.39200  2952.5         18        12         98   \n",
       "116892  116892 -876.7830  72.41660  2952.5         18        12         98   \n",
       "\n",
       "        hit_id         particle_id        tx        ty      tz       tpx  \\\n",
       "0            0   18014467228958720   53.6668   8.82130 -1502.5  0.973584   \n",
       "1            1   22528787094700032   70.7375   7.71636 -1502.5  0.213369   \n",
       "2            2   63052593806442496   80.2098  11.40200 -1502.5  0.050232   \n",
       "3            3  103588701304520704   63.7169   4.02437 -1502.5  0.196107   \n",
       "4            4  117101080734597120   63.8096   4.00231 -1502.5  0.049758   \n",
       "...        ...                 ...       ...       ...     ...       ...   \n",
       "116888  116888  585472418324152320 -956.7110  52.81380  2952.5 -1.442520   \n",
       "116889  116889  671040467646808064 -973.8240  34.57300  2952.5 -0.447856   \n",
       "116890  116890  765613654639902720 -937.8470  95.88900  2952.5 -0.404170   \n",
       "116891  116891  765620801465483264 -896.3470  18.07520  2952.5 -0.147255   \n",
       "116892  116892  851182322437849088 -878.9670  72.61180  2952.5 -1.352290   \n",
       "\n",
       "             tpy        tpz  \n",
       "0       0.159988 -28.120100  \n",
       "1       0.023315  -4.386220  \n",
       "2       0.007147  -0.985516  \n",
       "3       0.012337  -4.797500  \n",
       "4       0.003124  -1.159650  \n",
       "...          ...        ...  \n",
       "116888  0.079645   4.686170  \n",
       "116889  0.015907   1.394060  \n",
       "116890  0.041329   1.265240  \n",
       "116891  0.002971   0.482319  \n",
       "116892  0.111683   4.583150  \n",
       "\n",
       "[116893 rows x 15 columns]"
      ]
     },
     "execution_count": 22,
     "metadata": {},
     "output_type": "execute_result"
    }
   ],
   "source": [
    "debug=False\n",
    "\n",
    "# create list of indices to keep as a subset of all indices\n",
    "list_index=[]\n",
    "\n",
    "nparray_volume_id=df_hits[\"volume_id\"].values\n",
    "nparray_layer_id=df_hits[\"layer_id\"].values\n",
    "nparray_module_id=df_hits[\"module_id\"].values\n",
    "nparray_z=df_hits[\"z\"].values\n",
    "nparray_r=np.sqrt(df_hits[\"x\"].values**2+df_hits[\"y\"].values**2)\n",
    "nrHits=len(nparray_volume_id) # or nrHits=nparray_volume_id.shape[0]\n",
    "print(\"Study nrHits\",nrHits)\n",
    "\n",
    "for i in range(nrHits):\n",
    "    # read current values for index i from the numpy arrays\n",
    "    volume_id=nparray_volume_id[i]\n",
    "    layer_id=nparray_layer_id[i]\n",
    "    module_id=nparray_module_id[i]\n",
    "    z=nparray_z[i]\n",
    "    r=nparray_r[i]\n",
    "\n",
    "    # add conditions to keep only the subset of indices we want\n",
    "    # if (volume_id==8)==False:\n",
    "        #continue\n",
    "    # if (layer_id==2)==False:\n",
    "        #continue\n",
    "    # if (module_id<2)==False:\n",
    "        #continue\n",
    "    \n",
    "    # print the current hit that survived the selection\n",
    "    # if debug:\n",
    "        #print(\"i\",i,\"volume_id\",volume_id,\"layer_id\",layer_id,\"module_id\",module_id,\"z\",z,\"r\",r)\n",
    "    \n",
    "    # add the current surviving hit to the list of indices \n",
    "    list_index.append(i)\n",
    "# done for loop\n",
    "\n",
    "print(\"This number of indices survived\",len(list_index))\n",
    "\n",
    "# create a new data frame with only the subset of hits we kept, so we call it df_reduced\n",
    "df_reduced=df_hits.iloc[list_index]\n",
    "df_reduced"
   ]
  },
  {
   "cell_type": "code",
   "execution_count": 24,
   "metadata": {},
   "outputs": [
    {
     "data": {
      "image/png": "[encoded data removed]",
      "text/plain": [
       "<Figure size 432x288 with 1 Axes>"
      ]
     },
     "metadata": {
      "needs_background": "light"
     },
     "output_type": "display_data"
    }
   ],
   "source": [
    "# for the subset of hits plot them as a 2D histogram\n",
    "# with the z-axis on the horizontal and the r-axis on the vertical\n",
    "# to look like the physical detector\n",
    "\n",
    "nparray_reduced_volume_id=df_reduced[\"volume_id\"].values\n",
    "nparray_reduced_layer_id=df_reduced[\"layer_id\"].values\n",
    "nparray_reduced_module_id=df_reduced[\"module_id\"].values\n",
    "\n",
    "nparray_reduced_z=df_reduced[\"z\"].values\n",
    "nparray_reduced_r=np.sqrt(df_reduced[\"x\"].values**2+df_reduced[\"y\"].values**2)\n",
    "plt.scatter(\n",
    "\n",
    "    nparray_reduced_z,\n",
    "    nparray_reduced_r,\n",
    "    )\n",
    "plt.ylabel(\"radius [mm]\")\n",
    "plt.xlabel(\"z-coordinate [mm]\")\n",
    "\n",
    "plt.savefig(outputFolderName+\"/DataExploration_z_vs_r_scatter.pdf\")\n",
    "plt.savefig(outputFolderName+\"/DataExploration_z_vs_r_scatter.png\")\n"
   ]
  },
  {
   "cell_type": "code",
   "execution_count": 25,
   "metadata": {},
   "outputs": [
    {
     "data": {
      "image/png": "[encoded data removed]",
      "text/plain": [
       "<Figure size 432x288 with 1 Axes>"
      ]
     },
     "metadata": {
      "needs_background": "light"
     },
     "output_type": "display_data"
    }
   ],
   "source": [
    "plt.hist2d(\n",
    "        nparray_reduced_z,\n",
    "        nparray_reduced_r,\n",
    "        bins=[range(-3100,3120,20),range(0,1101,1)],\n",
    "        cmin=1,\n",
    "        )\n",
    "plt.ylabel(\"radius [mm]\")\n",
    "plt.xlabel(\"z-coordinate [mm]\")\n",
    "\n",
    "plt.savefig(outputFolderName+\"/DataExploration_z_vs_r_hist_2D.pdf\")\n",
    "plt.savefig(outputFolderName+\"/DataExploration_z_vs_r_hist_2D.png\")\n"
   ]
  },
  {
   "cell_type": "code",
   "execution_count": 26,
   "metadata": {},
   "outputs": [
    {
     "data": {
      "text/plain": [
       "(array([2.9911e+04, 1.7484e+04, 1.3564e+04, 9.5840e+03, 5.3730e+03,\n",
       "        3.3000e+03, 2.5750e+03, 2.1340e+03, 1.9120e+03, 1.7020e+03,\n",
       "        1.6670e+03, 1.7430e+03, 1.7240e+03, 1.5610e+03, 1.3930e+03,\n",
       "        1.2680e+03, 1.2290e+03, 1.1740e+03, 9.9000e+02, 1.1260e+03,\n",
       "        1.0220e+03, 9.7400e+02, 8.5700e+02, 7.0500e+02, 6.8600e+02,\n",
       "        6.4700e+02, 5.3700e+02, 4.5000e+02, 4.8200e+02, 4.9200e+02,\n",
       "        4.7400e+02, 5.2100e+02, 4.4700e+02, 4.1500e+02, 3.4100e+02,\n",
       "        3.0200e+02, 2.9100e+02, 2.1800e+02, 1.9000e+02, 2.2100e+02,\n",
       "        1.7700e+02, 2.2000e+02, 2.0700e+02, 1.9000e+02, 2.1700e+02,\n",
       "        2.0500e+02, 1.7600e+02, 2.1300e+02, 1.8600e+02, 1.5900e+02,\n",
       "        1.8800e+02, 1.5000e+02, 1.4500e+02, 1.1700e+02, 1.3700e+02,\n",
       "        8.7000e+01, 1.2800e+02, 1.1700e+02, 1.1500e+02, 1.1000e+02,\n",
       "        1.0100e+02, 1.0400e+02, 8.3000e+01, 1.0000e+02, 9.8000e+01,\n",
       "        1.1500e+02, 1.0900e+02, 8.3000e+01, 6.6000e+01, 6.3000e+01,\n",
       "        5.8000e+01, 7.6000e+01, 5.8000e+01, 4.5000e+01, 5.6000e+01,\n",
       "        6.6000e+01, 6.6000e+01, 4.6000e+01, 5.0000e+01, 2.4000e+01,\n",
       "        3.3000e+01, 3.1000e+01, 2.6000e+01, 2.5000e+01, 1.9000e+01,\n",
       "        3.1000e+01, 2.5000e+01, 3.3000e+01, 1.2000e+01, 2.3000e+01,\n",
       "        3.3000e+01, 2.5000e+01, 2.1000e+01, 3.0000e+01, 2.3000e+01,\n",
       "        2.9000e+01, 2.5000e+01, 2.0000e+01, 1.2000e+01, 2.0000e+01]),\n",
       " array([1.00000e+00, 3.29100e+01, 6.48200e+01, 9.67300e+01, 1.28640e+02,\n",
       "        1.60550e+02, 1.92460e+02, 2.24370e+02, 2.56280e+02, 2.88190e+02,\n",
       "        3.20100e+02, 3.52010e+02, 3.83920e+02, 4.15830e+02, 4.47740e+02,\n",
       "        4.79650e+02, 5.11560e+02, 5.43470e+02, 5.75380e+02, 6.07290e+02,\n",
       "        6.39200e+02, 6.71110e+02, 7.03020e+02, 7.34930e+02, 7.66840e+02,\n",
       "        7.98750e+02, 8.30660e+02, 8.62570e+02, 8.94480e+02, 9.26390e+02,\n",
       "        9.58300e+02, 9.90210e+02, 1.02212e+03, 1.05403e+03, 1.08594e+03,\n",
       "        1.11785e+03, 1.14976e+03, 1.18167e+03, 1.21358e+03, 1.24549e+03,\n",
       "        1.27740e+03, 1.30931e+03, 1.34122e+03, 1.37313e+03, 1.40504e+03,\n",
       "        1.43695e+03, 1.46886e+03, 1.50077e+03, 1.53268e+03, 1.56459e+03,\n",
       "        1.59650e+03, 1.62841e+03, 1.66032e+03, 1.69223e+03, 1.72414e+03,\n",
       "        1.75605e+03, 1.78796e+03, 1.81987e+03, 1.85178e+03, 1.88369e+03,\n",
       "        1.91560e+03, 1.94751e+03, 1.97942e+03, 2.01133e+03, 2.04324e+03,\n",
       "        2.07515e+03, 2.10706e+03, 2.13897e+03, 2.17088e+03, 2.20279e+03,\n",
       "        2.23470e+03, 2.26661e+03, 2.29852e+03, 2.33043e+03, 2.36234e+03,\n",
       "        2.39425e+03, 2.42616e+03, 2.45807e+03, 2.48998e+03, 2.52189e+03,\n",
       "        2.55380e+03, 2.58571e+03, 2.61762e+03, 2.64953e+03, 2.68144e+03,\n",
       "        2.71335e+03, 2.74526e+03, 2.77717e+03, 2.80908e+03, 2.84099e+03,\n",
       "        2.87290e+03, 2.90481e+03, 2.93672e+03, 2.96863e+03, 3.00054e+03,\n",
       "        3.03245e+03, 3.06436e+03, 3.09627e+03, 3.12818e+03, 3.16009e+03,\n",
       "        3.19200e+03]),\n",
       " <a list of 100 Patch objects>)"
      ]
     },
     "execution_count": 26,
     "metadata": {},
     "output_type": "execute_result"
    },
    {
     "data": {
      "image/png": "[encoded data removed]",
      "text/plain": [
       "<Figure size 432x288 with 1 Axes>"
      ]
     },
     "metadata": {
      "needs_background": "light"
     },
     "output_type": "display_data"
    }
   ],
   "source": [
    "plt.hist(nparray_reduced_module_id,bins=100)"
   ]
  },
  {
   "cell_type": "code",
   "execution_count": 27,
   "metadata": {},
   "outputs": [
    {
     "data": {
      "text/plain": [
       "(array([[3.8740e+03, 3.9700e+03, 9.2560e+03, 1.7833e+04, 1.4989e+04,\n",
       "         7.2810e+03, 1.4023e+04, 8.9170e+03, 3.6680e+03, 3.7280e+03],\n",
       "        [       nan,        nan,        nan, 8.7100e+02, 6.2310e+03,\n",
       "         6.7730e+03,        nan,        nan,        nan,        nan],\n",
       "        [       nan,        nan,        nan, 4.7000e+01, 1.9990e+03,\n",
       "         3.7930e+03, 1.0130e+03,        nan,        nan,        nan],\n",
       "        [       nan,        nan,        nan,        nan, 9.3400e+02,\n",
       "         1.8080e+03, 6.7800e+02,        nan,        nan,        nan],\n",
       "        [       nan,        nan,        nan,        nan, 2.8100e+02,\n",
       "         1.1010e+03, 5.6800e+02,        nan,        nan,        nan],\n",
       "        [       nan,        nan,        nan,        nan, 3.4000e+01,\n",
       "         8.1200e+02, 4.4800e+02,        nan,        nan,        nan],\n",
       "        [       nan,        nan,        nan,        nan,        nan,\n",
       "         3.2900e+02, 5.9300e+02,        nan,        nan,        nan],\n",
       "        [       nan,        nan,        nan,        nan,        nan,\n",
       "         2.4000e+02, 3.0500e+02,        nan,        nan,        nan],\n",
       "        [       nan,        nan,        nan,        nan,        nan,\n",
       "         1.3000e+01, 2.4500e+02,        nan,        nan,        nan],\n",
       "        [       nan,        nan,        nan,        nan,        nan,\n",
       "                nan, 2.3800e+02,        nan,        nan,        nan]]),\n",
       " array([1.0000e+00, 3.2010e+02, 6.3920e+02, 9.5830e+02, 1.2774e+03,\n",
       "        1.5965e+03, 1.9156e+03, 2.2347e+03, 2.5538e+03, 2.8729e+03,\n",
       "        3.1920e+03]),\n",
       " array([-2955.5, -2364.4, -1773.3, -1182.2,  -591.1,     0. ,   591.1,\n",
       "         1182.2,  1773.3,  2364.4,  2955.5]),\n",
       " <matplotlib.collections.QuadMesh at 0x124443c90>)"
      ]
     },
     "execution_count": 27,
     "metadata": {},
     "output_type": "execute_result"
    },
    {
     "data": {
      "image/png": "[encoded data removed]",
      "text/plain": [
       "<Figure size 432x288 with 1 Axes>"
      ]
     },
     "metadata": {
      "needs_background": "light"
     },
     "output_type": "display_data"
    }
   ],
   "source": [
    "plt.hist2d(nparray_reduced_module_id,nparray_reduced_z,cmin=1)"
   ]
  },
  {
   "cell_type": "code",
   "execution_count": 28,
   "metadata": {},
   "outputs": [
    {
     "data": {
      "text/plain": [
       "(array([[   nan,    nan,   876.,   663.,   528.,   511.,   261.,   283.,\n",
       "           484.,   268.],\n",
       "        [   nan,    nan,   965.,   672.,   560.,   504.,   290.,   270.,\n",
       "           467.,   242.],\n",
       "        [ 4590.,   822.,  1043.,   637.,   583.,   511.,   248.,   236.,\n",
       "           376.,   210.],\n",
       "        [12005.,  2288.,   948.,   927.,   811.,    nan,   695.,   579.,\n",
       "            nan,   498.],\n",
       "        [13038.,  2741.,  2333.,  1923.,  1490.,    nan,  1186.,   959.,\n",
       "            nan,   798.],\n",
       "        [11349.,  2472.,  2160.,  1797.,  1472.,    nan,  1175.,   935.,\n",
       "            nan,   790.],\n",
       "        [11891.,  2132.,   851.,   788.,   692.,    nan,   654.,   538.,\n",
       "            nan,   565.],\n",
       "        [ 4568.,   892.,   834.,   703.,   513.,   429.,   246.,   204.,\n",
       "           336.,   192.],\n",
       "        [   nan,    nan,   813.,   679.,   539.,   492.,   261.,   213.,\n",
       "           459.,   212.],\n",
       "        [   nan,    nan,   867.,   663.,   517.,   454.,   308.,   250.,\n",
       "           418.,   251.]]),\n",
       " array([-2955.5, -2364.4, -1773.3, -1182.2,  -591.1,     0. ,   591.1,\n",
       "         1182.2,  1773.3,  2364.4,  2955.5]),\n",
       " array([  30.02864632,  129.56038209,  229.09211785,  328.62385361,\n",
       "         428.15558938,  527.68732514,  627.21906091,  726.75079667,\n",
       "         826.28253243,  925.8142682 , 1025.34600396]),\n",
       " <matplotlib.collections.QuadMesh at 0x1243f56d0>)"
      ]
     },
     "execution_count": 28,
     "metadata": {},
     "output_type": "execute_result"
    },
    {
     "data": {
      "image/png": "[encoded data removed]",
      "text/plain": [
       "<Figure size 432x288 with 1 Axes>"
      ]
     },
     "metadata": {
      "needs_background": "light"
     },
     "output_type": "display_data"
    }
   ],
   "source": [
    "plt.hist2d(nparray_reduced_z,nparray_reduced_r,cmin=1)"
   ]
  },
  {
   "cell_type": "code",
   "execution_count": 29,
   "metadata": {},
   "outputs": [
    {
     "data": {
      "text/plain": [
       "<matplotlib.collections.PathCollection at 0x1337d2fd0>"
      ]
     },
     "execution_count": 29,
     "metadata": {},
     "output_type": "execute_result"
    },
    {
     "data": {
      "image/png": "[encoded data removed]",
      "text/plain": [
       "<Figure size 432x288 with 1 Axes>"
      ]
     },
     "metadata": {
      "needs_background": "light"
     },
     "output_type": "display_data"
    }
   ],
   "source": [
    "plt.scatter(nparray_reduced_z,nparray_reduced_r)"
   ]
  },
  {
   "cell_type": "code",
   "execution_count": null,
   "metadata": {},
   "outputs": [],
   "source": []
  },
  {
   "cell_type": "code",
   "execution_count": null,
   "metadata": {},
   "outputs": [],
   "source": []
  },
  {
   "cell_type": "code",
   "execution_count": null,
   "metadata": {},
   "outputs": [],
   "source": []
  }
 ],
 "metadata": {
  "kernelspec": {
   "display_name": "Python 3",
   "language": "python",
   "name": "python3"
  },
  "language_info": {
   "codemirror_mode": {
    "name": "ipython",
    "version": 3
   },
   "file_extension": ".py",
   "mimetype": "text/x-python",
   "name": "python",
   "nbconvert_exporter": "python",
   "pygments_lexer": "ipython3",
   "version": "3.7.5"
  }
 },
 "nbformat": 4,
 "nbformat_minor": 2
}
