{
 "cells": [
  {
   "cell_type": "code",
   "execution_count": 1,
   "metadata": {},
   "outputs": [],
   "source": [
    "import pandas as pd\n",
    "import numpy as np\n",
    "import matplotlib.pyplot as plt"
   ]
  },
  {
   "cell_type": "code",
   "execution_count": 2,
   "metadata": {
    "scrolled": true
   },
   "outputs": [],
   "source": [
    "path2data=\"/Users/luizaadelinaciucu/Work/TrackML/\"\n",
    "#df_hits=pd.read_csv(path2data+\"event000021069-hits.csv\")\n",
    "eventNumber=\"000021069\""
   ]
  },
  {
   "cell_type": "code",
   "execution_count": 3,
   "metadata": {},
   "outputs": [
    {
     "name": "stdout",
     "output_type": "stream",
     "text": [
      "('inputFileName', '/Users/luizaadelinaciucu/Work/TrackML//event000021069-hits.csv')\n"
     ]
    }
   ],
   "source": [
    "inputFileName=path2data+\"/event\"+eventNumber+\"-hits.csv\"\n",
    "print(\"inputFileName\",inputFileName)\n",
    "df_hits_recon=pd.read_csv(inputFileName)"
   ]
  },
  {
   "cell_type": "code",
   "execution_count": 4,
   "metadata": {},
   "outputs": [
    {
     "name": "stdout",
     "output_type": "stream",
     "text": [
      "('inputFileName', '/Users/luizaadelinaciucu/Work/TrackML//event000021069-truth.csv')\n"
     ]
    }
   ],
   "source": [
    "inputFileName=path2data+\"/event\"+eventNumber+\"-truth.csv\"\n",
    "print(\"inputFileName\",inputFileName)\n",
    "df_hits_truth=pd.read_csv(inputFileName)"
   ]
  },
  {
   "cell_type": "code",
   "execution_count": 5,
   "metadata": {},
   "outputs": [
    {
     "name": "stdout",
     "output_type": "stream",
     "text": [
      "('inputFileName', '/Users/luizaadelinaciucu/Work/TrackML//event000021069-particles.csv')\n"
     ]
    }
   ],
   "source": [
    "inputFileName=path2data+\"/event\"+eventNumber+\"-particles.csv\"\n",
    "print(\"inputFileName\",inputFileName)\n",
    "df_particles=pd.read_csv(inputFileName)"
   ]
  },
  {
   "cell_type": "code",
   "execution_count": 6,
   "metadata": {},
   "outputs": [
    {
     "data": {
      "text/plain": [
       "(95224, 7)"
      ]
     },
     "execution_count": 6,
     "metadata": {},
     "output_type": "execute_result"
    }
   ],
   "source": [
    "df_hits_recon.shape"
   ]
  },
  {
   "cell_type": "code",
   "execution_count": 7,
   "metadata": {},
   "outputs": [
    {
     "data": {
      "text/html": [
       "<div>\n",
       "<style scoped>\n",
       "    .dataframe tbody tr th:only-of-type {\n",
       "        vertical-align: middle;\n",
       "    }\n",
       "\n",
       "    .dataframe tbody tr th {\n",
       "        vertical-align: top;\n",
       "    }\n",
       "\n",
       "    .dataframe thead th {\n",
       "        text-align: right;\n",
       "    }\n",
       "</style>\n",
       "<table border=\"1\" class=\"dataframe\">\n",
       "  <thead>\n",
       "    <tr style=\"text-align: right;\">\n",
       "      <th></th>\n",
       "      <th>hit_id</th>\n",
       "      <th>x</th>\n",
       "      <th>y</th>\n",
       "      <th>z</th>\n",
       "      <th>volume_id</th>\n",
       "      <th>layer_id</th>\n",
       "      <th>module_id</th>\n",
       "    </tr>\n",
       "  </thead>\n",
       "  <tbody>\n",
       "    <tr>\n",
       "      <th>0</th>\n",
       "      <td>1</td>\n",
       "      <td>-96.0251</td>\n",
       "      <td>-11.043100</td>\n",
       "      <td>-1502.5</td>\n",
       "      <td>7</td>\n",
       "      <td>2</td>\n",
       "      <td>1</td>\n",
       "    </tr>\n",
       "    <tr>\n",
       "      <th>1</th>\n",
       "      <td>2</td>\n",
       "      <td>-57.1466</td>\n",
       "      <td>-5.425400</td>\n",
       "      <td>-1502.5</td>\n",
       "      <td>7</td>\n",
       "      <td>2</td>\n",
       "      <td>1</td>\n",
       "    </tr>\n",
       "    <tr>\n",
       "      <th>2</th>\n",
       "      <td>3</td>\n",
       "      <td>-83.1498</td>\n",
       "      <td>-9.277450</td>\n",
       "      <td>-1502.5</td>\n",
       "      <td>7</td>\n",
       "      <td>2</td>\n",
       "      <td>1</td>\n",
       "    </tr>\n",
       "    <tr>\n",
       "      <th>3</th>\n",
       "      <td>4</td>\n",
       "      <td>-70.7627</td>\n",
       "      <td>-11.261700</td>\n",
       "      <td>-1502.5</td>\n",
       "      <td>7</td>\n",
       "      <td>2</td>\n",
       "      <td>1</td>\n",
       "    </tr>\n",
       "    <tr>\n",
       "      <th>4</th>\n",
       "      <td>5</td>\n",
       "      <td>-73.3473</td>\n",
       "      <td>0.070458</td>\n",
       "      <td>-1502.5</td>\n",
       "      <td>7</td>\n",
       "      <td>2</td>\n",
       "      <td>1</td>\n",
       "    </tr>\n",
       "  </tbody>\n",
       "</table>\n",
       "</div>"
      ],
      "text/plain": [
       "   hit_id        x          y       z  volume_id  layer_id  module_id\n",
       "0       1 -96.0251 -11.043100 -1502.5          7         2          1\n",
       "1       2 -57.1466  -5.425400 -1502.5          7         2          1\n",
       "2       3 -83.1498  -9.277450 -1502.5          7         2          1\n",
       "3       4 -70.7627 -11.261700 -1502.5          7         2          1\n",
       "4       5 -73.3473   0.070458 -1502.5          7         2          1"
      ]
     },
     "execution_count": 7,
     "metadata": {},
     "output_type": "execute_result"
    }
   ],
   "source": [
    "df_hits_recon.head()"
   ]
  },
  {
   "cell_type": "code",
   "execution_count": 8,
   "metadata": {},
   "outputs": [
    {
     "data": {
      "text/plain": [
       "(95224, 9)"
      ]
     },
     "execution_count": 8,
     "metadata": {},
     "output_type": "execute_result"
    }
   ],
   "source": [
    "df_hits_truth.shape"
   ]
  },
  {
   "cell_type": "code",
   "execution_count": 9,
   "metadata": {},
   "outputs": [
    {
     "data": {
      "text/html": [
       "<div>\n",
       "<style scoped>\n",
       "    .dataframe tbody tr th:only-of-type {\n",
       "        vertical-align: middle;\n",
       "    }\n",
       "\n",
       "    .dataframe tbody tr th {\n",
       "        vertical-align: top;\n",
       "    }\n",
       "\n",
       "    .dataframe thead th {\n",
       "        text-align: right;\n",
       "    }\n",
       "</style>\n",
       "<table border=\"1\" class=\"dataframe\">\n",
       "  <thead>\n",
       "    <tr style=\"text-align: right;\">\n",
       "      <th></th>\n",
       "      <th>hit_id</th>\n",
       "      <th>particle_id</th>\n",
       "      <th>tx</th>\n",
       "      <th>ty</th>\n",
       "      <th>tz</th>\n",
       "      <th>tpx</th>\n",
       "      <th>tpy</th>\n",
       "      <th>tpz</th>\n",
       "      <th>weight</th>\n",
       "    </tr>\n",
       "  </thead>\n",
       "  <tbody>\n",
       "    <tr>\n",
       "      <th>0</th>\n",
       "      <td>1</td>\n",
       "      <td>351284413067165696</td>\n",
       "      <td>-96.0272</td>\n",
       "      <td>-11.042000</td>\n",
       "      <td>-1502.5</td>\n",
       "      <td>-0.252020</td>\n",
       "      <td>-0.055783</td>\n",
       "      <td>-3.89135</td>\n",
       "      <td>0.000011</td>\n",
       "    </tr>\n",
       "    <tr>\n",
       "      <th>1</th>\n",
       "      <td>2</td>\n",
       "      <td>220692736976617472</td>\n",
       "      <td>-57.1428</td>\n",
       "      <td>-5.446980</td>\n",
       "      <td>-1502.5</td>\n",
       "      <td>0.208659</td>\n",
       "      <td>-0.000115</td>\n",
       "      <td>-5.17925</td>\n",
       "      <td>0.000010</td>\n",
       "    </tr>\n",
       "    <tr>\n",
       "      <th>2</th>\n",
       "      <td>3</td>\n",
       "      <td>193656433244372992</td>\n",
       "      <td>-83.1380</td>\n",
       "      <td>-9.292630</td>\n",
       "      <td>-1502.5</td>\n",
       "      <td>-0.341028</td>\n",
       "      <td>-0.012671</td>\n",
       "      <td>-5.99884</td>\n",
       "      <td>0.000010</td>\n",
       "    </tr>\n",
       "    <tr>\n",
       "      <th>3</th>\n",
       "      <td>4</td>\n",
       "      <td>693574683580170240</td>\n",
       "      <td>-70.7448</td>\n",
       "      <td>-11.274200</td>\n",
       "      <td>-1502.5</td>\n",
       "      <td>-0.548888</td>\n",
       "      <td>-0.067574</td>\n",
       "      <td>-11.59180</td>\n",
       "      <td>0.000012</td>\n",
       "    </tr>\n",
       "    <tr>\n",
       "      <th>4</th>\n",
       "      <td>5</td>\n",
       "      <td>693560115051102208</td>\n",
       "      <td>-73.3581</td>\n",
       "      <td>0.071451</td>\n",
       "      <td>-1502.5</td>\n",
       "      <td>-1.455310</td>\n",
       "      <td>0.016571</td>\n",
       "      <td>-30.04180</td>\n",
       "      <td>0.000026</td>\n",
       "    </tr>\n",
       "  </tbody>\n",
       "</table>\n",
       "</div>"
      ],
      "text/plain": [
       "   hit_id         particle_id       tx         ty      tz       tpx       tpy  \\\n",
       "0       1  351284413067165696 -96.0272 -11.042000 -1502.5 -0.252020 -0.055783   \n",
       "1       2  220692736976617472 -57.1428  -5.446980 -1502.5  0.208659 -0.000115   \n",
       "2       3  193656433244372992 -83.1380  -9.292630 -1502.5 -0.341028 -0.012671   \n",
       "3       4  693574683580170240 -70.7448 -11.274200 -1502.5 -0.548888 -0.067574   \n",
       "4       5  693560115051102208 -73.3581   0.071451 -1502.5 -1.455310  0.016571   \n",
       "\n",
       "        tpz    weight  \n",
       "0  -3.89135  0.000011  \n",
       "1  -5.17925  0.000010  \n",
       "2  -5.99884  0.000010  \n",
       "3 -11.59180  0.000012  \n",
       "4 -30.04180  0.000026  "
      ]
     },
     "execution_count": 9,
     "metadata": {},
     "output_type": "execute_result"
    }
   ],
   "source": [
    "df_hits_truth.head()"
   ]
  },
  {
   "cell_type": "code",
   "execution_count": 10,
   "metadata": {},
   "outputs": [],
   "source": [
    "#from annoy import AnnoyIndex\n",
    "#import random"
   ]
  },
  {
   "cell_type": "code",
   "execution_count": 11,
   "metadata": {},
   "outputs": [],
   "source": [
    "#df_hits.head()\n"
   ]
  },
  {
   "cell_type": "code",
   "execution_count": 12,
   "metadata": {},
   "outputs": [
    {
     "data": {
      "text/plain": [
       "(9003, 10)"
      ]
     },
     "execution_count": 12,
     "metadata": {},
     "output_type": "execute_result"
    }
   ],
   "source": [
    "df_particles.shape"
   ]
  },
  {
   "cell_type": "code",
   "execution_count": 13,
   "metadata": {},
   "outputs": [],
   "source": [
    "#df_truth.head()"
   ]
  },
  {
   "cell_type": "code",
   "execution_count": 14,
   "metadata": {},
   "outputs": [],
   "source": [
    "#df_particles.tail()"
   ]
  },
  {
   "cell_type": "code",
   "execution_count": 15,
   "metadata": {},
   "outputs": [],
   "source": [
    "del df_hits_truth['hit_id']"
   ]
  },
  {
   "cell_type": "code",
   "execution_count": 16,
   "metadata": {},
   "outputs": [],
   "source": [
    "#df_hits.shape"
   ]
  },
  {
   "cell_type": "code",
   "execution_count": 17,
   "metadata": {},
   "outputs": [
    {
     "data": {
      "text/plain": [
       "(95224, 8)"
      ]
     },
     "execution_count": 17,
     "metadata": {},
     "output_type": "execute_result"
    }
   ],
   "source": [
    "df_hits_truth.shape"
   ]
  },
  {
   "cell_type": "code",
   "execution_count": 18,
   "metadata": {},
   "outputs": [
    {
     "data": {
      "text/html": [
       "<div>\n",
       "<style scoped>\n",
       "    .dataframe tbody tr th:only-of-type {\n",
       "        vertical-align: middle;\n",
       "    }\n",
       "\n",
       "    .dataframe tbody tr th {\n",
       "        vertical-align: top;\n",
       "    }\n",
       "\n",
       "    .dataframe thead th {\n",
       "        text-align: right;\n",
       "    }\n",
       "</style>\n",
       "<table border=\"1\" class=\"dataframe\">\n",
       "  <thead>\n",
       "    <tr style=\"text-align: right;\">\n",
       "      <th></th>\n",
       "      <th>particle_id</th>\n",
       "      <th>tx</th>\n",
       "      <th>ty</th>\n",
       "      <th>tz</th>\n",
       "      <th>tpx</th>\n",
       "      <th>tpy</th>\n",
       "      <th>tpz</th>\n",
       "      <th>weight</th>\n",
       "    </tr>\n",
       "  </thead>\n",
       "  <tbody>\n",
       "    <tr>\n",
       "      <th>0</th>\n",
       "      <td>351284413067165696</td>\n",
       "      <td>-96.0272</td>\n",
       "      <td>-11.042000</td>\n",
       "      <td>-1502.5</td>\n",
       "      <td>-0.252020</td>\n",
       "      <td>-0.055783</td>\n",
       "      <td>-3.89135</td>\n",
       "      <td>0.000011</td>\n",
       "    </tr>\n",
       "    <tr>\n",
       "      <th>1</th>\n",
       "      <td>220692736976617472</td>\n",
       "      <td>-57.1428</td>\n",
       "      <td>-5.446980</td>\n",
       "      <td>-1502.5</td>\n",
       "      <td>0.208659</td>\n",
       "      <td>-0.000115</td>\n",
       "      <td>-5.17925</td>\n",
       "      <td>0.000010</td>\n",
       "    </tr>\n",
       "    <tr>\n",
       "      <th>2</th>\n",
       "      <td>193656433244372992</td>\n",
       "      <td>-83.1380</td>\n",
       "      <td>-9.292630</td>\n",
       "      <td>-1502.5</td>\n",
       "      <td>-0.341028</td>\n",
       "      <td>-0.012671</td>\n",
       "      <td>-5.99884</td>\n",
       "      <td>0.000010</td>\n",
       "    </tr>\n",
       "    <tr>\n",
       "      <th>3</th>\n",
       "      <td>693574683580170240</td>\n",
       "      <td>-70.7448</td>\n",
       "      <td>-11.274200</td>\n",
       "      <td>-1502.5</td>\n",
       "      <td>-0.548888</td>\n",
       "      <td>-0.067574</td>\n",
       "      <td>-11.59180</td>\n",
       "      <td>0.000012</td>\n",
       "    </tr>\n",
       "    <tr>\n",
       "      <th>4</th>\n",
       "      <td>693560115051102208</td>\n",
       "      <td>-73.3581</td>\n",
       "      <td>0.071451</td>\n",
       "      <td>-1502.5</td>\n",
       "      <td>-1.455310</td>\n",
       "      <td>0.016571</td>\n",
       "      <td>-30.04180</td>\n",
       "      <td>0.000026</td>\n",
       "    </tr>\n",
       "  </tbody>\n",
       "</table>\n",
       "</div>"
      ],
      "text/plain": [
       "          particle_id       tx         ty      tz       tpx       tpy  \\\n",
       "0  351284413067165696 -96.0272 -11.042000 -1502.5 -0.252020 -0.055783   \n",
       "1  220692736976617472 -57.1428  -5.446980 -1502.5  0.208659 -0.000115   \n",
       "2  193656433244372992 -83.1380  -9.292630 -1502.5 -0.341028 -0.012671   \n",
       "3  693574683580170240 -70.7448 -11.274200 -1502.5 -0.548888 -0.067574   \n",
       "4  693560115051102208 -73.3581   0.071451 -1502.5 -1.455310  0.016571   \n",
       "\n",
       "        tpz    weight  \n",
       "0  -3.89135  0.000011  \n",
       "1  -5.17925  0.000010  \n",
       "2  -5.99884  0.000010  \n",
       "3 -11.59180  0.000012  \n",
       "4 -30.04180  0.000026  "
      ]
     },
     "execution_count": 18,
     "metadata": {},
     "output_type": "execute_result"
    }
   ],
   "source": [
    "df_hits_truth.head()"
   ]
  },
  {
   "cell_type": "code",
   "execution_count": 19,
   "metadata": {},
   "outputs": [],
   "source": [
    "#df_truth.shape"
   ]
  },
  {
   "cell_type": "code",
   "execution_count": 20,
   "metadata": {},
   "outputs": [],
   "source": [
    "#df_particles.shape"
   ]
  },
  {
   "cell_type": "code",
   "execution_count": 21,
   "metadata": {},
   "outputs": [],
   "source": [
    "df_hits = pd.concat([df_hits_recon, df_hits_truth], axis=1, sort=False)"
   ]
  },
  {
   "cell_type": "code",
   "execution_count": 22,
   "metadata": {},
   "outputs": [],
   "source": [
    "#df=pd.concat([df_hits,df_truth],axis=1)"
   ]
  },
  {
   "cell_type": "code",
   "execution_count": 23,
   "metadata": {},
   "outputs": [
    {
     "data": {
      "text/plain": [
       "(95224, 15)"
      ]
     },
     "execution_count": 23,
     "metadata": {},
     "output_type": "execute_result"
    }
   ],
   "source": [
    "df_hits.shape"
   ]
  },
  {
   "cell_type": "code",
   "execution_count": 24,
   "metadata": {},
   "outputs": [],
   "source": [
    "#df.head()\n",
    "\n"
   ]
  },
  {
   "cell_type": "code",
   "execution_count": 25,
   "metadata": {},
   "outputs": [
    {
     "data": {
      "text/html": [
       "<div>\n",
       "<style scoped>\n",
       "    .dataframe tbody tr th:only-of-type {\n",
       "        vertical-align: middle;\n",
       "    }\n",
       "\n",
       "    .dataframe tbody tr th {\n",
       "        vertical-align: top;\n",
       "    }\n",
       "\n",
       "    .dataframe thead th {\n",
       "        text-align: right;\n",
       "    }\n",
       "</style>\n",
       "<table border=\"1\" class=\"dataframe\">\n",
       "  <thead>\n",
       "    <tr style=\"text-align: right;\">\n",
       "      <th></th>\n",
       "      <th>hit_id</th>\n",
       "      <th>x</th>\n",
       "      <th>y</th>\n",
       "      <th>z</th>\n",
       "      <th>volume_id</th>\n",
       "      <th>layer_id</th>\n",
       "      <th>module_id</th>\n",
       "      <th>particle_id</th>\n",
       "      <th>tx</th>\n",
       "      <th>ty</th>\n",
       "      <th>tz</th>\n",
       "      <th>tpx</th>\n",
       "      <th>tpy</th>\n",
       "      <th>tpz</th>\n",
       "      <th>weight</th>\n",
       "    </tr>\n",
       "  </thead>\n",
       "  <tbody>\n",
       "    <tr>\n",
       "      <th>0</th>\n",
       "      <td>1</td>\n",
       "      <td>-96.0251</td>\n",
       "      <td>-11.043100</td>\n",
       "      <td>-1502.5</td>\n",
       "      <td>7</td>\n",
       "      <td>2</td>\n",
       "      <td>1</td>\n",
       "      <td>351284413067165696</td>\n",
       "      <td>-96.0272</td>\n",
       "      <td>-11.042000</td>\n",
       "      <td>-1502.5</td>\n",
       "      <td>-0.252020</td>\n",
       "      <td>-0.055783</td>\n",
       "      <td>-3.89135</td>\n",
       "      <td>0.000011</td>\n",
       "    </tr>\n",
       "    <tr>\n",
       "      <th>1</th>\n",
       "      <td>2</td>\n",
       "      <td>-57.1466</td>\n",
       "      <td>-5.425400</td>\n",
       "      <td>-1502.5</td>\n",
       "      <td>7</td>\n",
       "      <td>2</td>\n",
       "      <td>1</td>\n",
       "      <td>220692736976617472</td>\n",
       "      <td>-57.1428</td>\n",
       "      <td>-5.446980</td>\n",
       "      <td>-1502.5</td>\n",
       "      <td>0.208659</td>\n",
       "      <td>-0.000115</td>\n",
       "      <td>-5.17925</td>\n",
       "      <td>0.000010</td>\n",
       "    </tr>\n",
       "    <tr>\n",
       "      <th>2</th>\n",
       "      <td>3</td>\n",
       "      <td>-83.1498</td>\n",
       "      <td>-9.277450</td>\n",
       "      <td>-1502.5</td>\n",
       "      <td>7</td>\n",
       "      <td>2</td>\n",
       "      <td>1</td>\n",
       "      <td>193656433244372992</td>\n",
       "      <td>-83.1380</td>\n",
       "      <td>-9.292630</td>\n",
       "      <td>-1502.5</td>\n",
       "      <td>-0.341028</td>\n",
       "      <td>-0.012671</td>\n",
       "      <td>-5.99884</td>\n",
       "      <td>0.000010</td>\n",
       "    </tr>\n",
       "    <tr>\n",
       "      <th>3</th>\n",
       "      <td>4</td>\n",
       "      <td>-70.7627</td>\n",
       "      <td>-11.261700</td>\n",
       "      <td>-1502.5</td>\n",
       "      <td>7</td>\n",
       "      <td>2</td>\n",
       "      <td>1</td>\n",
       "      <td>693574683580170240</td>\n",
       "      <td>-70.7448</td>\n",
       "      <td>-11.274200</td>\n",
       "      <td>-1502.5</td>\n",
       "      <td>-0.548888</td>\n",
       "      <td>-0.067574</td>\n",
       "      <td>-11.59180</td>\n",
       "      <td>0.000012</td>\n",
       "    </tr>\n",
       "    <tr>\n",
       "      <th>4</th>\n",
       "      <td>5</td>\n",
       "      <td>-73.3473</td>\n",
       "      <td>0.070458</td>\n",
       "      <td>-1502.5</td>\n",
       "      <td>7</td>\n",
       "      <td>2</td>\n",
       "      <td>1</td>\n",
       "      <td>693560115051102208</td>\n",
       "      <td>-73.3581</td>\n",
       "      <td>0.071451</td>\n",
       "      <td>-1502.5</td>\n",
       "      <td>-1.455310</td>\n",
       "      <td>0.016571</td>\n",
       "      <td>-30.04180</td>\n",
       "      <td>0.000026</td>\n",
       "    </tr>\n",
       "  </tbody>\n",
       "</table>\n",
       "</div>"
      ],
      "text/plain": [
       "   hit_id        x          y       z  volume_id  layer_id  module_id  \\\n",
       "0       1 -96.0251 -11.043100 -1502.5          7         2          1   \n",
       "1       2 -57.1466  -5.425400 -1502.5          7         2          1   \n",
       "2       3 -83.1498  -9.277450 -1502.5          7         2          1   \n",
       "3       4 -70.7627 -11.261700 -1502.5          7         2          1   \n",
       "4       5 -73.3473   0.070458 -1502.5          7         2          1   \n",
       "\n",
       "          particle_id       tx         ty      tz       tpx       tpy  \\\n",
       "0  351284413067165696 -96.0272 -11.042000 -1502.5 -0.252020 -0.055783   \n",
       "1  220692736976617472 -57.1428  -5.446980 -1502.5  0.208659 -0.000115   \n",
       "2  193656433244372992 -83.1380  -9.292630 -1502.5 -0.341028 -0.012671   \n",
       "3  693574683580170240 -70.7448 -11.274200 -1502.5 -0.548888 -0.067574   \n",
       "4  693560115051102208 -73.3581   0.071451 -1502.5 -1.455310  0.016571   \n",
       "\n",
       "        tpz    weight  \n",
       "0  -3.89135  0.000011  \n",
       "1  -5.17925  0.000010  \n",
       "2  -5.99884  0.000010  \n",
       "3 -11.59180  0.000012  \n",
       "4 -30.04180  0.000026  "
      ]
     },
     "execution_count": 25,
     "metadata": {},
     "output_type": "execute_result"
    }
   ],
   "source": [
    "df_hits.head()"
   ]
  },
  {
   "cell_type": "code",
   "execution_count": 26,
   "metadata": {},
   "outputs": [],
   "source": [
    "#def buildAnnoyIndex(data,metric=\"angular\",ntrees=10):\n",
    "    #f = len(data[0])\n",
    "    #t = AnnoyIndex(f,metric)  \n",
    "    #for i,d in enumerate(data):\n",
    "        #t.add_item(i, d)\n",
    "    #t.build(ntrees) # 10 trees\n",
    "    #return t\n",
    "\n",
    "\n",
    "\n",
    "#data=df[[\"x\",\"y\",\"z\"]].values\n",
    "\n",
    "#index=buildAnnoyIndex(data,metric=\"angular\",ntrees=10)\n",
    "\n",
    "\n",
    "#NB_BUCKET=5\n",
    "#for i in range(NB_BUCKET):\n",
    "    #n=random.choice(range(len(data)))\n",
    "    \n",
    "    #bucket_idx=np.array(index.get_nns_by_item(n,50))\n",
    "    #bucket=df.iloc[bucket_idx]\n",
    "    #plt.plot(bucket.x,bucket.y,\"o\")\n",
    "    #plt.plot(0,0,\"r+\")\n",
    "#plt.show()"
   ]
  },
  {
   "cell_type": "code",
   "execution_count": 27,
   "metadata": {},
   "outputs": [],
   "source": [
    "BUCKET_SIZE=20\n",
    "BUCKET_START=0\n",
    "df_bucket=df_hits[BUCKET_START:BUCKET_START+BUCKET_SIZE]"
   ]
  },
  {
   "cell_type": "code",
   "execution_count": 28,
   "metadata": {},
   "outputs": [
    {
     "data": {
      "text/plain": [
       "(20, 15)"
      ]
     },
     "execution_count": 28,
     "metadata": {},
     "output_type": "execute_result"
    }
   ],
   "source": [
    "df_bucket.shape"
   ]
  },
  {
   "cell_type": "code",
   "execution_count": 29,
   "metadata": {},
   "outputs": [
    {
     "data": {
      "text/html": [
       "<div>\n",
       "<style scoped>\n",
       "    .dataframe tbody tr th:only-of-type {\n",
       "        vertical-align: middle;\n",
       "    }\n",
       "\n",
       "    .dataframe tbody tr th {\n",
       "        vertical-align: top;\n",
       "    }\n",
       "\n",
       "    .dataframe thead th {\n",
       "        text-align: right;\n",
       "    }\n",
       "</style>\n",
       "<table border=\"1\" class=\"dataframe\">\n",
       "  <thead>\n",
       "    <tr style=\"text-align: right;\">\n",
       "      <th></th>\n",
       "      <th>hit_id</th>\n",
       "      <th>x</th>\n",
       "      <th>y</th>\n",
       "      <th>z</th>\n",
       "      <th>volume_id</th>\n",
       "      <th>layer_id</th>\n",
       "      <th>module_id</th>\n",
       "      <th>particle_id</th>\n",
       "      <th>tx</th>\n",
       "      <th>ty</th>\n",
       "      <th>tz</th>\n",
       "      <th>tpx</th>\n",
       "      <th>tpy</th>\n",
       "      <th>tpz</th>\n",
       "      <th>weight</th>\n",
       "    </tr>\n",
       "  </thead>\n",
       "  <tbody>\n",
       "    <tr>\n",
       "      <th>0</th>\n",
       "      <td>1</td>\n",
       "      <td>-96.0251</td>\n",
       "      <td>-11.043100</td>\n",
       "      <td>-1502.5</td>\n",
       "      <td>7</td>\n",
       "      <td>2</td>\n",
       "      <td>1</td>\n",
       "      <td>351284413067165696</td>\n",
       "      <td>-96.0272</td>\n",
       "      <td>-11.042000</td>\n",
       "      <td>-1502.5</td>\n",
       "      <td>-0.252020</td>\n",
       "      <td>-0.055783</td>\n",
       "      <td>-3.89135</td>\n",
       "      <td>0.000011</td>\n",
       "    </tr>\n",
       "    <tr>\n",
       "      <th>1</th>\n",
       "      <td>2</td>\n",
       "      <td>-57.1466</td>\n",
       "      <td>-5.425400</td>\n",
       "      <td>-1502.5</td>\n",
       "      <td>7</td>\n",
       "      <td>2</td>\n",
       "      <td>1</td>\n",
       "      <td>220692736976617472</td>\n",
       "      <td>-57.1428</td>\n",
       "      <td>-5.446980</td>\n",
       "      <td>-1502.5</td>\n",
       "      <td>0.208659</td>\n",
       "      <td>-0.000115</td>\n",
       "      <td>-5.17925</td>\n",
       "      <td>0.000010</td>\n",
       "    </tr>\n",
       "    <tr>\n",
       "      <th>2</th>\n",
       "      <td>3</td>\n",
       "      <td>-83.1498</td>\n",
       "      <td>-9.277450</td>\n",
       "      <td>-1502.5</td>\n",
       "      <td>7</td>\n",
       "      <td>2</td>\n",
       "      <td>1</td>\n",
       "      <td>193656433244372992</td>\n",
       "      <td>-83.1380</td>\n",
       "      <td>-9.292630</td>\n",
       "      <td>-1502.5</td>\n",
       "      <td>-0.341028</td>\n",
       "      <td>-0.012671</td>\n",
       "      <td>-5.99884</td>\n",
       "      <td>0.000010</td>\n",
       "    </tr>\n",
       "    <tr>\n",
       "      <th>3</th>\n",
       "      <td>4</td>\n",
       "      <td>-70.7627</td>\n",
       "      <td>-11.261700</td>\n",
       "      <td>-1502.5</td>\n",
       "      <td>7</td>\n",
       "      <td>2</td>\n",
       "      <td>1</td>\n",
       "      <td>693574683580170240</td>\n",
       "      <td>-70.7448</td>\n",
       "      <td>-11.274200</td>\n",
       "      <td>-1502.5</td>\n",
       "      <td>-0.548888</td>\n",
       "      <td>-0.067574</td>\n",
       "      <td>-11.59180</td>\n",
       "      <td>0.000012</td>\n",
       "    </tr>\n",
       "    <tr>\n",
       "      <th>4</th>\n",
       "      <td>5</td>\n",
       "      <td>-73.3473</td>\n",
       "      <td>0.070458</td>\n",
       "      <td>-1502.5</td>\n",
       "      <td>7</td>\n",
       "      <td>2</td>\n",
       "      <td>1</td>\n",
       "      <td>693560115051102208</td>\n",
       "      <td>-73.3581</td>\n",
       "      <td>0.071451</td>\n",
       "      <td>-1502.5</td>\n",
       "      <td>-1.455310</td>\n",
       "      <td>0.016571</td>\n",
       "      <td>-30.04180</td>\n",
       "      <td>0.000026</td>\n",
       "    </tr>\n",
       "  </tbody>\n",
       "</table>\n",
       "</div>"
      ],
      "text/plain": [
       "   hit_id        x          y       z  volume_id  layer_id  module_id  \\\n",
       "0       1 -96.0251 -11.043100 -1502.5          7         2          1   \n",
       "1       2 -57.1466  -5.425400 -1502.5          7         2          1   \n",
       "2       3 -83.1498  -9.277450 -1502.5          7         2          1   \n",
       "3       4 -70.7627 -11.261700 -1502.5          7         2          1   \n",
       "4       5 -73.3473   0.070458 -1502.5          7         2          1   \n",
       "\n",
       "          particle_id       tx         ty      tz       tpx       tpy  \\\n",
       "0  351284413067165696 -96.0272 -11.042000 -1502.5 -0.252020 -0.055783   \n",
       "1  220692736976617472 -57.1428  -5.446980 -1502.5  0.208659 -0.000115   \n",
       "2  193656433244372992 -83.1380  -9.292630 -1502.5 -0.341028 -0.012671   \n",
       "3  693574683580170240 -70.7448 -11.274200 -1502.5 -0.548888 -0.067574   \n",
       "4  693560115051102208 -73.3581   0.071451 -1502.5 -1.455310  0.016571   \n",
       "\n",
       "        tpz    weight  \n",
       "0  -3.89135  0.000011  \n",
       "1  -5.17925  0.000010  \n",
       "2  -5.99884  0.000010  \n",
       "3 -11.59180  0.000012  \n",
       "4 -30.04180  0.000026  "
      ]
     },
     "execution_count": 29,
     "metadata": {},
     "output_type": "execute_result"
    }
   ],
   "source": [
    "df_bucket.head()"
   ]
  },
  {
   "cell_type": "code",
   "execution_count": 30,
   "metadata": {},
   "outputs": [
    {
     "data": {
      "text/html": [
       "<div>\n",
       "<style scoped>\n",
       "    .dataframe tbody tr th:only-of-type {\n",
       "        vertical-align: middle;\n",
       "    }\n",
       "\n",
       "    .dataframe tbody tr th {\n",
       "        vertical-align: top;\n",
       "    }\n",
       "\n",
       "    .dataframe thead th {\n",
       "        text-align: right;\n",
       "    }\n",
       "</style>\n",
       "<table border=\"1\" class=\"dataframe\">\n",
       "  <thead>\n",
       "    <tr style=\"text-align: right;\">\n",
       "      <th></th>\n",
       "      <th>hit_id</th>\n",
       "      <th>x</th>\n",
       "      <th>y</th>\n",
       "      <th>z</th>\n",
       "      <th>volume_id</th>\n",
       "      <th>layer_id</th>\n",
       "      <th>module_id</th>\n",
       "      <th>particle_id</th>\n",
       "      <th>tx</th>\n",
       "      <th>ty</th>\n",
       "      <th>tz</th>\n",
       "      <th>tpx</th>\n",
       "      <th>tpy</th>\n",
       "      <th>tpz</th>\n",
       "      <th>weight</th>\n",
       "    </tr>\n",
       "  </thead>\n",
       "  <tbody>\n",
       "    <tr>\n",
       "      <th>0</th>\n",
       "      <td>1</td>\n",
       "      <td>-96.0251</td>\n",
       "      <td>-11.043100</td>\n",
       "      <td>-1502.5</td>\n",
       "      <td>7</td>\n",
       "      <td>2</td>\n",
       "      <td>1</td>\n",
       "      <td>351284413067165696</td>\n",
       "      <td>-96.0272</td>\n",
       "      <td>-11.042000</td>\n",
       "      <td>-1502.5</td>\n",
       "      <td>-0.252020</td>\n",
       "      <td>-0.055783</td>\n",
       "      <td>-3.89135</td>\n",
       "      <td>0.000011</td>\n",
       "    </tr>\n",
       "    <tr>\n",
       "      <th>1</th>\n",
       "      <td>2</td>\n",
       "      <td>-57.1466</td>\n",
       "      <td>-5.425400</td>\n",
       "      <td>-1502.5</td>\n",
       "      <td>7</td>\n",
       "      <td>2</td>\n",
       "      <td>1</td>\n",
       "      <td>220692736976617472</td>\n",
       "      <td>-57.1428</td>\n",
       "      <td>-5.446980</td>\n",
       "      <td>-1502.5</td>\n",
       "      <td>0.208659</td>\n",
       "      <td>-0.000115</td>\n",
       "      <td>-5.17925</td>\n",
       "      <td>0.000010</td>\n",
       "    </tr>\n",
       "    <tr>\n",
       "      <th>2</th>\n",
       "      <td>3</td>\n",
       "      <td>-83.1498</td>\n",
       "      <td>-9.277450</td>\n",
       "      <td>-1502.5</td>\n",
       "      <td>7</td>\n",
       "      <td>2</td>\n",
       "      <td>1</td>\n",
       "      <td>193656433244372992</td>\n",
       "      <td>-83.1380</td>\n",
       "      <td>-9.292630</td>\n",
       "      <td>-1502.5</td>\n",
       "      <td>-0.341028</td>\n",
       "      <td>-0.012671</td>\n",
       "      <td>-5.99884</td>\n",
       "      <td>0.000010</td>\n",
       "    </tr>\n",
       "    <tr>\n",
       "      <th>3</th>\n",
       "      <td>4</td>\n",
       "      <td>-70.7627</td>\n",
       "      <td>-11.261700</td>\n",
       "      <td>-1502.5</td>\n",
       "      <td>7</td>\n",
       "      <td>2</td>\n",
       "      <td>1</td>\n",
       "      <td>693574683580170240</td>\n",
       "      <td>-70.7448</td>\n",
       "      <td>-11.274200</td>\n",
       "      <td>-1502.5</td>\n",
       "      <td>-0.548888</td>\n",
       "      <td>-0.067574</td>\n",
       "      <td>-11.59180</td>\n",
       "      <td>0.000012</td>\n",
       "    </tr>\n",
       "    <tr>\n",
       "      <th>4</th>\n",
       "      <td>5</td>\n",
       "      <td>-73.3473</td>\n",
       "      <td>0.070458</td>\n",
       "      <td>-1502.5</td>\n",
       "      <td>7</td>\n",
       "      <td>2</td>\n",
       "      <td>1</td>\n",
       "      <td>693560115051102208</td>\n",
       "      <td>-73.3581</td>\n",
       "      <td>0.071451</td>\n",
       "      <td>-1502.5</td>\n",
       "      <td>-1.455310</td>\n",
       "      <td>0.016571</td>\n",
       "      <td>-30.04180</td>\n",
       "      <td>0.000026</td>\n",
       "    </tr>\n",
       "    <tr>\n",
       "      <th>5</th>\n",
       "      <td>6</td>\n",
       "      <td>-83.4740</td>\n",
       "      <td>1.129180</td>\n",
       "      <td>-1502.5</td>\n",
       "      <td>7</td>\n",
       "      <td>2</td>\n",
       "      <td>1</td>\n",
       "      <td>616997065959931904</td>\n",
       "      <td>-83.4787</td>\n",
       "      <td>1.105010</td>\n",
       "      <td>-1502.5</td>\n",
       "      <td>-0.488937</td>\n",
       "      <td>-0.021615</td>\n",
       "      <td>-8.70473</td>\n",
       "      <td>0.000009</td>\n",
       "    </tr>\n",
       "    <tr>\n",
       "      <th>6</th>\n",
       "      <td>7</td>\n",
       "      <td>-58.1014</td>\n",
       "      <td>-5.149460</td>\n",
       "      <td>-1502.5</td>\n",
       "      <td>7</td>\n",
       "      <td>2</td>\n",
       "      <td>1</td>\n",
       "      <td>747602623384780800</td>\n",
       "      <td>-58.1202</td>\n",
       "      <td>-5.148580</td>\n",
       "      <td>-1502.5</td>\n",
       "      <td>-0.838924</td>\n",
       "      <td>-0.055120</td>\n",
       "      <td>-21.11950</td>\n",
       "      <td>0.000017</td>\n",
       "    </tr>\n",
       "    <tr>\n",
       "      <th>7</th>\n",
       "      <td>8</td>\n",
       "      <td>-59.7223</td>\n",
       "      <td>2.597250</td>\n",
       "      <td>-1502.5</td>\n",
       "      <td>7</td>\n",
       "      <td>2</td>\n",
       "      <td>1</td>\n",
       "      <td>333274824921055232</td>\n",
       "      <td>-59.7189</td>\n",
       "      <td>2.573510</td>\n",
       "      <td>-1502.5</td>\n",
       "      <td>-0.436118</td>\n",
       "      <td>-0.005628</td>\n",
       "      <td>-11.64620</td>\n",
       "      <td>0.000010</td>\n",
       "    </tr>\n",
       "    <tr>\n",
       "      <th>8</th>\n",
       "      <td>9</td>\n",
       "      <td>-83.0065</td>\n",
       "      <td>-14.131200</td>\n",
       "      <td>-1502.5</td>\n",
       "      <td>7</td>\n",
       "      <td>2</td>\n",
       "      <td>1</td>\n",
       "      <td>450366010051002368</td>\n",
       "      <td>-83.0082</td>\n",
       "      <td>-14.125400</td>\n",
       "      <td>-1502.5</td>\n",
       "      <td>-0.206439</td>\n",
       "      <td>-0.054707</td>\n",
       "      <td>-3.23858</td>\n",
       "      <td>0.000010</td>\n",
       "    </tr>\n",
       "    <tr>\n",
       "      <th>9</th>\n",
       "      <td>10</td>\n",
       "      <td>-66.6130</td>\n",
       "      <td>-10.935100</td>\n",
       "      <td>-1502.5</td>\n",
       "      <td>7</td>\n",
       "      <td>2</td>\n",
       "      <td>1</td>\n",
       "      <td>580973766499106816</td>\n",
       "      <td>-66.6009</td>\n",
       "      <td>-10.956200</td>\n",
       "      <td>-1502.5</td>\n",
       "      <td>-0.212149</td>\n",
       "      <td>-0.008676</td>\n",
       "      <td>-4.42666</td>\n",
       "      <td>0.000011</td>\n",
       "    </tr>\n",
       "    <tr>\n",
       "      <th>10</th>\n",
       "      <td>11</td>\n",
       "      <td>-78.6731</td>\n",
       "      <td>-8.373430</td>\n",
       "      <td>-1502.5</td>\n",
       "      <td>7</td>\n",
       "      <td>2</td>\n",
       "      <td>1</td>\n",
       "      <td>576475664429875200</td>\n",
       "      <td>-78.6883</td>\n",
       "      <td>-8.353620</td>\n",
       "      <td>-1502.5</td>\n",
       "      <td>-2.070600</td>\n",
       "      <td>-0.194626</td>\n",
       "      <td>-39.49190</td>\n",
       "      <td>0.000032</td>\n",
       "    </tr>\n",
       "    <tr>\n",
       "      <th>11</th>\n",
       "      <td>12</td>\n",
       "      <td>-31.0244</td>\n",
       "      <td>-5.733150</td>\n",
       "      <td>-1502.5</td>\n",
       "      <td>7</td>\n",
       "      <td>2</td>\n",
       "      <td>1</td>\n",
       "      <td>0</td>\n",
       "      <td>-31.0255</td>\n",
       "      <td>-5.732630</td>\n",
       "      <td>-1502.5</td>\n",
       "      <td>-336418.000000</td>\n",
       "      <td>-297774.000000</td>\n",
       "      <td>-893394.00000</td>\n",
       "      <td>0.000000</td>\n",
       "    </tr>\n",
       "    <tr>\n",
       "      <th>12</th>\n",
       "      <td>13</td>\n",
       "      <td>-72.9722</td>\n",
       "      <td>-12.739600</td>\n",
       "      <td>-1502.5</td>\n",
       "      <td>7</td>\n",
       "      <td>2</td>\n",
       "      <td>1</td>\n",
       "      <td>22553113789464576</td>\n",
       "      <td>-72.9840</td>\n",
       "      <td>-12.742000</td>\n",
       "      <td>-1502.5</td>\n",
       "      <td>-0.743773</td>\n",
       "      <td>-0.140970</td>\n",
       "      <td>-15.79590</td>\n",
       "      <td>0.000014</td>\n",
       "    </tr>\n",
       "    <tr>\n",
       "      <th>13</th>\n",
       "      <td>14</td>\n",
       "      <td>-153.1200</td>\n",
       "      <td>-5.202160</td>\n",
       "      <td>-1502.0</td>\n",
       "      <td>7</td>\n",
       "      <td>2</td>\n",
       "      <td>2</td>\n",
       "      <td>774620304138829824</td>\n",
       "      <td>-153.1300</td>\n",
       "      <td>-5.211740</td>\n",
       "      <td>-1502.0</td>\n",
       "      <td>-0.198274</td>\n",
       "      <td>-0.050901</td>\n",
       "      <td>-2.12107</td>\n",
       "      <td>0.000008</td>\n",
       "    </tr>\n",
       "    <tr>\n",
       "      <th>14</th>\n",
       "      <td>15</td>\n",
       "      <td>-175.3990</td>\n",
       "      <td>-4.680510</td>\n",
       "      <td>-1502.0</td>\n",
       "      <td>7</td>\n",
       "      <td>2</td>\n",
       "      <td>2</td>\n",
       "      <td>423341663507709952</td>\n",
       "      <td>-175.4030</td>\n",
       "      <td>-4.660240</td>\n",
       "      <td>-1502.0</td>\n",
       "      <td>-0.473803</td>\n",
       "      <td>-0.060670</td>\n",
       "      <td>-4.38780</td>\n",
       "      <td>0.000006</td>\n",
       "    </tr>\n",
       "    <tr>\n",
       "      <th>15</th>\n",
       "      <td>16</td>\n",
       "      <td>-154.0750</td>\n",
       "      <td>-10.001800</td>\n",
       "      <td>-1502.0</td>\n",
       "      <td>7</td>\n",
       "      <td>2</td>\n",
       "      <td>2</td>\n",
       "      <td>0</td>\n",
       "      <td>-154.0750</td>\n",
       "      <td>-10.002000</td>\n",
       "      <td>-1502.0</td>\n",
       "      <td>201173.000000</td>\n",
       "      <td>169103.000000</td>\n",
       "      <td>-964849.00000</td>\n",
       "      <td>0.000000</td>\n",
       "    </tr>\n",
       "    <tr>\n",
       "      <th>16</th>\n",
       "      <td>17</td>\n",
       "      <td>-108.9920</td>\n",
       "      <td>-8.317480</td>\n",
       "      <td>-1502.0</td>\n",
       "      <td>7</td>\n",
       "      <td>2</td>\n",
       "      <td>2</td>\n",
       "      <td>743104246437642240</td>\n",
       "      <td>-108.9910</td>\n",
       "      <td>-8.295680</td>\n",
       "      <td>-1502.0</td>\n",
       "      <td>-0.343067</td>\n",
       "      <td>0.010092</td>\n",
       "      <td>-4.66779</td>\n",
       "      <td>0.000011</td>\n",
       "    </tr>\n",
       "    <tr>\n",
       "      <th>17</th>\n",
       "      <td>18</td>\n",
       "      <td>-169.7220</td>\n",
       "      <td>-10.724800</td>\n",
       "      <td>-1502.0</td>\n",
       "      <td>7</td>\n",
       "      <td>2</td>\n",
       "      <td>2</td>\n",
       "      <td>0</td>\n",
       "      <td>-169.7190</td>\n",
       "      <td>-10.736700</td>\n",
       "      <td>-1502.0</td>\n",
       "      <td>-180493.000000</td>\n",
       "      <td>-64163.000000</td>\n",
       "      <td>-981481.00000</td>\n",
       "      <td>0.000000</td>\n",
       "    </tr>\n",
       "    <tr>\n",
       "      <th>18</th>\n",
       "      <td>19</td>\n",
       "      <td>-107.9390</td>\n",
       "      <td>0.590619</td>\n",
       "      <td>-1502.0</td>\n",
       "      <td>7</td>\n",
       "      <td>2</td>\n",
       "      <td>2</td>\n",
       "      <td>770117804023087104</td>\n",
       "      <td>-107.9290</td>\n",
       "      <td>0.592554</td>\n",
       "      <td>-1502.0</td>\n",
       "      <td>-0.460727</td>\n",
       "      <td>0.038177</td>\n",
       "      <td>-6.31199</td>\n",
       "      <td>0.000010</td>\n",
       "    </tr>\n",
       "    <tr>\n",
       "      <th>19</th>\n",
       "      <td>20</td>\n",
       "      <td>-108.7020</td>\n",
       "      <td>-8.322680</td>\n",
       "      <td>-1498.0</td>\n",
       "      <td>7</td>\n",
       "      <td>2</td>\n",
       "      <td>3</td>\n",
       "      <td>743104246437642240</td>\n",
       "      <td>-108.6970</td>\n",
       "      <td>-8.304880</td>\n",
       "      <td>-1498.0</td>\n",
       "      <td>-0.342917</td>\n",
       "      <td>0.011139</td>\n",
       "      <td>-4.66828</td>\n",
       "      <td>0.000010</td>\n",
       "    </tr>\n",
       "  </tbody>\n",
       "</table>\n",
       "</div>"
      ],
      "text/plain": [
       "    hit_id         x          y       z  volume_id  layer_id  module_id  \\\n",
       "0        1  -96.0251 -11.043100 -1502.5          7         2          1   \n",
       "1        2  -57.1466  -5.425400 -1502.5          7         2          1   \n",
       "2        3  -83.1498  -9.277450 -1502.5          7         2          1   \n",
       "3        4  -70.7627 -11.261700 -1502.5          7         2          1   \n",
       "4        5  -73.3473   0.070458 -1502.5          7         2          1   \n",
       "5        6  -83.4740   1.129180 -1502.5          7         2          1   \n",
       "6        7  -58.1014  -5.149460 -1502.5          7         2          1   \n",
       "7        8  -59.7223   2.597250 -1502.5          7         2          1   \n",
       "8        9  -83.0065 -14.131200 -1502.5          7         2          1   \n",
       "9       10  -66.6130 -10.935100 -1502.5          7         2          1   \n",
       "10      11  -78.6731  -8.373430 -1502.5          7         2          1   \n",
       "11      12  -31.0244  -5.733150 -1502.5          7         2          1   \n",
       "12      13  -72.9722 -12.739600 -1502.5          7         2          1   \n",
       "13      14 -153.1200  -5.202160 -1502.0          7         2          2   \n",
       "14      15 -175.3990  -4.680510 -1502.0          7         2          2   \n",
       "15      16 -154.0750 -10.001800 -1502.0          7         2          2   \n",
       "16      17 -108.9920  -8.317480 -1502.0          7         2          2   \n",
       "17      18 -169.7220 -10.724800 -1502.0          7         2          2   \n",
       "18      19 -107.9390   0.590619 -1502.0          7         2          2   \n",
       "19      20 -108.7020  -8.322680 -1498.0          7         2          3   \n",
       "\n",
       "           particle_id        tx         ty      tz            tpx  \\\n",
       "0   351284413067165696  -96.0272 -11.042000 -1502.5      -0.252020   \n",
       "1   220692736976617472  -57.1428  -5.446980 -1502.5       0.208659   \n",
       "2   193656433244372992  -83.1380  -9.292630 -1502.5      -0.341028   \n",
       "3   693574683580170240  -70.7448 -11.274200 -1502.5      -0.548888   \n",
       "4   693560115051102208  -73.3581   0.071451 -1502.5      -1.455310   \n",
       "5   616997065959931904  -83.4787   1.105010 -1502.5      -0.488937   \n",
       "6   747602623384780800  -58.1202  -5.148580 -1502.5      -0.838924   \n",
       "7   333274824921055232  -59.7189   2.573510 -1502.5      -0.436118   \n",
       "8   450366010051002368  -83.0082 -14.125400 -1502.5      -0.206439   \n",
       "9   580973766499106816  -66.6009 -10.956200 -1502.5      -0.212149   \n",
       "10  576475664429875200  -78.6883  -8.353620 -1502.5      -2.070600   \n",
       "11                   0  -31.0255  -5.732630 -1502.5 -336418.000000   \n",
       "12   22553113789464576  -72.9840 -12.742000 -1502.5      -0.743773   \n",
       "13  774620304138829824 -153.1300  -5.211740 -1502.0      -0.198274   \n",
       "14  423341663507709952 -175.4030  -4.660240 -1502.0      -0.473803   \n",
       "15                   0 -154.0750 -10.002000 -1502.0  201173.000000   \n",
       "16  743104246437642240 -108.9910  -8.295680 -1502.0      -0.343067   \n",
       "17                   0 -169.7190 -10.736700 -1502.0 -180493.000000   \n",
       "18  770117804023087104 -107.9290   0.592554 -1502.0      -0.460727   \n",
       "19  743104246437642240 -108.6970  -8.304880 -1498.0      -0.342917   \n",
       "\n",
       "              tpy           tpz    weight  \n",
       "0       -0.055783      -3.89135  0.000011  \n",
       "1       -0.000115      -5.17925  0.000010  \n",
       "2       -0.012671      -5.99884  0.000010  \n",
       "3       -0.067574     -11.59180  0.000012  \n",
       "4        0.016571     -30.04180  0.000026  \n",
       "5       -0.021615      -8.70473  0.000009  \n",
       "6       -0.055120     -21.11950  0.000017  \n",
       "7       -0.005628     -11.64620  0.000010  \n",
       "8       -0.054707      -3.23858  0.000010  \n",
       "9       -0.008676      -4.42666  0.000011  \n",
       "10      -0.194626     -39.49190  0.000032  \n",
       "11 -297774.000000 -893394.00000  0.000000  \n",
       "12      -0.140970     -15.79590  0.000014  \n",
       "13      -0.050901      -2.12107  0.000008  \n",
       "14      -0.060670      -4.38780  0.000006  \n",
       "15  169103.000000 -964849.00000  0.000000  \n",
       "16       0.010092      -4.66779  0.000011  \n",
       "17  -64163.000000 -981481.00000  0.000000  \n",
       "18       0.038177      -6.31199  0.000010  \n",
       "19       0.011139      -4.66828  0.000010  "
      ]
     },
     "execution_count": 30,
     "metadata": {},
     "output_type": "execute_result"
    }
   ],
   "source": [
    "df_bucket"
   ]
  },
  {
   "cell_type": "code",
   "execution_count": 31,
   "metadata": {},
   "outputs": [],
   "source": [
    "#for i in range(NB_BUCKET):\n",
    "    #n=random.choice(range(len(data)))\n",
    "    \n",
    "    #bucket_idx=np.array(index.get_nns_by_item(n,20))\n",
    "    #bucket=df.iloc[bucket_idx]\n",
    "    #for k,v in bucket[[\"hit_id\",\"x\",\"y\",\"z\",\"particle_id\"]].groupby(\"particle_id\"):\n",
    "        #print (v)\n",
    "    #print (\"-----\")\n",
    "    #print (\"i\")"
   ]
  },
  {
   "cell_type": "code",
   "execution_count": 32,
   "metadata": {},
   "outputs": [
    {
     "data": {
      "text/plain": [
       "0     351284413067165696\n",
       "1     220692736976617472\n",
       "2     193656433244372992\n",
       "3     693574683580170240\n",
       "4     693560115051102208\n",
       "5     616997065959931904\n",
       "6     747602623384780800\n",
       "7     333274824921055232\n",
       "8     450366010051002368\n",
       "9     580973766499106816\n",
       "10    576475664429875200\n",
       "11                     0\n",
       "12     22553113789464576\n",
       "13    774620304138829824\n",
       "14    423341663507709952\n",
       "15                     0\n",
       "16    743104246437642240\n",
       "17                     0\n",
       "18    770117804023087104\n",
       "19    743104246437642240\n",
       "Name: particle_id, dtype: int64"
      ]
     },
     "execution_count": 32,
     "metadata": {},
     "output_type": "execute_result"
    }
   ],
   "source": [
    "df_bucket[\"particle_id\"]"
   ]
  },
  {
   "cell_type": "code",
   "execution_count": 33,
   "metadata": {},
   "outputs": [],
   "source": [
    "#df"
   ]
  },
  {
   "cell_type": "code",
   "execution_count": 34,
   "metadata": {},
   "outputs": [
    {
     "data": {
      "text/plain": [
       "0     351284413067165696\n",
       "1     220692736976617472\n",
       "2     193656433244372992\n",
       "3     693574683580170240\n",
       "4     693560115051102208\n",
       "5     616997065959931904\n",
       "6     747602623384780800\n",
       "7     333274824921055232\n",
       "8     450366010051002368\n",
       "9     580973766499106816\n",
       "10    576475664429875200\n",
       "11                     0\n",
       "12     22553113789464576\n",
       "13    774620304138829824\n",
       "14    423341663507709952\n",
       "15                     0\n",
       "16    743104246437642240\n",
       "17                     0\n",
       "18    770117804023087104\n",
       "19    743104246437642240\n",
       "Name: particle_id, dtype: int64"
      ]
     },
     "execution_count": 34,
     "metadata": {},
     "output_type": "execute_result"
    }
   ],
   "source": [
    "df_bucket[\"particle_id\"]"
   ]
  },
  {
   "cell_type": "code",
   "execution_count": 35,
   "metadata": {},
   "outputs": [
    {
     "data": {
      "text/plain": [
       "0     351284413067165696\n",
       "1     220692736976617472\n",
       "2     193656433244372992\n",
       "3     693574683580170240\n",
       "4     693560115051102208\n",
       "5     616997065959931904\n",
       "6     747602623384780800\n",
       "7     333274824921055232\n",
       "8     450366010051002368\n",
       "9     580973766499106816\n",
       "10    576475664429875200\n",
       "11                     0\n",
       "12     22553113789464576\n",
       "13    774620304138829824\n",
       "14    423341663507709952\n",
       "15                     0\n",
       "16    743104246437642240\n",
       "17                     0\n",
       "18    770117804023087104\n",
       "19    743104246437642240\n",
       "Name: particle_id, dtype: int64"
      ]
     },
     "execution_count": 35,
     "metadata": {},
     "output_type": "execute_result"
    }
   ],
   "source": [
    "df_bucket.particle_id"
   ]
  },
  {
   "cell_type": "code",
   "execution_count": 36,
   "metadata": {},
   "outputs": [],
   "source": [
    "#tuple_most_common=list_tuple_most_common[0]\n",
    "#tuple_most_common"
   ]
  },
  {
   "cell_type": "code",
   "execution_count": 37,
   "metadata": {},
   "outputs": [
    {
     "data": {
      "text/plain": [
       "array([351284413067165696, 220692736976617472, 193656433244372992,\n",
       "       693574683580170240, 693560115051102208, 616997065959931904,\n",
       "       747602623384780800, 333274824921055232, 450366010051002368,\n",
       "       580973766499106816, 576475664429875200,                  0,\n",
       "        22553113789464576, 774620304138829824, 423341663507709952,\n",
       "                        0, 743104246437642240,                  0,\n",
       "       770117804023087104, 743104246437642240])"
      ]
     },
     "execution_count": 37,
     "metadata": {},
     "output_type": "execute_result"
    }
   ],
   "source": [
    "df_bucket.particle_id.values"
   ]
  },
  {
   "cell_type": "code",
   "execution_count": 38,
   "metadata": {},
   "outputs": [],
   "source": [
    "#particle_id_most_common=tuple_most_common[0]\n",
    "#particle_id_most_common"
   ]
  },
  {
   "cell_type": "code",
   "execution_count": 39,
   "metadata": {},
   "outputs": [],
   "source": [
    "#from collections import Counter\n",
    "#print ( Counter(df.particle_id.values ) )"
   ]
  },
  {
   "cell_type": "code",
   "execution_count": 40,
   "metadata": {},
   "outputs": [],
   "source": [
    "from collections import Counter"
   ]
  },
  {
   "cell_type": "code",
   "execution_count": 41,
   "metadata": {},
   "outputs": [
    {
     "data": {
      "text/plain": [
       "Counter({0: 3,\n",
       "         22553113789464576: 1,\n",
       "         193656433244372992: 1,\n",
       "         220692736976617472: 1,\n",
       "         333274824921055232: 1,\n",
       "         351284413067165696: 1,\n",
       "         423341663507709952: 1,\n",
       "         450366010051002368: 1,\n",
       "         576475664429875200: 1,\n",
       "         580973766499106816: 1,\n",
       "         616997065959931904: 1,\n",
       "         693560115051102208: 1,\n",
       "         693574683580170240: 1,\n",
       "         743104246437642240: 2,\n",
       "         747602623384780800: 1,\n",
       "         770117804023087104: 1,\n",
       "         774620304138829824: 1})"
      ]
     },
     "execution_count": 41,
     "metadata": {},
     "output_type": "execute_result"
    }
   ],
   "source": [
    "counter=Counter(df_bucket.particle_id.values)\n",
    "counter"
   ]
  },
  {
   "cell_type": "code",
   "execution_count": 42,
   "metadata": {},
   "outputs": [
    {
     "data": {
      "text/plain": [
       "[(0, 3),\n",
       " (743104246437642240, 2),\n",
       " (351284413067165696, 1),\n",
       " (220692736976617472, 1),\n",
       " (747602623384780800, 1),\n",
       " (770117804023087104, 1),\n",
       " (693560115051102208, 1),\n",
       " (450366010051002368, 1),\n",
       " (580973766499106816, 1),\n",
       " (333274824921055232, 1),\n",
       " (693574683580170240, 1),\n",
       " (423341663507709952, 1),\n",
       " (576475664429875200, 1),\n",
       " (22553113789464576, 1),\n",
       " (774620304138829824, 1),\n",
       " (193656433244372992, 1),\n",
       " (616997065959931904, 1)]"
      ]
     },
     "execution_count": 42,
     "metadata": {},
     "output_type": "execute_result"
    }
   ],
   "source": [
    "list_tuple_most_common=counter.most_common()\n",
    "list_tuple_most_common"
   ]
  },
  {
   "cell_type": "code",
   "execution_count": 43,
   "metadata": {},
   "outputs": [
    {
     "data": {
      "text/plain": [
       "(0, 3)"
      ]
     },
     "execution_count": 43,
     "metadata": {},
     "output_type": "execute_result"
    }
   ],
   "source": [
    "tuple_most_common=list_tuple_most_common[0]\n",
    "tuple_most_common"
   ]
  },
  {
   "cell_type": "code",
   "execution_count": 44,
   "metadata": {},
   "outputs": [
    {
     "data": {
      "text/plain": [
       "0"
      ]
     },
     "execution_count": 44,
     "metadata": {},
     "output_type": "execute_result"
    }
   ],
   "source": [
    "particle_id_most_common=tuple_most_common[0]\n",
    "particle_id_most_common"
   ]
  },
  {
   "cell_type": "code",
   "execution_count": 45,
   "metadata": {},
   "outputs": [
    {
     "data": {
      "text/plain": [
       "hit_id         8.000000e+00\n",
       "x             -5.972230e+01\n",
       "y              2.597250e+00\n",
       "z             -1.502500e+03\n",
       "volume_id      7.000000e+00\n",
       "layer_id       2.000000e+00\n",
       "module_id      1.000000e+00\n",
       "particle_id    3.332748e+17\n",
       "tx            -5.971890e+01\n",
       "ty             2.573510e+00\n",
       "tz            -1.502500e+03\n",
       "tpx           -4.361180e-01\n",
       "tpy           -5.628240e-03\n",
       "tpz           -1.164620e+01\n",
       "weight         1.045220e-05\n",
       "Name: 7, dtype: float64"
      ]
     },
     "execution_count": 45,
     "metadata": {},
     "output_type": "execute_result"
    }
   ],
   "source": [
    "hit=df_bucket.iloc[7]\n",
    "hit"
   ]
  },
  {
   "cell_type": "code",
   "execution_count": 46,
   "metadata": {},
   "outputs": [
    {
     "data": {
      "text/plain": [
       "8.0"
      ]
     },
     "execution_count": 46,
     "metadata": {},
     "output_type": "execute_result"
    }
   ],
   "source": [
    "hit_id=hit[\"hit_id\"]\n",
    "hit_id"
   ]
  },
  {
   "cell_type": "code",
   "execution_count": 47,
   "metadata": {},
   "outputs": [
    {
     "data": {
      "text/plain": [
       "3.332748249210552e+17"
      ]
     },
     "execution_count": 47,
     "metadata": {},
     "output_type": "execute_result"
    }
   ],
   "source": [
    "particle_id=hit[\"particle_id\"]\n",
    "particle_id"
   ]
  },
  {
   "cell_type": "code",
   "execution_count": 48,
   "metadata": {},
   "outputs": [
    {
     "name": "stdout",
     "output_type": "stream",
     "text": [
      "i 0 hit_id 1.0 x -96.0251 y -11.0431 z -1502.5 particle_id 3.512844130671657e+17\n",
      "i 1 hit_id 2.0 x -57.1466 y -5.4254 z -1502.5 particle_id 2.2069273697661747e+17\n",
      "i 2 hit_id 3.0 x -83.1498 y -9.27745 z -1502.5 particle_id 1.93656433244373e+17\n",
      "i 3 hit_id 4.0 x -70.7627 y -11.2617 z -1502.5 particle_id 6.935746835801702e+17\n",
      "i 4 hit_id 5.0 x -73.3473 y 0.07045760000000001 z -1502.5 particle_id 6.935601150511022e+17\n",
      "i 5 hit_id 6.0 x -83.47399999999999 y 1.1291799999999999 z -1502.5 particle_id 6.169970659599319e+17\n",
      "i 6 hit_id 7.0 x -58.1014 y -5.1494599999999995 z -1502.5 particle_id 7.476026233847808e+17\n",
      "i 7 hit_id 8.0 x -59.7223 y 2.59725 z -1502.5 particle_id 3.332748249210552e+17\n",
      "i 8 hit_id 9.0 x -83.0065 y -14.1312 z -1502.5 particle_id 4.503660100510024e+17\n",
      "i 9 hit_id 10.0 x -66.613 y -10.9351 z -1502.5 particle_id 5.809737664991068e+17\n",
      "i 10 hit_id 11.0 x -78.6731 y -8.37343 z -1502.5 particle_id 5.764756644298752e+17\n",
      "i 11 hit_id 12.0 x -31.0244 y -5.73315 z -1502.5 particle_id 0.0\n",
      "i 12 hit_id 13.0 x -72.9722 y -12.7396 z -1502.5 particle_id 2.2553113789464576e+16\n",
      "i 13 hit_id 14.0 x -153.12 y -5.20216 z -1502.0 particle_id 7.746203041388298e+17\n",
      "i 14 hit_id 15.0 x -175.399 y -4.68051 z -1502.0 particle_id 4.2334166350770995e+17\n",
      "i 15 hit_id 16.0 x -154.075 y -10.0018 z -1502.0 particle_id 0.0\n",
      "i 16 hit_id 17.0 x -108.992 y -8.31748 z -1502.0 particle_id 7.431042464376422e+17\n",
      "i 17 hit_id 18.0 x -169.722 y -10.7248 z -1502.0 particle_id 0.0\n",
      "i 18 hit_id 19.0 x -107.939 y 0.590619 z -1502.0 particle_id 7.701178040230871e+17\n",
      "i 19 hit_id 20.0 x -108.70200000000001 y -8.32268 z -1498.0 particle_id 7.431042464376422e+17\n",
      "list_input [-96.0251, -11.0431, -1502.5, -57.1466, -5.4254, -1502.5, -83.1498, -9.27745, -1502.5, -70.7627, -11.2617, -1502.5, -73.3473, 0.07045760000000001, -1502.5, -83.47399999999999, 1.1291799999999999, -1502.5, -58.1014, -5.1494599999999995, -1502.5, -59.7223, 2.59725, -1502.5, -83.0065, -14.1312, -1502.5, -66.613, -10.9351, -1502.5, -78.6731, -8.37343, -1502.5, -31.0244, -5.73315, -1502.5, -72.9722, -12.7396, -1502.5, -153.12, -5.20216, -1502.0, -175.399, -4.68051, -1502.0, -154.075, -10.0018, -1502.0, -108.992, -8.31748, -1502.0, -169.722, -10.7248, -1502.0, -107.939, 0.590619, -1502.0, -108.70200000000001, -8.32268, -1498.0]\n",
      "list_input has so many elements: 60\n",
      "list_output [0, 0, 0, 0, 0, 0, 0, 0, 0, 0, 0, 1, 0, 0, 0, 1, 0, 1, 0, 0]\n",
      "list_output has so many elements: 20\n"
     ]
    }
   ],
   "source": [
    "list_input=[]\n",
    "list_output=[]\n",
    "\n",
    "# loop over the hits in the bucket\n",
    "for i in range(df_bucket.shape[0]):\n",
    "    # we get all a dictionary of names of the columns to values for the i'th row as df_bucket.iloc[i]\n",
    "    print \"i\",i,\"hit_id\",df_bucket.iloc[i][\"hit_id\"],\"x\",df_bucket.iloc[i][\"x\"],\"y\",df_bucket.iloc[i][\"y\"],\"z\",df_bucket.iloc[i][\"z\"],\"particle_id\",df_bucket.iloc[i][\"particle_id\"]\n",
    "    # now fill the input list, but adding one at a time the values of x, y, z\n",
    "    list_input.append(df_bucket.iloc[i][\"x\"])\n",
    "    list_input.append(df_bucket.iloc[i][\"y\"])\n",
    "    list_input.append(df_bucket.iloc[i][\"z\"])\n",
    "    # now fill the output list \n",
    "    # check if our particle_id is the same as the most common one, if so, choose 1, if not choose 0\n",
    "    if df_bucket.iloc[i][\"particle_id\"]==particle_id_most_common:\n",
    "        output=1\n",
    "    else:\n",
    "        output=0\n",
    "    # add the output to the list\n",
    "    list_output.append(output)\n",
    "# done for loop over all the hits in the bucket\n",
    "# print out the list_input, filled with the x, y, z values\n",
    "print \"list_input\",list_input\n",
    "# let's make sure that it has three times number of elements like the bucket size\n",
    "print \"list_input has so many elements:\",len(list_input)\n",
    "# print out the list_output, filled with either 1 or 0\n",
    "print \"list_output\",list_output\n",
    "# let's make sure that it has the same number of elements like the bucket size\n",
    "print \"list_output has so many elements:\",len(list_output)"
   ]
  },
  {
   "cell_type": "code",
   "execution_count": 49,
   "metadata": {},
   "outputs": [
    {
     "data": {
      "text/plain": [
       "0        0.0021\n",
       "1       -0.0038\n",
       "2       -0.0118\n",
       "3       -0.0179\n",
       "4        0.0108\n",
       "5        0.0047\n",
       "6        0.0188\n",
       "7       -0.0034\n",
       "8        0.0017\n",
       "9       -0.0121\n",
       "10       0.0152\n",
       "11       0.0011\n",
       "12       0.0118\n",
       "13       0.0100\n",
       "14       0.0040\n",
       "15       0.0000\n",
       "16      -0.0010\n",
       "17      -0.0030\n",
       "18      -0.0100\n",
       "19      -0.0050\n",
       "20       0.0010\n",
       "21      -0.0040\n",
       "22       0.0010\n",
       "23      -0.0010\n",
       "24       0.0080\n",
       "25      -0.0100\n",
       "26      -0.0070\n",
       "27      -0.0020\n",
       "28      -0.0070\n",
       "29      -0.0030\n",
       "          ...  \n",
       "95194   -1.9610\n",
       "95195    1.1550\n",
       "95196    0.5170\n",
       "95197   -4.5370\n",
       "95198   -2.2630\n",
       "95199   -0.5060\n",
       "95200   -4.4300\n",
       "95201    2.7440\n",
       "95202    0.3430\n",
       "95203   -0.0920\n",
       "95204    1.2750\n",
       "95205    4.2570\n",
       "95206   -1.7660\n",
       "95207   -3.4120\n",
       "95208    0.9640\n",
       "95209    0.5140\n",
       "95210    0.2300\n",
       "95211   -4.2920\n",
       "95212    4.3120\n",
       "95213   -1.3010\n",
       "95214   -3.9190\n",
       "95215    0.8680\n",
       "95216    0.2860\n",
       "95217   -2.0560\n",
       "95218   -2.5960\n",
       "95219    3.5810\n",
       "95220   -3.8060\n",
       "95221    3.3730\n",
       "95222   -0.5920\n",
       "95223   -2.5100\n",
       "Length: 95224, dtype: float64"
      ]
     },
     "execution_count": 49,
     "metadata": {},
     "output_type": "execute_result"
    }
   ],
   "source": [
    "nparray_error_x=df_hits[\"x\"]-df_hits[\"tx\"]\n",
    "nparray_error_x"
   ]
  },
  {
   "cell_type": "code",
   "execution_count": 50,
   "metadata": {},
   "outputs": [
    {
     "data": {
      "text/plain": [
       "(array([  36.,   37.,   46.,   37.,   50.,   38.,   44.,   39.,   29.,\n",
       "          41.,   44.,   33.,   49.,   47.,   31.,   51.,   55.,   52.,\n",
       "          55.,   48.,   50.,   62.,   71.,   77.,   89.,   95.,   99.,\n",
       "         111.,  156.,  160.,  199.,  220.,  204.,  316.,  315.,  387.,\n",
       "         523.,  664.,  749., 1086., 1554., 1465., 1969., 2404., 2762.,\n",
       "        4141., 4464., 4621., 5350., 5291., 8162., 5462., 4631., 4581.,\n",
       "        4159., 2670., 2456., 2093., 1548., 1510., 1053.,  809.,  677.,\n",
       "         493.,  385.,  353.,  310.,  197.,  192.,  180.,  168.,  151.,\n",
       "         107.,   92.,  103.,   78.,   81.,   73.,   69.,   37.,   64.,\n",
       "          64.,   39.,   59.,   42.,   28.,   53.,   39.,   40.,   41.,\n",
       "          46.,   26.,   36.,   38.,   50.,   38.,   47.,   30.,   38.,\n",
       "          35.]),\n",
       " array([-0.1  , -0.098, -0.096, -0.094, -0.092, -0.09 , -0.088, -0.086,\n",
       "        -0.084, -0.082, -0.08 , -0.078, -0.076, -0.074, -0.072, -0.07 ,\n",
       "        -0.068, -0.066, -0.064, -0.062, -0.06 , -0.058, -0.056, -0.054,\n",
       "        -0.052, -0.05 , -0.048, -0.046, -0.044, -0.042, -0.04 , -0.038,\n",
       "        -0.036, -0.034, -0.032, -0.03 , -0.028, -0.026, -0.024, -0.022,\n",
       "        -0.02 , -0.018, -0.016, -0.014, -0.012, -0.01 , -0.008, -0.006,\n",
       "        -0.004, -0.002,  0.   ,  0.002,  0.004,  0.006,  0.008,  0.01 ,\n",
       "         0.012,  0.014,  0.016,  0.018,  0.02 ,  0.022,  0.024,  0.026,\n",
       "         0.028,  0.03 ,  0.032,  0.034,  0.036,  0.038,  0.04 ,  0.042,\n",
       "         0.044,  0.046,  0.048,  0.05 ,  0.052,  0.054,  0.056,  0.058,\n",
       "         0.06 ,  0.062,  0.064,  0.066,  0.068,  0.07 ,  0.072,  0.074,\n",
       "         0.076,  0.078,  0.08 ,  0.082,  0.084,  0.086,  0.088,  0.09 ,\n",
       "         0.092,  0.094,  0.096,  0.098,  0.1  ]),\n",
       " <a list of 100 Patch objects>)"
      ]
     },
     "execution_count": 50,
     "metadata": {},
     "output_type": "execute_result"
    },
    {
     "data": {
      "image/png": "[encoded data removed]",
      "text/plain": [
       "<Figure size 432x288 with 1 Axes>"
      ]
     },
     "metadata": {
      "needs_background": "light"
     },
     "output_type": "display_data"
    }
   ],
   "source": [
    "plt.hist(nparray_error_x, bins=100, range=(-0.1,0.1))"
   ]
  },
  {
   "cell_type": "code",
   "execution_count": 51,
   "metadata": {},
   "outputs": [
    {
     "data": {
      "text/plain": [
       "0       -0.001100\n",
       "1        0.021580\n",
       "2        0.015180\n",
       "3        0.012500\n",
       "4       -0.000993\n",
       "5        0.024170\n",
       "6       -0.000880\n",
       "7        0.023740\n",
       "8       -0.005800\n",
       "9        0.021100\n",
       "10      -0.019810\n",
       "11      -0.000520\n",
       "12       0.002400\n",
       "13       0.009580\n",
       "14      -0.020270\n",
       "15       0.000200\n",
       "16      -0.021800\n",
       "17       0.011900\n",
       "18      -0.001935\n",
       "19      -0.017800\n",
       "20      -0.000300\n",
       "21      -0.012000\n",
       "22      -0.000300\n",
       "23       0.000200\n",
       "24      -0.006400\n",
       "25      -0.003200\n",
       "26       0.004600\n",
       "27       0.000900\n",
       "28       0.019800\n",
       "29       0.007900\n",
       "           ...   \n",
       "95194    0.946000\n",
       "95195   -0.538000\n",
       "95196   -0.214000\n",
       "95197    2.284000\n",
       "95198    1.140000\n",
       "95199    0.235000\n",
       "95200    2.081000\n",
       "95201   -1.325000\n",
       "95202   -0.127000\n",
       "95203    0.025000\n",
       "95204   -0.477000\n",
       "95205   -1.356000\n",
       "95206    0.580000\n",
       "95207    1.085000\n",
       "95208   -0.187000\n",
       "95209   -0.112000\n",
       "95210   -0.006000\n",
       "95211    0.825000\n",
       "95212   -0.809000\n",
       "95213    0.213000\n",
       "95214    0.251000\n",
       "95215   -0.068800\n",
       "95216   -0.033000\n",
       "95217    0.160040\n",
       "95218    0.157000\n",
       "95219   -0.227300\n",
       "95220    0.246000\n",
       "95221   -0.172000\n",
       "95222    0.053900\n",
       "95223    0.146800\n",
       "Length: 95224, dtype: float64"
      ]
     },
     "execution_count": 51,
     "metadata": {},
     "output_type": "execute_result"
    }
   ],
   "source": [
    "nparray_error_y=df_hits[\"y\"]-df_hits[\"ty\"]\n",
    "nparray_error_y"
   ]
  },
  {
   "cell_type": "code",
   "execution_count": 52,
   "metadata": {},
   "outputs": [
    {
     "data": {
      "text/plain": [
       "(array([  32.,   40.,   25.,   47.,   39.,   27.,   40.,   43.,   29.,\n",
       "          43.,   48.,   39.,   49.,   53.,   49.,   54.,   67.,   54.,\n",
       "          53.,   50.,   48.,   67.,   67.,   61.,   85.,   87.,   97.,\n",
       "         140.,  159.,  151.,  198.,  236.,  217.,  319.,  339.,  370.,\n",
       "         501.,  660.,  768., 1065., 1526., 1538., 1996., 2378., 2785.,\n",
       "        4047., 4668., 4706., 5397., 5391., 7876., 5310., 4792., 4645.,\n",
       "        4051., 2759., 2412., 2006., 1520., 1460., 1119.,  798.,  670.,\n",
       "         480.,  361.,  340.,  307.,  226.,  251.,  199.,  159.,  143.,\n",
       "         135.,   83.,  102.,   89.,   59.,   68.,   69.,   56.,   56.,\n",
       "          42.,   46.,   48.,   47.,   40.,   38.,   29.,   42.,   58.,\n",
       "          42.,   26.,   42.,   51.,   26.,   34.,   36.,   41.,   31.,\n",
       "          33.]),\n",
       " array([-0.1  , -0.098, -0.096, -0.094, -0.092, -0.09 , -0.088, -0.086,\n",
       "        -0.084, -0.082, -0.08 , -0.078, -0.076, -0.074, -0.072, -0.07 ,\n",
       "        -0.068, -0.066, -0.064, -0.062, -0.06 , -0.058, -0.056, -0.054,\n",
       "        -0.052, -0.05 , -0.048, -0.046, -0.044, -0.042, -0.04 , -0.038,\n",
       "        -0.036, -0.034, -0.032, -0.03 , -0.028, -0.026, -0.024, -0.022,\n",
       "        -0.02 , -0.018, -0.016, -0.014, -0.012, -0.01 , -0.008, -0.006,\n",
       "        -0.004, -0.002,  0.   ,  0.002,  0.004,  0.006,  0.008,  0.01 ,\n",
       "         0.012,  0.014,  0.016,  0.018,  0.02 ,  0.022,  0.024,  0.026,\n",
       "         0.028,  0.03 ,  0.032,  0.034,  0.036,  0.038,  0.04 ,  0.042,\n",
       "         0.044,  0.046,  0.048,  0.05 ,  0.052,  0.054,  0.056,  0.058,\n",
       "         0.06 ,  0.062,  0.064,  0.066,  0.068,  0.07 ,  0.072,  0.074,\n",
       "         0.076,  0.078,  0.08 ,  0.082,  0.084,  0.086,  0.088,  0.09 ,\n",
       "         0.092,  0.094,  0.096,  0.098,  0.1  ]),\n",
       " <a list of 100 Patch objects>)"
      ]
     },
     "execution_count": 52,
     "metadata": {},
     "output_type": "execute_result"
    },
    {
     "data": {
      "image/png": "[encoded data removed]",
      "text/plain": [
       "<Figure size 432x288 with 1 Axes>"
      ]
     },
     "metadata": {
      "needs_background": "light"
     },
     "output_type": "display_data"
    }
   ],
   "source": [
    "plt.hist(nparray_error_y, bins=100, range=(-0.1,0.1))"
   ]
  },
  {
   "cell_type": "code",
   "execution_count": 53,
   "metadata": {},
   "outputs": [
    {
     "data": {
      "text/plain": [
       "0        0.0\n",
       "1        0.0\n",
       "2        0.0\n",
       "3        0.0\n",
       "4        0.0\n",
       "5        0.0\n",
       "6        0.0\n",
       "7        0.0\n",
       "8        0.0\n",
       "9        0.0\n",
       "10       0.0\n",
       "11       0.0\n",
       "12       0.0\n",
       "13       0.0\n",
       "14       0.0\n",
       "15       0.0\n",
       "16       0.0\n",
       "17       0.0\n",
       "18       0.0\n",
       "19       0.0\n",
       "20       0.0\n",
       "21       0.0\n",
       "22       0.0\n",
       "23       0.0\n",
       "24       0.0\n",
       "25       0.0\n",
       "26       0.0\n",
       "27       0.0\n",
       "28       0.0\n",
       "29       0.0\n",
       "        ... \n",
       "95194    0.0\n",
       "95195    0.0\n",
       "95196    0.0\n",
       "95197    0.0\n",
       "95198    0.0\n",
       "95199    0.0\n",
       "95200    0.0\n",
       "95201    0.0\n",
       "95202    0.0\n",
       "95203    0.0\n",
       "95204    0.0\n",
       "95205    0.0\n",
       "95206    0.0\n",
       "95207    0.0\n",
       "95208    0.0\n",
       "95209    0.0\n",
       "95210    0.0\n",
       "95211    0.0\n",
       "95212    0.0\n",
       "95213    0.0\n",
       "95214    0.0\n",
       "95215    0.0\n",
       "95216    0.0\n",
       "95217    0.0\n",
       "95218    0.0\n",
       "95219    0.0\n",
       "95220    0.0\n",
       "95221    0.0\n",
       "95222    0.0\n",
       "95223    0.0\n",
       "Length: 95224, dtype: float64"
      ]
     },
     "execution_count": 53,
     "metadata": {},
     "output_type": "execute_result"
    }
   ],
   "source": [
    "nparray_error_z=df_hits[\"z\"]-df_hits[\"tz\"]\n",
    "nparray_error_z"
   ]
  },
  {
   "cell_type": "code",
   "execution_count": 54,
   "metadata": {
    "scrolled": true
   },
   "outputs": [
    {
     "data": {
      "text/plain": [
       "(array([1.2300e+02, 1.1000e+01, 1.5000e+01, 2.1000e+01, 1.2600e+02,\n",
       "        5.7000e+01, 2.2000e+01, 1.3000e+01, 1.8000e+01, 1.0900e+02,\n",
       "        1.1200e+02, 2.2000e+01, 2.0000e+01, 2.7000e+01, 2.1000e+02,\n",
       "        1.0300e+02, 3.5000e+01, 2.0000e+01, 3.9000e+01, 2.7500e+02,\n",
       "        1.9100e+02, 5.0000e+01, 3.3000e+01, 4.1000e+01, 9.6000e+01,\n",
       "        5.0800e+02, 5.0000e+01, 7.6000e+01, 7.0000e+01, 4.8400e+02,\n",
       "        3.8300e+02, 8.7000e+01, 9.7000e+01, 1.1500e+02, 5.7300e+02,\n",
       "        6.4100e+02, 1.5000e+02, 1.5500e+02, 1.3900e+02, 8.5100e+02,\n",
       "        5.5800e+02, 1.3500e+02, 2.3000e+02, 1.8800e+02, 1.0040e+03,\n",
       "        8.0200e+02, 1.9700e+02, 1.9000e+02, 2.3100e+02, 1.8900e+02,\n",
       "        4.4596e+04, 2.3300e+02, 1.7300e+02, 2.0600e+02, 7.9900e+02,\n",
       "        9.5100e+02, 1.6200e+02, 2.1200e+02, 1.3700e+02, 5.9000e+02,\n",
       "        9.5900e+02, 1.7100e+02, 1.4000e+02, 1.4600e+02, 6.1800e+02,\n",
       "        5.9300e+02, 9.5000e+01, 9.6000e+01, 8.7000e+01, 4.0000e+02,\n",
       "        4.9700e+02, 6.0000e+01, 7.4000e+01, 5.2000e+01, 5.5800e+02,\n",
       "        1.3400e+02, 4.8000e+01, 3.6000e+01, 4.0000e+01, 1.8800e+02,\n",
       "        2.7800e+02, 3.0000e+01, 2.3000e+01, 3.1000e+01, 1.0100e+02,\n",
       "        2.1000e+02, 2.1000e+01, 2.5000e+01, 1.7000e+01, 1.0800e+02,\n",
       "        1.2300e+02, 2.0000e+01, 1.6000e+01, 1.7000e+01, 6.7000e+01,\n",
       "        1.5600e+02, 1.2000e+01, 2.4000e+01, 1.6000e+01, 1.1600e+02]),\n",
       " array([-0.01  , -0.0098, -0.0096, -0.0094, -0.0092, -0.009 , -0.0088,\n",
       "        -0.0086, -0.0084, -0.0082, -0.008 , -0.0078, -0.0076, -0.0074,\n",
       "        -0.0072, -0.007 , -0.0068, -0.0066, -0.0064, -0.0062, -0.006 ,\n",
       "        -0.0058, -0.0056, -0.0054, -0.0052, -0.005 , -0.0048, -0.0046,\n",
       "        -0.0044, -0.0042, -0.004 , -0.0038, -0.0036, -0.0034, -0.0032,\n",
       "        -0.003 , -0.0028, -0.0026, -0.0024, -0.0022, -0.002 , -0.0018,\n",
       "        -0.0016, -0.0014, -0.0012, -0.001 , -0.0008, -0.0006, -0.0004,\n",
       "        -0.0002,  0.    ,  0.0002,  0.0004,  0.0006,  0.0008,  0.001 ,\n",
       "         0.0012,  0.0014,  0.0016,  0.0018,  0.002 ,  0.0022,  0.0024,\n",
       "         0.0026,  0.0028,  0.003 ,  0.0032,  0.0034,  0.0036,  0.0038,\n",
       "         0.004 ,  0.0042,  0.0044,  0.0046,  0.0048,  0.005 ,  0.0052,\n",
       "         0.0054,  0.0056,  0.0058,  0.006 ,  0.0062,  0.0064,  0.0066,\n",
       "         0.0068,  0.007 ,  0.0072,  0.0074,  0.0076,  0.0078,  0.008 ,\n",
       "         0.0082,  0.0084,  0.0086,  0.0088,  0.009 ,  0.0092,  0.0094,\n",
       "         0.0096,  0.0098,  0.01  ]),\n",
       " <a list of 100 Patch objects>)"
      ]
     },
     "execution_count": 54,
     "metadata": {},
     "output_type": "execute_result"
    },
    {
     "data": {
      "image/png": "[encoded data removed]",
      "text/plain": [
       "<Figure size 432x288 with 1 Axes>"
      ]
     },
     "metadata": {
      "needs_background": "light"
     },
     "output_type": "display_data"
    }
   ],
   "source": [
    "plt.hist(nparray_error_z, bins=100, range=(-0.01,0.01))"
   ]
  },
  {
   "cell_type": "code",
   "execution_count": 55,
   "metadata": {},
   "outputs": [],
   "source": [
    "def get_list_inputValues(df_bucket,debug):\n",
    "    list_inputValues=[]\n",
    "    for i in range (df_bucket.shape[0]):\n",
    "        hit=df_bucket.iloc[i]\n",
    "        x=hit[\"x\"]\n",
    "        y=hit[\"y\"]\n",
    "        z=hit[\"z\"]\n",
    "        if debug:\n",
    "            print \"i\", i, \"x\", x, \"y\", y, \"z\", z\n",
    "        list_inputValues.append(x)\n",
    "        list_inputValues.append(y)\n",
    "        list_inputValues.append(z)\n",
    "    return list_inputValues\n",
    "        "
   ]
  },
  {
   "cell_type": "code",
   "execution_count": null,
   "metadata": {},
   "outputs": [],
   "source": []
  },
  {
   "cell_type": "code",
   "execution_count": 56,
   "metadata": {},
   "outputs": [
    {
     "name": "stdout",
     "output_type": "stream",
     "text": [
      "nrHits 42\n",
      "nrBuckets 2\n",
      "nrBuckets 2\n",
      "0 True 1\n",
      "list_inputValues [-96.0251, -11.0431, -1502.5, -57.1466, -5.4254, -1502.5, -83.1498, -9.27745, -1502.5, -70.7627, -11.2617, -1502.5, -73.3473, 0.07045760000000001, -1502.5, -83.47399999999999, 1.1291799999999999, -1502.5, -58.1014, -5.1494599999999995, -1502.5, -59.7223, 2.59725, -1502.5, -83.0065, -14.1312, -1502.5, -66.613, -10.9351, -1502.5, -78.6731, -8.37343, -1502.5, -31.0244, -5.73315, -1502.5, -72.9722, -12.7396, -1502.5, -153.12, -5.20216, -1502.0, -175.399, -4.68051, -1502.0, -154.075, -10.0018, -1502.0, -108.992, -8.31748, -1502.0, -169.722, -10.7248, -1502.0, -107.939, 0.590619, -1502.0, -108.70200000000001, -8.32268, -1498.0]\n",
      "20 True 2\n",
      "list_inputValues [-152.855, -26.2446, -1498.0, -115.10799999999999, -21.0295, -1498.0, -173.122, -22.2564, -1498.0, -167.92700000000002, -30.8275, -1498.0, -155.446, -17.2664, -1498.0, -127.429, -24.3132, -1498.0, -139.06, -15.4351, -1498.0, -132.912, -23.3121, -1498.0, -151.666, -25.8767, -1498.0, -111.634, -11.6115, -1498.0, -151.01, -27.08, -1498.0, -60.7914, -14.929, -1498.0, -82.7129, -14.0728, -1498.0, -72.7768, -12.7157, -1498.0, -93.6299, -15.9738, -1498.0, -66.381, -10.9232, -1498.0, -56.2868, -16.1614, -1498.0, -88.7543, -19.1741, -1498.0, -97.5715, -29.5696, -1498.0, -51.8711, -20.0377, -1498.0]\n",
      "counterBuckets 2\n"
     ]
    }
   ],
   "source": [
    "# 95220\n",
    "nrHits=df_hits.shape[0]\n",
    "nrHits=42\n",
    "debug=False\n",
    "print \"nrHits\", nrHits\n",
    "# keep only complete Buckets\n",
    "nrBuckets=(nrHits-nrHits%BUCKET_SIZE)/BUCKET_SIZE\n",
    "print \"nrBuckets\", nrBuckets\n",
    "# keep even nr of Buckets for equal size train and test\n",
    "nrBuckets=nrBuckets-nrBuckets%2\n",
    "print \"nrBuckets\", nrBuckets\n",
    "counterBuckets=0\n",
    "for i in range (nrHits):\n",
    "    isMultipleOfBucketSize=i%BUCKET_SIZE==0\n",
    "    if isMultipleOfBucketSize==False:\n",
    "        continue\n",
    "    isCompleteBucket=i+BUCKET_SIZE<nrHits\n",
    "    if isCompleteBucket==False:\n",
    "        continue\n",
    "    isNotLastOddBucket=counterBuckets<nrBuckets\n",
    "    if isNotLastOddBucket==False:\n",
    "        continue\n",
    "    counterBuckets+=1\n",
    "    print i, isMultipleOfBucketSize, counterBuckets\n",
    "    df_bucket=df_hits[i:i+BUCKET_SIZE]\n",
    "    #print \"df_bucket\", df_bucket\n",
    "    list_inputValues=get_list_inputValues(df_bucket,debug)\n",
    "    print \"list_inputValues\", list_inputValues\n",
    "#doneforloop\n",
    "print \"counterBuckets\", counterBuckets\n",
    "    "
   ]
  },
  {
   "cell_type": "code",
   "execution_count": null,
   "metadata": {},
   "outputs": [],
   "source": []
  },
  {
   "cell_type": "code",
   "execution_count": null,
   "metadata": {},
   "outputs": [],
   "source": []
  },
  {
   "cell_type": "code",
   "execution_count": null,
   "metadata": {},
   "outputs": [],
   "source": []
  },
  {
   "cell_type": "code",
   "execution_count": null,
   "metadata": {},
   "outputs": [],
   "source": []
  },
  {
   "cell_type": "code",
   "execution_count": null,
   "metadata": {},
   "outputs": [],
   "source": []
  }
 ],
 "metadata": {
  "anaconda-cloud": {},
  "kernelspec": {
   "display_name": "Python 2",
   "language": "python",
   "name": "python2"
  },
  "language_info": {
   "codemirror_mode": {
    "name": "ipython",
    "version": 2
   },
   "file_extension": ".py",
   "mimetype": "text/x-python",
   "name": "python",
   "nbconvert_exporter": "python",
   "pygments_lexer": "ipython2",
   "version": "2.7.16"
  }
 },
 "nbformat": 4,
 "nbformat_minor": 1
}
