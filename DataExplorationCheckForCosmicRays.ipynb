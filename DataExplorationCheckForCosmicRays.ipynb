{
 "cells": [
  {
   "cell_type": "code",
   "execution_count": null,
   "metadata": {},
   "outputs": [],
   "source": [
    "import pandas as pd\n",
    "import matplotlib.pyplot as plt\n",
    "import numpy as np"
   ]
  },
  {
   "cell_type": "code",
   "execution_count": null,
   "metadata": {},
   "outputs": [],
   "source": [
    "debug=False\n",
    "#inputFolderName=\"/Users/luizaadelinaciucu/Work/ATLAS/TrackML/input/ttbar_mu200-generic\"\n",
    "#inputFolderName=\"/Users/abuzatu/Work/ATLAS/Luiza/TrackML/input/ttbar_mu200-generic\"\n",
    "inputFolderName=\"/Volumes/Luiza_SSD/ATLAS/TrackML/data/ttbar_mu200-generic\"\n",
    "eventNumber=\"000000099\"\n",
    "inputFileName_hits_recon=inputFolderName+\"/event\"+eventNumber+\"-hits.csv\"\n",
    "inputFileName_hits_truth=inputFolderName+\"/event\"+eventNumber+\"-truth.csv\""
   ]
  },
  {
   "cell_type": "code",
   "execution_count": null,
   "metadata": {},
   "outputs": [],
   "source": [
    "list_extension = [\"png\", \"pdf\"]\n",
    "outputFolderName=\"/Volumes/Luiza_SSD/ATLAS/TrackML/plots_data_exploration\""
   ]
  },
  {
   "cell_type": "code",
   "execution_count": null,
   "metadata": {},
   "outputs": [],
   "source": [
    "def p(name,nparray):\n",
    "    print(\"Start\",name)\n",
    "    print(nparray)\n",
    "    print(\"shape\",nparray.shape,\"type\",nparray.dtype,\"min\",np.min(nparray),\"max\",np.max(nparray),\"mean\",np.mean(nparray))\n",
    "    print(\"End\",name)"
   ]
  },
  {
   "cell_type": "code",
   "execution_count": null,
   "metadata": {},
   "outputs": [],
   "source": [
    "df_hits_recon=pd.read_csv(inputFileName_hits_recon)\n",
    "df_hits_recon.head()"
   ]
  },
  {
   "cell_type": "code",
   "execution_count": null,
   "metadata": {},
   "outputs": [],
   "source": [
    "df_hits_truth=pd.read_csv(inputFileName_hits_truth)\n",
    "df_hits_truth.head()"
   ]
  },
  {
   "cell_type": "code",
   "execution_count": null,
   "metadata": {},
   "outputs": [],
   "source": [
    "# combine truth and recon\n",
    "\n",
    "df_hits=pd.concat([df_hits_recon,df_hits_truth],axis=1,sort=False)\n",
    "df_hits.head()"
   ]
  },
  {
   "cell_type": "code",
   "execution_count": null,
   "metadata": {},
   "outputs": [],
   "source": [
    "counter=0\n",
    "n=df_hits[\"volume_id\"]#.values\n",
    "n\n",
    "#for value in n:\n",
    "    #if value==9:\n",
    "        #counter+=1\n",
    "#print(counter)"
   ]
  },
  {
   "cell_type": "code",
   "execution_count": null,
   "metadata": {},
   "outputs": [],
   "source": [
    "counter=0\n",
    "m=df_hits"
   ]
  },
  {
   "cell_type": "markdown",
   "metadata": {},
   "source": [
    "Explore Data\n"
   ]
  },
  {
   "cell_type": "code",
   "execution_count": null,
   "metadata": {
    "scrolled": true
   },
   "outputs": [],
   "source": [
    "plt.hist(df_hits[\"x\"],bins=100)"
   ]
  },
  {
   "cell_type": "code",
   "execution_count": null,
   "metadata": {},
   "outputs": [],
   "source": [
    "plt.hist(df_hits[\"y\"],bins=100)"
   ]
  },
  {
   "cell_type": "code",
   "execution_count": null,
   "metadata": {},
   "outputs": [],
   "source": [
    "plt.hist(df_hits[\"z\"],bins=100)"
   ]
  },
  {
   "cell_type": "code",
   "execution_count": null,
   "metadata": {},
   "outputs": [],
   "source": [
    "plt.hist(np.sqrt(df_hits[\"x\"].values**2+df_hits[\"y\"].values**2),bins=100)\n",
    "plt.xlabel(\"radius [mm]\")"
   ]
  },
  {
   "cell_type": "code",
   "execution_count": null,
   "metadata": {},
   "outputs": [],
   "source": [
    "plt.hist(df_hits[\"volume_id\"],bins=range(0,21,1))"
   ]
  },
  {
   "cell_type": "code",
   "execution_count": null,
   "metadata": {},
   "outputs": [],
   "source": [
    "plt.hist(df_hits[\"layer_id\"],bins=range(0,21,1))\n",
    "df_hits[\"layer_id\"]"
   ]
  },
  {
   "cell_type": "code",
   "execution_count": null,
   "metadata": {},
   "outputs": [],
   "source": [
    "plt.hist(df_hits[\"module_id\"],bins=range(0,1000,1))   #bins=100)\n",
    "df_hits[\"module_id\"]"
   ]
  },
  {
   "cell_type": "code",
   "execution_count": null,
   "metadata": {},
   "outputs": [],
   "source": [
    "plt.scatter(df_hits[\"volume_id\"],np.sqrt(df_hits[\"x\"]**2+df_hits[\"y\"]**2)) "
   ]
  },
  {
   "cell_type": "code",
   "execution_count": null,
   "metadata": {},
   "outputs": [],
   "source": [
    "plt.scatter(df_hits[\"volume_id\"],df_hits[\"z\"]) "
   ]
  },
  {
   "cell_type": "code",
   "execution_count": null,
   "metadata": {},
   "outputs": [],
   "source": [
    "plt.scatter(df_hits[\"layer_id\"],np.sqrt(df_hits[\"x\"]**2+df_hits[\"y\"]**2)) "
   ]
  },
  {
   "cell_type": "code",
   "execution_count": null,
   "metadata": {},
   "outputs": [],
   "source": [
    "plt.scatter(df_hits[\"layer_id\"],df_hits[\"z\"])"
   ]
  },
  {
   "cell_type": "code",
   "execution_count": null,
   "metadata": {},
   "outputs": [],
   "source": [
    "plt.scatter(df_hits[\"module_id\"],np.sqrt(df_hits[\"x\"]**2+df_hits[\"y\"]**2)) "
   ]
  },
  {
   "cell_type": "code",
   "execution_count": null,
   "metadata": {},
   "outputs": [],
   "source": [
    "plt.scatter(df_hits[\"module_id\"],df_hits[\"z\"]) "
   ]
  },
  {
   "cell_type": "code",
   "execution_count": null,
   "metadata": {},
   "outputs": [],
   "source": [
    "d={}\n",
    "for i in df_hits[\"particle_id\"]:\n",
    "    if i not in d.keys():\n",
    "        d[i]=1\n",
    "    else:\n",
    "        d[i]+=1\n",
    "# done for loop \n",
    "for i in sorted(d.keys()):\n",
    "    print(\"particle_id\",i,\"counter\",d[i])"
   ]
  },
  {
   "cell_type": "code",
   "execution_count": null,
   "metadata": {},
   "outputs": [],
   "source": [
    "# plot the counter of hits for each particle in a histogram\n",
    "plt.hist(d.values(),bins=range(0,23,1))"
   ]
  },
  {
   "cell_type": "code",
   "execution_count": null,
   "metadata": {},
   "outputs": [],
   "source": [
    "plt.hist2d(np.sqrt(df_hits[\"x\"]**2+df_hits[\"y\"]**2),df_hits[\"volume_id\"],\n",
    "           bins=[range(30,50,1),range(8,10,1)],\n",
    "           cmin=10)"
   ]
  },
  {
   "cell_type": "code",
   "execution_count": null,
   "metadata": {},
   "outputs": [],
   "source": [
    "plt.hist2d(np.sqrt(df_hits[\"x\"]**2+df_hits[\"y\"]**2),df_hits[\"volume_id\"],\n",
    "           bins=[range(30,50,1),range(8,10,1)],\n",
    "           cmin=10)"
   ]
  },
  {
   "cell_type": "code",
   "execution_count": null,
   "metadata": {},
   "outputs": [],
   "source": [
    "debug=False\n",
    "list_index=[]\n",
    "nparray_layer_id=df_hits[\"layer_id\"].values\n",
    "nparray_z=df_hits[\"z\"].values\n",
    "nparray_r=np.sqrt(df_hits[\"x\"]**2+df_hits[\"y\"]**2)\n",
    "for i,val in enumerate(df_hits[\"volume_id\"].values):\n",
    "    if (val==8)==False:\n",
    "        continue\n",
    "    if (nparray_layer_id[i]==2)==False:\n",
    "        continue\n",
    "    r=nparray_r[i]\n",
    "    z=nparray_z[i]\n",
    "    if debug:\n",
    "        print(\"i\",i,\"val\",val,\"z\",z)\n",
    "    list_index.append(i)\n",
    "print(\"len\",len(list_index))\n"
   ]
  },
  {
   "cell_type": "code",
   "execution_count": null,
   "metadata": {},
   "outputs": [],
   "source": [
    "df_reduced=df_hits.iloc[list_index]\n",
    "df_reduced"
   ]
  },
  {
   "cell_type": "code",
   "execution_count": null,
   "metadata": {},
   "outputs": [],
   "source": [
    "plt.hist2d(\n",
    "        df_reduced[\"z\"],np.sqrt(df_reduced[\"x\"]**2+df_reduced[\"y\"]**2),\n",
    "        bins=[range(-800,820,20),range(0,200,1)],\n",
    "        cmin=10,\n",
    "        )"
   ]
  },
  {
   "cell_type": "code",
   "execution_count": null,
   "metadata": {},
   "outputs": [],
   "source": [
    "plt.hist(df_reduced[\"layer_id\"],bins=range(0,10,1))"
   ]
  },
  {
   "cell_type": "code",
   "execution_count": null,
   "metadata": {},
   "outputs": [],
   "source": [
    "type(df_hits[\"particle_id\"].values)"
   ]
  },
  {
   "cell_type": "code",
   "execution_count": null,
   "metadata": {},
   "outputs": [],
   "source": [
    "len(df_hits[\"particle_id\"].values)"
   ]
  },
  {
   "cell_type": "code",
   "execution_count": null,
   "metadata": {
    "scrolled": false
   },
   "outputs": [],
   "source": [
    "# d2 is counter for each particle_id\n",
    "d2={}\n",
    "# d3 is a list of indices for each particle_id\n",
    "# so that I can retrieve for those indices the x, y, z, of the hits that form the particle\n",
    "d3={}\n",
    "for i,particle_id in enumerate(df_hits[\"particle_id\"].values):\n",
    "    #if i>10:\n",
    "    #    continue\n",
    "    #print(\"i\",i,\"particle_id\",particle_id)\n",
    "    if particle_id not in d2.keys():\n",
    "        d2[particle_id]=1\n",
    "    else:\n",
    "        d2[particle_id]+=1\n",
    "    # done if\n",
    "    if particle_id not in d3.keys():\n",
    "        d3[particle_id]=[i]\n",
    "    else:\n",
    "        d3[particle_id].append(i)\n",
    "    # done if\n",
    "# done for loop"
   ]
  },
  {
   "cell_type": "code",
   "execution_count": null,
   "metadata": {},
   "outputs": [],
   "source": [
    "for i,particle_id in enumerate(sorted(d2.keys())):\n",
    "    if i>10:\n",
    "        continue\n",
    "    print(\"i\",i,\"particle_id\",particle_id,\"counter\",d2[particle_id])\n",
    "    print(\"i\",i,\"particle_id\",particle_id,\"list_index\",d3[particle_id])\n",
    "# done for loop"
   ]
  },
  {
   "cell_type": "code",
   "execution_count": null,
   "metadata": {},
   "outputs": [],
   "source": [
    "len(d2)"
   ]
  },
  {
   "cell_type": "code",
   "execution_count": null,
   "metadata": {},
   "outputs": [],
   "source": [
    "len(d3)"
   ]
  },
  {
   "cell_type": "code",
   "execution_count": null,
   "metadata": {},
   "outputs": [],
   "source": [
    "# plot the counter of hits for each particle in a histogram\n",
    "plt.hist(d2.values(),bins=range(0,23,1))"
   ]
  },
  {
   "cell_type": "code",
   "execution_count": null,
   "metadata": {},
   "outputs": [],
   "source": [
    "# Let's plot the hits of one particle with 16 hits, say \n",
    "#i 10 particle_id 412316860416 counter 16\n",
    "#i 10 particle_id 412316860416 list_index [24723, 24852, 33045, 33071, 39049, 39060, 44545, 75876, 75884, 76967, 78584, 78593, 84229, 84419, 106700, 106963]"
   ]
  },
  {
   "cell_type": "code",
   "execution_count": null,
   "metadata": {},
   "outputs": [],
   "source": [
    "nparray_x=df_hits[\"x\"].values\n",
    "nparray_y=df_hits[\"y\"].values\n",
    "nparray_z=df_hits[\"z\"].values\n",
    "nparray_r=np.sqrt(df_hits[\"x\"].values**2+df_hits[\"y\"].values**2)\n",
    "p(\"nparray_x\",nparray_x)\n",
    "p(\"nparray_y\",nparray_y)\n",
    "p(\"nparray_z\",nparray_z)\n",
    "p(\"nparray_r\",nparray_r)"
   ]
  },
  {
   "cell_type": "code",
   "execution_count": null,
   "metadata": {},
   "outputs": [],
   "source": [
    "# loop over the hits and plot x, y, z\n",
    "for i in d3[412316860416]:\n",
    "    # print(\"i\",i)\n",
    "    # for this i plot x, y, z\n",
    "    x=nparray_x[i]\n",
    "    y=nparray_y[i]\n",
    "    z=nparray_z[i]\n",
    "    print(\"i\",i,\"x\",x,\"y\",y,\"z\",z)"
   ]
  },
  {
   "cell_type": "code",
   "execution_count": null,
   "metadata": {},
   "outputs": [],
   "source": [
    "df_particle=df_hits.iloc[d3[412316860416]]\n",
    "df_particle"
   ]
  },
  {
   "cell_type": "code",
   "execution_count": null,
   "metadata": {},
   "outputs": [],
   "source": [
    "def study_and_plot_particle_id(particle_id):\n",
    "    #\n",
    "    df_particle=df_hits.iloc[d3[particle_id]]\n",
    "    #\n",
    "    nparray_z=df_particle[\"z\"].values\n",
    "    nparray_r=np.sqrt(df_particle[\"x\"].values*2+df_particle[\"y\"].values**2)\n",
    "    #\n",
    "    # create a linear fit for the values of x (nparray_z) and y (nparray_r)\n",
    "    # https://docs.scipy.org/doc/numpy/reference/generated/numpy.polyfit.html\n",
    "    my_fit = np.polyfit(nparray_z, nparray_r, 1) # 1 means at order one polyonomial, so it will return\n",
    "    # array of a0, a1, where the equation of the line is r=a0+a1*z\n",
    "    # print(\"my_fit\",my_fit)\n",
    "    a0=my_fit[0]\n",
    "    a1=my_fit[1]\n",
    "    z0=-a0/a1 # z0 (z value at zero radius, positive or negative)\n",
    "    # z0 should be near 0 for collision particles\n",
    "    # z0 should be very large (positive or negative) for cosmic particle\n",
    "    # goal is to see from the distribution of z0 what % represent the cosmic particles\n",
    "    # in our dataset, maybe we will confirm there is no cosmic particle \n",
    "    # but maybe there are only simulated collisions\n",
    "    text=\"line fit: a0=%.2f, a1=%.2f, z0=%.2f [mm]\"%(a0,a1,z0)\n",
    "    if False:\n",
    "        # create scatter plot\n",
    "        plt.scatter(nparray_z,nparray_r)\n",
    "        plt.xlabel(\"z [mm]\")\n",
    "        plt.ylabel(\"radius [mm]\")\n",
    "        plt.title(text)\n",
    "        plt.xlim(-3000,3000)\n",
    "        plt.ylim(0,1050)\n",
    "        plt.savefig(\"./particle_\"+str(particle_id)+\"_r_vs_z.png\")\n",
    "        plt.close()\n",
    "    # done if\n",
    "    return (a0,a1,z0)\n",
    "# done function"
   ]
  },
  {
   "cell_type": "code",
   "execution_count": null,
   "metadata": {
    "scrolled": true
   },
   "outputs": [],
   "source": [
    "particle_id=412316860416\n",
    "a0,a1,z0=study_and_plot_particle_id(particle_id)\n",
    "print(\"a0=%.2f, a1=%.2f, z0=%.2f\"%(a0,a1,z0))"
   ]
  },
  {
   "cell_type": "code",
   "execution_count": null,
   "metadata": {},
   "outputs": [],
   "source": [
    "# loop over all the particles in the event and make this plot\n",
    "list_a0=[]\n",
    "list_a1=[]\n",
    "list_z0=[]\n",
    "for i,particle_id in enumerate(sorted(d3.keys())):\n",
    "    #if i>100:\n",
    "    #    continue\n",
    "    if i%1000==0:\n",
    "        print(\"i\",i)\n",
    "    #print(\"i\",i,\"particle_id\",particle_id,\"counter\",d2[particle_id])\n",
    "    #print(\"i\",i,\"particle_id\",particle_id,\"list_index\",d3[particle_id])\n",
    "    # retrieve the subset of the df_hits only for this particle\n",
    "    # plot this particle_id\n",
    "    a0,a1,z0=study_and_plot_particle_id(particle_id)\n",
    "    if debug:\n",
    "        print(\"a0=%.2f, a1=%.2f, z0=%.2f\"%(a0,a1,z0))\n",
    "    list_a0.append(a0)\n",
    "    list_a1.append(a1)\n",
    "    list_z0.append(z0)\n",
    "# done for loop\n",
    "nparray_a0=np.array(list_a0)\n",
    "nparray_a1=np.array(list_a1)\n",
    "nparray_z0=np.array(list_z0)"
   ]
  },
  {
   "cell_type": "code",
   "execution_count": null,
   "metadata": {},
   "outputs": [],
   "source": [
    "# plot a0\n",
    "plt.hist(nparray_a0,bins=100)\n",
    "plt.xlabel(\"a0 [mm]\")"
   ]
  },
  {
   "cell_type": "code",
   "execution_count": null,
   "metadata": {},
   "outputs": [],
   "source": [
    "len(a)"
   ]
  },
  {
   "cell_type": "code",
   "execution_count": null,
   "metadata": {},
   "outputs": [],
   "source": [
    "b = a[~(np.isnan(a))] \n",
    "len(b)"
   ]
  },
  {
   "cell_type": "code",
   "execution_count": null,
   "metadata": {},
   "outputs": [],
   "source": [
    "# plot a0\n",
    "a = nparray_a0\n",
    "# eliminate nan values\n",
    "a = a[~(np.isnan(a))] \n",
    "label = f\"mean={np.mean(a):.1f}, rms={np.std(a):.1f}\"\n",
    "plt.hist(a,bins=100,range=(-2,2), label = label)\n",
    "plt.legend()\n",
    "plt.xlabel(\"a0 [mm]\", fontsize=16)\n",
    "plt.ylabel(\"Number of truth particles\", fontsize=16)\n",
    "plt.title(\"a0 distribution of truth particles in event 099\", fontsize=16)\n",
    "for extension in list_extension:\n",
    "    plt.savefig(outputFolderName+\"/DataExploration_a0.\"+extension)"
   ]
  },
  {
   "cell_type": "code",
   "execution_count": null,
   "metadata": {},
   "outputs": [],
   "source": [
    "# plot a1\n",
    "a = nparray_a1.copy()\n",
    "# eliminate nan values\n",
    "a = a[~(np.isnan(a))]\n",
    "label = f\"mean={np.mean(a):.1f}, rms={np.std(a):.1f}\"\n",
    "plt.hist(a,bins=100,range=(-50,50), label = label)\n",
    "plt.legend()\n",
    "plt.xlabel(\"a1\", fontsize=16)\n",
    "plt.ylabel(\"Number of truth particles\", fontsize=16)\n",
    "plt.title(\"a1 distribution of truth particles in event 099\", fontsize=16)\n",
    "for extension in list_extension:\n",
    "    plt.savefig(outputFolderName+\"/DataExploration_a1.\"+extension)"
   ]
  },
  {
   "cell_type": "code",
   "execution_count": null,
   "metadata": {},
   "outputs": [],
   "source": [
    "# plot a1\n",
    "a = nparray_a1.copy()\n",
    "# eliminate nan values\n",
    "a = a[~(np.isnan(a))] \n",
    "plt.hist(np.arctan(nparray_a1),bins=100,range=(-2,2))\n",
    "plt.xlabel(\"a1 [rad]\")"
   ]
  },
  {
   "cell_type": "code",
   "execution_count": null,
   "metadata": {},
   "outputs": [],
   "source": [
    "plt.hist(np.arctan(nparray_a1), bins = 100)"
   ]
  },
  {
   "cell_type": "code",
   "execution_count": null,
   "metadata": {},
   "outputs": [],
   "source": [
    "# plot a1\n",
    "plt.hist(np.rad2deg(np.arctan(nparray_a1)),bins=100,range=(-92,92))\n",
    "plt.xlabel(\"a1 [degree]\", fontsize = 16)\n",
    "plt.ylabel(\"Number of truth particles\", fontsize=16)\n",
    "plt.title(\"Angle of the slope in degrees\", fontsize=16)\n",
    "for extension in list_extension:\n",
    "    plt.savefig(outputFolderName+\"/DataExploration_a1_degree.\"+extension)"
   ]
  },
  {
   "cell_type": "code",
   "execution_count": null,
   "metadata": {},
   "outputs": [],
   "source": [
    "# plot z0\n",
    "a = nparray_z0\n",
    "# eliminate nan values\n",
    "a = a[~(np.isnan(a))] \n",
    "label = f\"mean={np.mean(a):.1f}, rms={np.std(a):.1f}\"\n",
    "plt.hist(a,bins=100,range=(-0.2,0.2), label = label)\n",
    "plt.legend()\n",
    "plt.xlabel(\"z0 [mm]\", fontsize=16)\n",
    "plt.ylabel(\"Number of truth particles\", fontsize=16)\n",
    "plt.title(\"z0 distribution of truth particles in event 099\", fontsize=16)\n",
    "for extension in list_extension:\n",
    "    plt.savefig(outputFolderName+\"/DataExploration_z0.\"+extension)"
   ]
  },
  {
   "cell_type": "code",
   "execution_count": null,
   "metadata": {},
   "outputs": [],
   "source": []
  },
  {
   "cell_type": "code",
   "execution_count": null,
   "metadata": {},
   "outputs": [],
   "source": []
  }
 ],
 "metadata": {
  "kernelspec": {
   "display_name": "Python 3",
   "language": "python",
   "name": "python3"
  },
  "language_info": {
   "codemirror_mode": {
    "name": "ipython",
    "version": 3
   },
   "file_extension": ".py",
   "mimetype": "text/x-python",
   "name": "python",
   "nbconvert_exporter": "python",
   "pygments_lexer": "ipython3",
   "version": "3.7.5"
  }
 },
 "nbformat": 4,
 "nbformat_minor": 2
}
