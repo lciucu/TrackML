{
 "cells": [
  {
   "cell_type": "code",
   "execution_count": null,
   "metadata": {},
   "outputs": [],
   "source": [
    "# Train\n",
    "p(\"nparray_bucket_TruePositive_Train\",nparray_bucket_TruePositive_Train)\n",
    "p(\"nparray_bucket_FalsePositive_Train\",nparray_bucket_FalsePositive_Train)\n",
    "p(\"nparray_bucket_FalseNegative_Train\",nparray_bucket_FalseNegative_Train)\n",
    "p(\"nparray_bucket_TrueNegative_Train\",nparray_bucket_TrueNegative_Train)\n",
    "\n",
    "# sum over the elements of the array to get the total number of hits in all events\n",
    "number_hit_TP=np.sum(nparray_bucket_TruePositive_Train)\n",
    "number_hit_FP=np.sum(nparray_bucket_FalsePositive_Train)\n",
    "number_hit_FN=np.sum(nparray_bucket_FalseNegative_Train)\n",
    "number_hit_TN=np.sum(nparray_bucket_TrueNegative_Train)\n",
    "number_hit_all = number_hit_TP + number_hit_FP + number_hit_FN + number_hit_TN\n",
    "print()\n",
    "print(\"number_hit_TP\",number_hit_TP)\n",
    "print(\"number_hit_FP\",number_hit_FP)\n",
    "print(\"number_hit_FN\",number_hit_FN)\n",
    "print(\"number_hit_TN\",number_hit_TN)\n",
    "print(\"number_hit_all\",number_hit_all)\n",
    "\n",
    "# verify that added together give the total number of hits in all events, meaning 74955*20\n",
    "nrBucket=len(nparray_bucket_TruePositive_Train)\n",
    "nrHitInBucket=20\n",
    "nrHitAll=nrBucket*nrHitInBucket\n",
    "print()\n",
    "print(\"nrBucket\",nrBucket)\n",
    "print(\"nrHitInBucket\",nrHitInBucket)\n",
    "print(\"nrHitAll\",nrHitAll)\n",
    "\n",
    "# confusion matrix in absolute numbers\n",
    "nparray_confusion_matrix_absolute=np.array([[number_hit_TP,number_hit_FP],[number_hit_FN,number_hit_TN]])\n",
    "p(\"nparray_confusion_matrix_absolute\",nparray_confusion_matrix_absolute)\n",
    "\n",
    "# confusion matrix in relative numbers, as fraction of total\n",
    "nparray_confusion_matrix_relative=np.array([[number_hit_TP/number_hit_all,number_hit_FP/number_hit_all],[number_hit_FN/number_hit_all,number_hit_TN/number_hit_all]])\n",
    "p(\"nparray_confusion_matrix_relative\",nparray_confusion_matrix_relative)"
   ]
  }
 ],
 "metadata": {
  "kernelspec": {
   "display_name": "Python 3",
   "language": "python",
   "name": "python3"
  },
  "language_info": {
   "codemirror_mode": {
    "name": "ipython",
    "version": 3
   },
   "file_extension": ".py",
   "mimetype": "text/x-python",
   "name": "python",
   "nbconvert_exporter": "python",
   "pygments_lexer": "ipython3",
   "version": "3.7.5"
  }
 },
 "nbformat": 4,
 "nbformat_minor": 2
}
