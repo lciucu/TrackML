{
 "cells": [
  {
   "cell_type": "code",
   "execution_count": 10,
   "metadata": {},
   "outputs": [],
   "source": [
    "import pandas as pd\n",
    "import numpy as np\n",
    "import matplotlib.pyplot as plt"
   ]
  },
  {
   "cell_type": "code",
   "execution_count": 30,
   "metadata": {
    "scrolled": true
   },
   "outputs": [],
   "source": [
    "path2data=\"/Users/luizaadelinaciucu/Work/TrackML/\"\n",
    "df_hits=pd.read_csv(path2data+\"event000021069-hits.csv\")"
   ]
  },
  {
   "cell_type": "code",
   "execution_count": 31,
   "metadata": {},
   "outputs": [],
   "source": [
    "df_truth=pd.read_csv(path2data+\"event000021069-truth.csv\")"
   ]
  },
  {
   "cell_type": "code",
   "execution_count": 32,
   "metadata": {},
   "outputs": [],
   "source": [
    "df_particles=pd.read_csv(path2data+\"event000021069-particles.csv\")"
   ]
  },
  {
   "cell_type": "code",
   "execution_count": 13,
   "metadata": {},
   "outputs": [],
   "source": [
    "from annoy import AnnoyIndex\n",
    "import random"
   ]
  },
  {
   "cell_type": "code",
   "execution_count": 33,
   "metadata": {},
   "outputs": [
    {
     "data": {
      "text/html": [
       "<div>\n",
       "<style scoped>\n",
       "    .dataframe tbody tr th:only-of-type {\n",
       "        vertical-align: middle;\n",
       "    }\n",
       "\n",
       "    .dataframe tbody tr th {\n",
       "        vertical-align: top;\n",
       "    }\n",
       "\n",
       "    .dataframe thead th {\n",
       "        text-align: right;\n",
       "    }\n",
       "</style>\n",
       "<table border=\"1\" class=\"dataframe\">\n",
       "  <thead>\n",
       "    <tr style=\"text-align: right;\">\n",
       "      <th></th>\n",
       "      <th>hit_id</th>\n",
       "      <th>x</th>\n",
       "      <th>y</th>\n",
       "      <th>z</th>\n",
       "      <th>volume_id</th>\n",
       "      <th>layer_id</th>\n",
       "      <th>module_id</th>\n",
       "    </tr>\n",
       "  </thead>\n",
       "  <tbody>\n",
       "    <tr>\n",
       "      <th>0</th>\n",
       "      <td>1</td>\n",
       "      <td>-96.0251</td>\n",
       "      <td>-11.043100</td>\n",
       "      <td>-1502.5</td>\n",
       "      <td>7</td>\n",
       "      <td>2</td>\n",
       "      <td>1</td>\n",
       "    </tr>\n",
       "    <tr>\n",
       "      <th>1</th>\n",
       "      <td>2</td>\n",
       "      <td>-57.1466</td>\n",
       "      <td>-5.425400</td>\n",
       "      <td>-1502.5</td>\n",
       "      <td>7</td>\n",
       "      <td>2</td>\n",
       "      <td>1</td>\n",
       "    </tr>\n",
       "    <tr>\n",
       "      <th>2</th>\n",
       "      <td>3</td>\n",
       "      <td>-83.1498</td>\n",
       "      <td>-9.277450</td>\n",
       "      <td>-1502.5</td>\n",
       "      <td>7</td>\n",
       "      <td>2</td>\n",
       "      <td>1</td>\n",
       "    </tr>\n",
       "    <tr>\n",
       "      <th>3</th>\n",
       "      <td>4</td>\n",
       "      <td>-70.7627</td>\n",
       "      <td>-11.261700</td>\n",
       "      <td>-1502.5</td>\n",
       "      <td>7</td>\n",
       "      <td>2</td>\n",
       "      <td>1</td>\n",
       "    </tr>\n",
       "    <tr>\n",
       "      <th>4</th>\n",
       "      <td>5</td>\n",
       "      <td>-73.3473</td>\n",
       "      <td>0.070458</td>\n",
       "      <td>-1502.5</td>\n",
       "      <td>7</td>\n",
       "      <td>2</td>\n",
       "      <td>1</td>\n",
       "    </tr>\n",
       "  </tbody>\n",
       "</table>\n",
       "</div>"
      ],
      "text/plain": [
       "   hit_id        x          y       z  volume_id  layer_id  module_id\n",
       "0       1 -96.0251 -11.043100 -1502.5          7         2          1\n",
       "1       2 -57.1466  -5.425400 -1502.5          7         2          1\n",
       "2       3 -83.1498  -9.277450 -1502.5          7         2          1\n",
       "3       4 -70.7627 -11.261700 -1502.5          7         2          1\n",
       "4       5 -73.3473   0.070458 -1502.5          7         2          1"
      ]
     },
     "execution_count": 33,
     "metadata": {},
     "output_type": "execute_result"
    }
   ],
   "source": [
    "df_hits.head()\n"
   ]
  },
  {
   "cell_type": "code",
   "execution_count": 34,
   "metadata": {},
   "outputs": [
    {
     "data": {
      "text/html": [
       "<div>\n",
       "<style scoped>\n",
       "    .dataframe tbody tr th:only-of-type {\n",
       "        vertical-align: middle;\n",
       "    }\n",
       "\n",
       "    .dataframe tbody tr th {\n",
       "        vertical-align: top;\n",
       "    }\n",
       "\n",
       "    .dataframe thead th {\n",
       "        text-align: right;\n",
       "    }\n",
       "</style>\n",
       "<table border=\"1\" class=\"dataframe\">\n",
       "  <thead>\n",
       "    <tr style=\"text-align: right;\">\n",
       "      <th></th>\n",
       "      <th>hit_id</th>\n",
       "      <th>particle_id</th>\n",
       "      <th>tx</th>\n",
       "      <th>ty</th>\n",
       "      <th>tz</th>\n",
       "      <th>tpx</th>\n",
       "      <th>tpy</th>\n",
       "      <th>tpz</th>\n",
       "      <th>weight</th>\n",
       "    </tr>\n",
       "  </thead>\n",
       "  <tbody>\n",
       "    <tr>\n",
       "      <th>0</th>\n",
       "      <td>1</td>\n",
       "      <td>351284413067165696</td>\n",
       "      <td>-96.0272</td>\n",
       "      <td>-11.042000</td>\n",
       "      <td>-1502.5</td>\n",
       "      <td>-0.252020</td>\n",
       "      <td>-0.055783</td>\n",
       "      <td>-3.89135</td>\n",
       "      <td>0.000011</td>\n",
       "    </tr>\n",
       "    <tr>\n",
       "      <th>1</th>\n",
       "      <td>2</td>\n",
       "      <td>220692736976617472</td>\n",
       "      <td>-57.1428</td>\n",
       "      <td>-5.446980</td>\n",
       "      <td>-1502.5</td>\n",
       "      <td>0.208659</td>\n",
       "      <td>-0.000115</td>\n",
       "      <td>-5.17925</td>\n",
       "      <td>0.000010</td>\n",
       "    </tr>\n",
       "    <tr>\n",
       "      <th>2</th>\n",
       "      <td>3</td>\n",
       "      <td>193656433244372992</td>\n",
       "      <td>-83.1380</td>\n",
       "      <td>-9.292630</td>\n",
       "      <td>-1502.5</td>\n",
       "      <td>-0.341028</td>\n",
       "      <td>-0.012671</td>\n",
       "      <td>-5.99884</td>\n",
       "      <td>0.000010</td>\n",
       "    </tr>\n",
       "    <tr>\n",
       "      <th>3</th>\n",
       "      <td>4</td>\n",
       "      <td>693574683580170240</td>\n",
       "      <td>-70.7448</td>\n",
       "      <td>-11.274200</td>\n",
       "      <td>-1502.5</td>\n",
       "      <td>-0.548888</td>\n",
       "      <td>-0.067574</td>\n",
       "      <td>-11.59180</td>\n",
       "      <td>0.000012</td>\n",
       "    </tr>\n",
       "    <tr>\n",
       "      <th>4</th>\n",
       "      <td>5</td>\n",
       "      <td>693560115051102208</td>\n",
       "      <td>-73.3581</td>\n",
       "      <td>0.071451</td>\n",
       "      <td>-1502.5</td>\n",
       "      <td>-1.455310</td>\n",
       "      <td>0.016571</td>\n",
       "      <td>-30.04180</td>\n",
       "      <td>0.000026</td>\n",
       "    </tr>\n",
       "  </tbody>\n",
       "</table>\n",
       "</div>"
      ],
      "text/plain": [
       "   hit_id         particle_id       tx         ty      tz       tpx       tpy  \\\n",
       "0       1  351284413067165696 -96.0272 -11.042000 -1502.5 -0.252020 -0.055783   \n",
       "1       2  220692736976617472 -57.1428  -5.446980 -1502.5  0.208659 -0.000115   \n",
       "2       3  193656433244372992 -83.1380  -9.292630 -1502.5 -0.341028 -0.012671   \n",
       "3       4  693574683580170240 -70.7448 -11.274200 -1502.5 -0.548888 -0.067574   \n",
       "4       5  693560115051102208 -73.3581   0.071451 -1502.5 -1.455310  0.016571   \n",
       "\n",
       "        tpz    weight  \n",
       "0  -3.89135  0.000011  \n",
       "1  -5.17925  0.000010  \n",
       "2  -5.99884  0.000010  \n",
       "3 -11.59180  0.000012  \n",
       "4 -30.04180  0.000026  "
      ]
     },
     "execution_count": 34,
     "metadata": {},
     "output_type": "execute_result"
    }
   ],
   "source": [
    "df_truth.head()"
   ]
  },
  {
   "cell_type": "code",
   "execution_count": 36,
   "metadata": {},
   "outputs": [
    {
     "data": {
      "text/html": [
       "<div>\n",
       "<style scoped>\n",
       "    .dataframe tbody tr th:only-of-type {\n",
       "        vertical-align: middle;\n",
       "    }\n",
       "\n",
       "    .dataframe tbody tr th {\n",
       "        vertical-align: top;\n",
       "    }\n",
       "\n",
       "    .dataframe thead th {\n",
       "        text-align: right;\n",
       "    }\n",
       "</style>\n",
       "<table border=\"1\" class=\"dataframe\">\n",
       "  <thead>\n",
       "    <tr style=\"text-align: right;\">\n",
       "      <th></th>\n",
       "      <th>particle_id</th>\n",
       "      <th>particle_type</th>\n",
       "      <th>vx</th>\n",
       "      <th>vy</th>\n",
       "      <th>vz</th>\n",
       "      <th>px</th>\n",
       "      <th>py</th>\n",
       "      <th>pz</th>\n",
       "      <th>q</th>\n",
       "      <th>nhits</th>\n",
       "    </tr>\n",
       "  </thead>\n",
       "  <tbody>\n",
       "    <tr>\n",
       "      <th>8998</th>\n",
       "      <td>806154435062398976</td>\n",
       "      <td>-211</td>\n",
       "      <td>-6.831540</td>\n",
       "      <td>1.08192</td>\n",
       "      <td>1936.68000</td>\n",
       "      <td>-0.103415</td>\n",
       "      <td>0.168966</td>\n",
       "      <td>2.378000</td>\n",
       "      <td>-1</td>\n",
       "      <td>0</td>\n",
       "    </tr>\n",
       "    <tr>\n",
       "      <th>8999</th>\n",
       "      <td>806156221768794112</td>\n",
       "      <td>211</td>\n",
       "      <td>-0.103468</td>\n",
       "      <td>1.57712</td>\n",
       "      <td>2.26373</td>\n",
       "      <td>0.058160</td>\n",
       "      <td>0.397066</td>\n",
       "      <td>1.795770</td>\n",
       "      <td>1</td>\n",
       "      <td>11</td>\n",
       "    </tr>\n",
       "    <tr>\n",
       "      <th>9000</th>\n",
       "      <td>806156290488270848</td>\n",
       "      <td>-211</td>\n",
       "      <td>-0.103468</td>\n",
       "      <td>1.57712</td>\n",
       "      <td>2.26373</td>\n",
       "      <td>-0.079124</td>\n",
       "      <td>-0.065656</td>\n",
       "      <td>0.726934</td>\n",
       "      <td>-1</td>\n",
       "      <td>1</td>\n",
       "    </tr>\n",
       "    <tr>\n",
       "      <th>9001</th>\n",
       "      <td>806158695669956608</td>\n",
       "      <td>-11</td>\n",
       "      <td>-0.003115</td>\n",
       "      <td>-0.00909</td>\n",
       "      <td>-9.81103</td>\n",
       "      <td>0.083837</td>\n",
       "      <td>0.219420</td>\n",
       "      <td>-0.923823</td>\n",
       "      <td>1</td>\n",
       "      <td>14</td>\n",
       "    </tr>\n",
       "    <tr>\n",
       "      <th>9002</th>\n",
       "      <td>806161856765886464</td>\n",
       "      <td>-211</td>\n",
       "      <td>2.447930</td>\n",
       "      <td>1.22514</td>\n",
       "      <td>-90.16350</td>\n",
       "      <td>0.071399</td>\n",
       "      <td>0.072703</td>\n",
       "      <td>-0.092650</td>\n",
       "      <td>-1</td>\n",
       "      <td>0</td>\n",
       "    </tr>\n",
       "  </tbody>\n",
       "</table>\n",
       "</div>"
      ],
      "text/plain": [
       "             particle_id  particle_type        vx       vy          vz  \\\n",
       "8998  806154435062398976           -211 -6.831540  1.08192  1936.68000   \n",
       "8999  806156221768794112            211 -0.103468  1.57712     2.26373   \n",
       "9000  806156290488270848           -211 -0.103468  1.57712     2.26373   \n",
       "9001  806158695669956608            -11 -0.003115 -0.00909    -9.81103   \n",
       "9002  806161856765886464           -211  2.447930  1.22514   -90.16350   \n",
       "\n",
       "            px        py        pz  q  nhits  \n",
       "8998 -0.103415  0.168966  2.378000 -1      0  \n",
       "8999  0.058160  0.397066  1.795770  1     11  \n",
       "9000 -0.079124 -0.065656  0.726934 -1      1  \n",
       "9001  0.083837  0.219420 -0.923823  1     14  \n",
       "9002  0.071399  0.072703 -0.092650 -1      0  "
      ]
     },
     "execution_count": 36,
     "metadata": {},
     "output_type": "execute_result"
    }
   ],
   "source": [
    "df_particles.tail()"
   ]
  },
  {
   "cell_type": "code",
   "execution_count": 25,
   "metadata": {},
   "outputs": [
    {
     "data": {
      "text/plain": [
       "(95224, 7)"
      ]
     },
     "execution_count": 25,
     "metadata": {},
     "output_type": "execute_result"
    }
   ],
   "source": [
    "df_hits.shape"
   ]
  },
  {
   "cell_type": "code",
   "execution_count": 26,
   "metadata": {},
   "outputs": [
    {
     "data": {
      "text/plain": [
       "(95224, 9)"
      ]
     },
     "execution_count": 26,
     "metadata": {},
     "output_type": "execute_result"
    }
   ],
   "source": [
    "df_truth.shape"
   ]
  },
  {
   "cell_type": "code",
   "execution_count": 37,
   "metadata": {},
   "outputs": [
    {
     "data": {
      "text/plain": [
       "(9003, 10)"
      ]
     },
     "execution_count": 37,
     "metadata": {},
     "output_type": "execute_result"
    }
   ],
   "source": [
    "df_particles.shape"
   ]
  },
  {
   "cell_type": "code",
   "execution_count": 14,
   "metadata": {},
   "outputs": [],
   "source": [
    "def buildAnnoyIndex(data,metric=\"angular\",ntrees=10):\n",
    "    f = len(data[0])\n",
    "    t = AnnoyIndex(f,metric)  \n",
    "    for i,d in enumerate(data):\n",
    "        t.add_item(i, d)\n",
    "    t.build(ntrees) # 10 trees\n",
    "    return t"
   ]
  },
  {
   "cell_type": "code",
   "execution_count": 15,
   "metadata": {},
   "outputs": [],
   "source": [
    "data=df[[\"x\",\"y\",\"z\"]].values\n",
    "\n",
    "index=buildAnnoyIndex(data,metric=\"angular\",ntrees=10)\n"
   ]
  },
  {
   "cell_type": "code",
   "execution_count": 16,
   "metadata": {},
   "outputs": [
    {
     "data": {
      "image/png": "[encoded data removed]",
      "text/plain": [
       "<Figure size 432x288 with 1 Axes>"
      ]
     },
     "metadata": {
      "needs_background": "light"
     },
     "output_type": "display_data"
    }
   ],
   "source": [
    "NB_BUCKET=5\n",
    "for i in range(NB_BUCKET):\n",
    "    n=random.choice(range(len(data)))\n",
    "    \n",
    "    bucket_idx=np.array(index.get_nns_by_item(n,50))\n",
    "    bucket=df.iloc[bucket_idx]\n",
    "    plt.plot(bucket.x,bucket.y,\"o\")\n",
    "    plt.plot(0,0,\"r+\")\n",
    "plt.show()"
   ]
  },
  {
   "cell_type": "code",
   "execution_count": null,
   "metadata": {
    "collapsed": true
   },
   "outputs": [],
   "source": []
  }
 ],
 "metadata": {
  "anaconda-cloud": {},
  "kernelspec": {
   "display_name": "Python 3",
   "language": "python",
   "name": "python3"
  },
  "language_info": {
   "codemirror_mode": {
    "name": "ipython",
    "version": 3
   },
   "file_extension": ".py",
   "mimetype": "text/x-python",
   "name": "python",
   "nbconvert_exporter": "python",
   "pygments_lexer": "ipython3",
   "version": "3.7.5"
  }
 },
 "nbformat": 4,
 "nbformat_minor": 1
}
