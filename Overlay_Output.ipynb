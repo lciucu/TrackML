{
 "cells": [
  {
   "cell_type": "code",
   "execution_count": null,
   "metadata": {},
   "outputs": [],
   "source": [
    "import os\n",
    "import numpy as np\n",
    "import matplotlib.pyplot as plt"
   ]
  },
  {
   "cell_type": "code",
   "execution_count": null,
   "metadata": {},
   "outputs": [],
   "source": [
    "inputFolderName = \"./output_new_ev_000_100\"\n",
    "outputFolderName = \"./output_overlay_bucket_2\"\n",
    "if not os.path.exists(outputFolderName):\n",
    "    os.makedirs(outputFolderName)\n",
    "\n",
    "#list_name = [\"Min00\", \"Min04\", \"Min07\", \"Min10\"]\n",
    "#list_name = [\"Min00\", \"Min10\"]\n",
    "list_name = [\"Min00\"]\n",
    "list_color = [\"red\", \"blue\", \"orange\", \"green\"]"
   ]
  },
  {
   "cell_type": "code",
   "execution_count": null,
   "metadata": {},
   "outputs": [],
   "source": [
    "bins = [i-0.5 for i in range(22)]\n",
    "# bins"
   ]
  },
  {
   "cell_type": "code",
   "execution_count": null,
   "metadata": {},
   "outputs": [],
   "source": [
    "def plot(TrainOrTest):\n",
    "    for i, name in enumerate(list_name):\n",
    "        fileName = inputFolderName+\"/NN_2_data_NbPositiveHit\"+name+\"_\"+TrainOrTest+\"_all.npy\"\n",
    "        nparray = np.load(fileName)\n",
    "        color = list_color[i]\n",
    "        label = f\"mean={np.mean(nparray):.1f}, rms={np.std(nparray):.1f}\"\n",
    "        plt.hist(nparray,bins=bins, color=color,label=label,histtype=\"step\")\n",
    "    plt.legend(loc=\"best\")\n",
    "    plt.xlabel(\"NbPositiveHit per bucket\", fontsize=16)\n",
    "    plt.ylabel(\"Number of buckets\", fontsize=16)\n",
    "    plt.title(TrainOrTest+\": \"+str(len(nparray))+\" buckets\", fontsize=16)\n",
    "    for extension in [\"png\", \"pdf\"]:\n",
    "        plt.savefig(outputFolderName+\"/plot_bucket_unbalanced_\"+TrainOrTest+\".\"+extension)\n",
    "    #plt.show()\n",
    "    plt.close()\n",
    "\n",
    "plot(\"Train\")\n",
    "plot(\"Test\")\n",
    "    "
   ]
  },
  {
   "cell_type": "code",
   "execution_count": null,
   "metadata": {},
   "outputs": [],
   "source": []
  }
 ],
 "metadata": {
  "kernelspec": {
   "display_name": "Python 3",
   "language": "python",
   "name": "python3"
  },
  "language_info": {
   "codemirror_mode": {
    "name": "ipython",
    "version": 3
   },
   "file_extension": ".py",
   "mimetype": "text/x-python",
   "name": "python",
   "nbconvert_exporter": "python",
   "pygments_lexer": "ipython3",
   "version": "3.7.5"
  }
 },
 "nbformat": 4,
 "nbformat_minor": 2
}
