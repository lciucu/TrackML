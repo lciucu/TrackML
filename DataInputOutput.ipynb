{
 "cells": [
  {
   "cell_type": "code",
   "execution_count": 1,
   "metadata": {},
   "outputs": [],
   "source": [
    "import pandas as pd\n",
    "import numpy as np\n",
    "import matplotlib.pyplot as plt\n",
    "from annoy import AnnoyIndex\n",
    "import random"
   ]
  },
  {
   "cell_type": "code",
   "execution_count": 2,
   "metadata": {},
   "outputs": [],
   "source": [
    "debug=False\n",
    "doTest=False\n",
    "nrBucketsToDo=1\n",
    "bucketSize=20"
   ]
  },
  {
   "cell_type": "code",
   "execution_count": 3,
   "metadata": {},
   "outputs": [],
   "source": [
    "inputFolderName=\"/Users/luizaadelinaciucu/Work/ATLAS/TrackML/input/ttbar_mu200-generic\"\n",
    "eventNumber=\"000000099\"\n",
    "inputFileName_hits_recon=inputFolderName+\"/event\"+eventNumber+\"-hits.csv\"\n",
    "inputFileName_hits_truth=inputFolderName+\"/event\"+eventNumber+\"-truth.csv\""
   ]
  },
  {
   "cell_type": "code",
   "execution_count": 4,
   "metadata": {},
   "outputs": [],
   "source": [
    "outputFolderName=\"/Users/luizaadelinaciucu/Work/ATLAS/TrackMLtest/output3\"\n",
    "\n",
    "fileNameNNInput=outputFolderName+\"/NN_1_data_Input_\"+eventNumber+\".npy\"\n",
    "fileNameNNOutput=outputFolderName+\"/NN_1_data_Output_\"+eventNumber+\".npy\"\n",
    "\n",
    "fileNameNNInputTrain=outputFolderName+\"/NN_2_data_Input_Train_\"+eventNumber+\".npy\"\n",
    "fileNameNNOutputTrain=outputFolderName+\"/NN_2_data_Output_Train_\"+eventNumber+\".npy\"\n",
    "\n",
    "fileNameNNInputTest=outputFolderName+\"/NN_2_data_Input_Test_\"+eventNumber+\".npy\"\n",
    "fileNameNNOutputTest=outputFolderName+\"/NN_2_data_Output_Test_\"+eventNumber+\".npy\""
   ]
  },
  {
   "cell_type": "code",
   "execution_count": 5,
   "metadata": {},
   "outputs": [
    {
     "data": {
      "text/html": [
       "<div>\n",
       "<style scoped>\n",
       "    .dataframe tbody tr th:only-of-type {\n",
       "        vertical-align: middle;\n",
       "    }\n",
       "\n",
       "    .dataframe tbody tr th {\n",
       "        vertical-align: top;\n",
       "    }\n",
       "\n",
       "    .dataframe thead th {\n",
       "        text-align: right;\n",
       "    }\n",
       "</style>\n",
       "<table border=\"1\" class=\"dataframe\">\n",
       "  <thead>\n",
       "    <tr style=\"text-align: right;\">\n",
       "      <th></th>\n",
       "      <th>hit_id</th>\n",
       "      <th>x</th>\n",
       "      <th>y</th>\n",
       "      <th>z</th>\n",
       "      <th>volume_id</th>\n",
       "      <th>layer_id</th>\n",
       "      <th>module_id</th>\n",
       "      <th>hit_id</th>\n",
       "      <th>particle_id</th>\n",
       "      <th>tx</th>\n",
       "      <th>ty</th>\n",
       "      <th>tz</th>\n",
       "      <th>tpx</th>\n",
       "      <th>tpy</th>\n",
       "      <th>tpz</th>\n",
       "    </tr>\n",
       "  </thead>\n",
       "  <tbody>\n",
       "    <tr>\n",
       "      <th>0</th>\n",
       "      <td>0</td>\n",
       "      <td>53.6895</td>\n",
       "      <td>8.81461</td>\n",
       "      <td>-1502.5</td>\n",
       "      <td>7</td>\n",
       "      <td>2</td>\n",
       "      <td>1</td>\n",
       "      <td>0</td>\n",
       "      <td>18014467228958720</td>\n",
       "      <td>53.6668</td>\n",
       "      <td>8.82130</td>\n",
       "      <td>-1502.5</td>\n",
       "      <td>0.973584</td>\n",
       "      <td>0.159988</td>\n",
       "      <td>-28.120100</td>\n",
       "    </tr>\n",
       "    <tr>\n",
       "      <th>1</th>\n",
       "      <td>1</td>\n",
       "      <td>70.7608</td>\n",
       "      <td>7.70057</td>\n",
       "      <td>-1502.5</td>\n",
       "      <td>7</td>\n",
       "      <td>2</td>\n",
       "      <td>1</td>\n",
       "      <td>1</td>\n",
       "      <td>22528787094700032</td>\n",
       "      <td>70.7375</td>\n",
       "      <td>7.71636</td>\n",
       "      <td>-1502.5</td>\n",
       "      <td>0.213369</td>\n",
       "      <td>0.023315</td>\n",
       "      <td>-4.386220</td>\n",
       "    </tr>\n",
       "    <tr>\n",
       "      <th>2</th>\n",
       "      <td>2</td>\n",
       "      <td>80.2306</td>\n",
       "      <td>11.40500</td>\n",
       "      <td>-1502.5</td>\n",
       "      <td>7</td>\n",
       "      <td>2</td>\n",
       "      <td>1</td>\n",
       "      <td>2</td>\n",
       "      <td>63052593806442496</td>\n",
       "      <td>80.2098</td>\n",
       "      <td>11.40200</td>\n",
       "      <td>-1502.5</td>\n",
       "      <td>0.050232</td>\n",
       "      <td>0.007147</td>\n",
       "      <td>-0.985516</td>\n",
       "    </tr>\n",
       "    <tr>\n",
       "      <th>3</th>\n",
       "      <td>3</td>\n",
       "      <td>63.7141</td>\n",
       "      <td>4.03639</td>\n",
       "      <td>-1502.5</td>\n",
       "      <td>7</td>\n",
       "      <td>2</td>\n",
       "      <td>1</td>\n",
       "      <td>3</td>\n",
       "      <td>103588701304520704</td>\n",
       "      <td>63.7169</td>\n",
       "      <td>4.02437</td>\n",
       "      <td>-1502.5</td>\n",
       "      <td>0.196107</td>\n",
       "      <td>0.012337</td>\n",
       "      <td>-4.797500</td>\n",
       "    </tr>\n",
       "    <tr>\n",
       "      <th>4</th>\n",
       "      <td>4</td>\n",
       "      <td>63.8302</td>\n",
       "      <td>3.99537</td>\n",
       "      <td>-1502.5</td>\n",
       "      <td>7</td>\n",
       "      <td>2</td>\n",
       "      <td>1</td>\n",
       "      <td>4</td>\n",
       "      <td>117101080734597120</td>\n",
       "      <td>63.8096</td>\n",
       "      <td>4.00231</td>\n",
       "      <td>-1502.5</td>\n",
       "      <td>0.049758</td>\n",
       "      <td>0.003124</td>\n",
       "      <td>-1.159650</td>\n",
       "    </tr>\n",
       "  </tbody>\n",
       "</table>\n",
       "</div>"
      ],
      "text/plain": [
       "   hit_id        x         y       z  volume_id  layer_id  module_id  hit_id  \\\n",
       "0       0  53.6895   8.81461 -1502.5          7         2          1       0   \n",
       "1       1  70.7608   7.70057 -1502.5          7         2          1       1   \n",
       "2       2  80.2306  11.40500 -1502.5          7         2          1       2   \n",
       "3       3  63.7141   4.03639 -1502.5          7         2          1       3   \n",
       "4       4  63.8302   3.99537 -1502.5          7         2          1       4   \n",
       "\n",
       "          particle_id       tx        ty      tz       tpx       tpy  \\\n",
       "0   18014467228958720  53.6668   8.82130 -1502.5  0.973584  0.159988   \n",
       "1   22528787094700032  70.7375   7.71636 -1502.5  0.213369  0.023315   \n",
       "2   63052593806442496  80.2098  11.40200 -1502.5  0.050232  0.007147   \n",
       "3  103588701304520704  63.7169   4.02437 -1502.5  0.196107  0.012337   \n",
       "4  117101080734597120  63.8096   4.00231 -1502.5  0.049758  0.003124   \n",
       "\n",
       "         tpz  \n",
       "0 -28.120100  \n",
       "1  -4.386220  \n",
       "2  -0.985516  \n",
       "3  -4.797500  \n",
       "4  -1.159650  "
      ]
     },
     "execution_count": 5,
     "metadata": {},
     "output_type": "execute_result"
    }
   ],
   "source": [
    "df_hits_recon=pd.read_csv(inputFileName_hits_recon)\n",
    "df_hits_truth=pd.read_csv(inputFileName_hits_truth)\n",
    "df_hits=pd.concat([df_hits_recon,df_hits_truth],axis=1,sort=False)\n",
    "df_hits.head()"
   ]
  },
  {
   "cell_type": "markdown",
   "metadata": {},
   "source": [
    "Creating buckets"
   ]
  },
  {
   "cell_type": "code",
   "execution_count": 6,
   "metadata": {},
   "outputs": [
    {
     "data": {
      "text/plain": [
       "103588701304520704"
      ]
     },
     "execution_count": 6,
     "metadata": {},
     "output_type": "execute_result"
    }
   ],
   "source": [
    "df_hits[\"particle_id\"][3]"
   ]
  },
  {
   "cell_type": "code",
   "execution_count": 7,
   "metadata": {},
   "outputs": [
    {
     "data": {
      "text/plain": [
       "116893"
      ]
     },
     "execution_count": 7,
     "metadata": {},
     "output_type": "execute_result"
    }
   ],
   "source": [
    "len(df_hits)"
   ]
  },
  {
   "cell_type": "markdown",
   "metadata": {},
   "source": [
    "For certain hits produce a bucket"
   ]
  },
  {
   "cell_type": "code",
   "execution_count": 8,
   "metadata": {},
   "outputs": [],
   "source": [
    "def buildAnnoyIndex(nparray_position,metric=\"angular\",ntrees=10,debug=False): \n",
    "    numberDimension=nparray_position.shape[1] # 3 (x,y,z)\n",
    "    if debug:\n",
    "        print(\"numberDimension\",numberDimension)\n",
    "    index=AnnoyIndex(numberDimension,metric)\n",
    "    if debug:\n",
    "        print(\"type(index)\",type(index))\n",
    "        print(\"enumerate data\")\n",
    "    # add each hit to the index\n",
    "    for i,position in enumerate(nparray_position):\n",
    "        if debug:\n",
    "            print(\"i\",i,\"position\",position)\n",
    "        index.add_item(i,position)\n",
    "    # done for loop over hits\n",
    "    # build the index with 10 trees\n",
    "    index.build(ntrees) # 10 trees\n",
    "    return index\n",
    "# done function\n"
   ]
  },
  {
   "cell_type": "code",
   "execution_count": 9,
   "metadata": {},
   "outputs": [
    {
     "name": "stdout",
     "output_type": "stream",
     "text": [
      "nparray_position [[   53.6895      8.81461 -1502.5    ]\n",
      " [   70.7608      7.70057 -1502.5    ]\n",
      " [   80.2306     11.405   -1502.5    ]\n",
      " ...\n",
      " [ -937.832      95.8561   2952.5    ]\n",
      " [ -901.023      18.392    2952.5    ]\n",
      " [ -876.783      72.4166   2952.5    ]]\n"
     ]
    }
   ],
   "source": [
    "nparray_position=df_hits[[\"x\",\"y\",\"z\"]].values\n",
    "print(\"nparray_position\",nparray_position)\n",
    "index=buildAnnoyIndex(nparray_position,metric=\"angular\",ntrees=10,debug=False)"
   ]
  },
  {
   "cell_type": "code",
   "execution_count": 10,
   "metadata": {},
   "outputs": [
    {
     "name": "stdout",
     "output_type": "stream",
     "text": [
      "nparray_input_all [[-2.91408e+01 -1.34121e+01 -4.53283e+02 ... -8.72973e+01 -3.56456e+01\n",
      "  -1.30200e+03]\n",
      " [-3.17481e+01 -5.95475e+00 -4.21849e+02 ... -4.67051e+01 -6.50951e+00\n",
      "  -6.02500e+02]\n",
      " [-3.08955e+01 -8.39350e+00 -4.47112e+02 ... -5.31951e+01 -1.57277e+01\n",
      "  -8.18000e+02]\n",
      " ...\n",
      " [-3.31662e+01 -3.98620e-01  4.46810e+02 ... -7.94153e+01  2.56644e-01\n",
      "   1.09750e+03]\n",
      " [-3.12528e+01  4.19333e+00  4.50675e+02 ... -6.78425e+01  1.15825e+01\n",
      "   9.62000e+02]\n",
      " [-3.07637e+01  1.28645e+01  4.24059e+02 ... -5.61753e+01  2.31333e+01\n",
      "   8.18000e+02]] shape (10653, 60) type <class 'numpy.ndarray'>\n",
      "nparray_output_all [[-1 -1 -1 ... -1 -1  1]\n",
      " [-1 -1  1 ...  1 -1 -1]\n",
      " [ 1  1  1 ... -1 -1 -1]\n",
      " ...\n",
      " [ 1  1  1 ... -1 -1 -1]\n",
      " [ 1  1  1 ... -1 -1 -1]\n",
      " [-1 -1 -1 ... -1 -1 -1]] shape (10653, 20) type <class 'numpy.ndarray'>\n"
     ]
    }
   ],
   "source": [
    "list_nparray_input=[]\n",
    "list_nparray_output=[]\n",
    "nparray_volume_id=df_hits[\"volume_id\"].values\n",
    "nparray_layer_id=df_hits[\"layer_id\"].values\n",
    "counter=0\n",
    "for i in range(len(df_hits)):\n",
    "    if doTest==True and counter>(nrBucketsToDo-1):\n",
    "        continue\n",
    "    if (nparray_volume_id[i]==8 and nparray_layer_id[i]==2)==False:\n",
    "        continue\n",
    "    counter+=1\n",
    "    if debug==True:\n",
    "        print(i)\n",
    "    # using annoy to find the 20 nearest neighboring hits by angle to this hit\n",
    "    list_index=index.get_nns_by_item(i,bucketSize)\n",
    "    if debug:\n",
    "        print(\"list_index\",list_index)\n",
    "    # create bucket\n",
    "    df_bucket=df_hits.iloc[list_index]\n",
    "    # create NN input for this one bucket\n",
    "    nparray_input=df_bucket[[\"x\",\"y\",\"z\"]].values.flatten()\n",
    "    if debug:\n",
    "        print(\"nparray_input\",nparray_input,\"shape\",nparray_input.shape,\"type\",type(nparray_input))       \n",
    "    # create NN output for this one bucket\n",
    "    # identify particle with the largest number of hits in this bucket\n",
    "    nparray_particle_id=df_bucket[\"particle_id\"].values\n",
    "    if debug:\n",
    "        print(\"nparray_particle_id\",nparray_particle_id,\"shape\",nparray_particle_id.shape,\"type\",type(nparray_particle_id))\n",
    "    dict_particle_id_counter={}\n",
    "    for particle_id in nparray_particle_id:\n",
    "        if particle_id not in dict_particle_id_counter:\n",
    "            dict_particle_id_counter[particle_id]=1\n",
    "        else:\n",
    "            dict_particle_id_counter[particle_id]+=1\n",
    "    if debug:\n",
    "        print(\"dict_particle_id_counter\",dict_particle_id_counter)\n",
    "    # find the maximum value of the counters\n",
    "    particle_id_with_max_hits=0\n",
    "    counter_max=0\n",
    "    for particle_id in dict_particle_id_counter:\n",
    "        counter=dict_particle_id_counter[particle_id]\n",
    "        if counter>counter_max:\n",
    "            counter_max=counter\n",
    "            particle_id_with_max_hits=particle_id\n",
    "    if debug:\n",
    "        print(\"particle_id_with_max_hits\",particle_id_with_max_hits)\n",
    "        \n",
    "    # create list output\n",
    "    list_output=[]\n",
    "    for particle_id in nparray_particle_id:\n",
    "        if particle_id==particle_id_with_max_hits:\n",
    "            list_output.append(1)\n",
    "        else:\n",
    "            list_output.append(-1)\n",
    "    if debug:        \n",
    "        print(\"list_output\",list_output)\n",
    "    nparray_output=np.array(list_output)\n",
    "    if debug:\n",
    "        print(\"nparray_output\",nparray_output)\n",
    "            \n",
    "    \n",
    "    if debug and doTest:\n",
    "        plt.plot(df_bucket.x,df_bucket.y,\"o\",color=\"red\")\n",
    "        plt.plot(0,0,\"r+\")\n",
    "        plt.title(str(i))\n",
    "        plt.show()\n",
    "        # plt.savefig(outputFolderName+\"/bucket_\"+str(i)+\".pdf\")\n",
    "        \n",
    "    list_nparray_input.append(nparray_input)\n",
    "    list_nparray_output.append(nparray_output)\n",
    "       \n",
    "# done for loop\n",
    "nparray_input_all=np.array(list_nparray_input)\n",
    "nparray_output_all=np.array(list_nparray_output)\n",
    "print(\"nparray_input_all\",nparray_input_all,\"shape\",nparray_input_all.shape,\"type\",type(nparray_input_all))\n",
    "print(\"nparray_output_all\",nparray_output_all,\"shape\",nparray_output_all.shape,\"type\",type(nparray_output_all))"
   ]
  },
  {
   "cell_type": "code",
   "execution_count": 11,
   "metadata": {},
   "outputs": [
    {
     "name": "stdout",
     "output_type": "stream",
     "text": [
      "nparray_input_all [[-2.91408e+01 -1.34121e+01 -4.53283e+02 ... -8.72973e+01 -3.56456e+01\n",
      "  -1.30200e+03]\n",
      " [-3.17481e+01 -5.95475e+00 -4.21849e+02 ... -4.67051e+01 -6.50951e+00\n",
      "  -6.02500e+02]\n",
      " [-3.08955e+01 -8.39350e+00 -4.47112e+02 ... -5.31951e+01 -1.57277e+01\n",
      "  -8.18000e+02]\n",
      " ...\n",
      " [-3.12786e+01  3.73645e+00  4.79993e+02 ... -5.98624e+01  7.09361e+00\n",
      "   9.57500e+02]\n",
      " [-3.31662e+01 -3.98620e-01  4.46810e+02 ... -7.94153e+01  2.56644e-01\n",
      "   1.09750e+03]\n",
      " [-3.12528e+01  4.19333e+00  4.50675e+02 ... -6.78425e+01  1.15825e+01\n",
      "   9.62000e+02]] shape (10652, 60) type <class 'numpy.ndarray'>\n",
      "nparray_output_all [[-1 -1 -1 ... -1 -1  1]\n",
      " [-1 -1  1 ...  1 -1 -1]\n",
      " [ 1  1  1 ... -1 -1 -1]\n",
      " ...\n",
      " [ 1  1  1 ... -1 -1 -1]\n",
      " [ 1  1  1 ... -1 -1 -1]\n",
      " [ 1  1  1 ... -1 -1 -1]] shape (10652, 20) type <class 'numpy.ndarray'>\n"
     ]
    }
   ],
   "source": [
    "# we will want later to split in half for train and test\n",
    "# so keep only an even number\n",
    "# if an odd number of buckets, remove the last one\n",
    "nrBuckets=nparray_input_all.shape[0]\n",
    "if nrBuckets%2==1:\n",
    "    # odd number of buckets\n",
    "    # rewrite the input as to remove the last element\n",
    "    nparray_input_all=nparray_input_all[0:-1]\n",
    "    # rewrite the output as to remove the last element\n",
    "    nparray_output_all=nparray_output_all[0:-1]\n",
    "else:\n",
    "    # if even, do nothing\n",
    "    pass\n",
    "# done if\n",
    "print(\"nparray_input_all\",nparray_input_all,\"shape\",nparray_input_all.shape,\"type\",type(nparray_input_all))\n",
    "print(\"nparray_output_all\",nparray_output_all,\"shape\",nparray_output_all.shape,\"type\",type(nparray_output_all))"
   ]
  },
  {
   "cell_type": "code",
   "execution_count": 17,
   "metadata": {},
   "outputs": [
    {
     "name": "stdout",
     "output_type": "stream",
     "text": [
      "nparray_input_all [[[-2.91408e+01]\n",
      "  [-1.34121e+01]\n",
      "  [-4.53283e+02]\n",
      "  ...\n",
      "  [-8.72973e+01]\n",
      "  [-3.56456e+01]\n",
      "  [-1.30200e+03]]\n",
      "\n",
      " [[-3.17481e+01]\n",
      "  [-5.95475e+00]\n",
      "  [-4.21849e+02]\n",
      "  ...\n",
      "  [-4.67051e+01]\n",
      "  [-6.50951e+00]\n",
      "  [-6.02500e+02]]\n",
      "\n",
      " [[-3.08955e+01]\n",
      "  [-8.39350e+00]\n",
      "  [-4.47112e+02]\n",
      "  ...\n",
      "  [-5.31951e+01]\n",
      "  [-1.57277e+01]\n",
      "  [-8.18000e+02]]\n",
      "\n",
      " ...\n",
      "\n",
      " [[-3.12786e+01]\n",
      "  [ 3.73645e+00]\n",
      "  [ 4.79993e+02]\n",
      "  ...\n",
      "  [-5.98624e+01]\n",
      "  [ 7.09361e+00]\n",
      "  [ 9.57500e+02]]\n",
      "\n",
      " [[-3.31662e+01]\n",
      "  [-3.98620e-01]\n",
      "  [ 4.46810e+02]\n",
      "  ...\n",
      "  [-7.94153e+01]\n",
      "  [ 2.56644e-01]\n",
      "  [ 1.09750e+03]]\n",
      "\n",
      " [[-3.12528e+01]\n",
      "  [ 4.19333e+00]\n",
      "  [ 4.50675e+02]\n",
      "  ...\n",
      "  [-6.78425e+01]\n",
      "  [ 1.15825e+01]\n",
      "  [ 9.62000e+02]]] shape (10652, 60, 1) type <class 'numpy.ndarray'>\n"
     ]
    }
   ],
   "source": [
    "# reshape for the input to have an extra dimension of size one, needed by Keras\n",
    "nparray_input_all=nparray_input_all.reshape(nparray_input_all.shape[0],nparray_input_all.shape[1],1)\n",
    "print(\"nparray_input_all\",nparray_input_all,\"shape\",nparray_input_all.shape,\"type\",type(nparray_input_all))"
   ]
  },
  {
   "cell_type": "code",
   "execution_count": 15,
   "metadata": {},
   "outputs": [],
   "source": [
    "# save them to files\n",
    "np.save(fileNameNNInput,nparray_input_all)\n",
    "np.save(fileNameNNOutput,nparray_output_all)"
   ]
  },
  {
   "cell_type": "code",
   "execution_count": 16,
   "metadata": {},
   "outputs": [],
   "source": [
    "# split each of input and output by half in train and test\n",
    "nrBucket=nparray_input_all.shape[0] # is now an even number\n",
    "# create list of even indices to be used for train\n",
    "list_index_Train=[i for i in range(nrBucket) if i%2==0]\n",
    "# create list of odd indices to be used for train\n",
    "list_index_Test=[i for i in range(nrBucket) if i%2==1]\n",
    "\n",
    "# split input in Train and Test by giving as index a list of indices\n",
    "nparray_Input_Train=nparray_input_all[list_index_Train]\n",
    "nparray_Input_Test=nparray_input_all[list_index_Test]\n",
    "nparray_Output_Train=nparray_output_all[list_index_Train]\n",
    "nparray_Output_Test=nparray_output_all[list_index_Test]\n",
    "\n",
    "# save them to files\n",
    "np.save(fileNameNNInputTrain,nparray_Input_Train)\n",
    "np.save(fileNameNNInputTest,nparray_Input_Test)\n",
    "np.save(fileNameNNOutputTrain,nparray_Output_Train)\n",
    "np.save(fileNameNNOutputTest,nparray_Output_Test)"
   ]
  },
  {
   "cell_type": "code",
   "execution_count": null,
   "metadata": {},
   "outputs": [],
   "source": []
  },
  {
   "cell_type": "code",
   "execution_count": null,
   "metadata": {},
   "outputs": [],
   "source": []
  },
  {
   "cell_type": "code",
   "execution_count": null,
   "metadata": {},
   "outputs": [],
   "source": []
  }
 ],
 "metadata": {
  "kernelspec": {
   "display_name": "Python 3",
   "language": "python",
   "name": "python3"
  },
  "language_info": {
   "codemirror_mode": {
    "name": "ipython",
    "version": 3
   },
   "file_extension": ".py",
   "mimetype": "text/x-python",
   "name": "python",
   "nbconvert_exporter": "python",
   "pygments_lexer": "ipython3",
   "version": "3.7.5"
  }
 },
 "nbformat": 4,
 "nbformat_minor": 2
}
