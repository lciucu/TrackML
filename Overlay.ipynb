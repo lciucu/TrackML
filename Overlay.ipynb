{
 "cells": [
  {
   "cell_type": "markdown",
   "metadata": {},
   "source": [
    "# overlay plots of several models"
   ]
  },
  {
   "cell_type": "code",
   "execution_count": 1,
   "metadata": {},
   "outputs": [],
   "source": [
    "import sys\n",
    "import numpy as np\n",
    "import pandas as pd \n",
    "import matplotlib.pyplot as plt\n",
    "import os\n",
    "import copy"
   ]
  },
  {
   "cell_type": "code",
   "execution_count": 2,
   "metadata": {},
   "outputs": [],
   "source": [
    "debug=False\n",
    "outputFolderName=\"./output_overlay_plots_03\"\n",
    "list_extension=[\n",
    "    \"png\",\n",
    "    \"pdf\",\n",
    "]"
   ]
  },
  {
   "cell_type": "code",
   "execution_count": 3,
   "metadata": {},
   "outputs": [],
   "source": [
    "# if output folder does not exist, create it\n",
    "if not os.path.exists(outputFolderName):\n",
    "    os.makedirs(outputFolderName)"
   ]
  },
  {
   "cell_type": "code",
   "execution_count": 4,
   "metadata": {},
   "outputs": [],
   "source": [
    "# list the options we want to compare and appear in the legend\n",
    "list_option=[\n",
    "    \"FirstLayer\",\n",
    "    \"All\"\n",
    "]\n",
    "\n",
    "dict_option_infoOption={\n",
    "    \"FirstLayer\":[\n",
    "            \"/Users/luizaadelinaciucu/Work/ATLAS/TrackML/outputForOverlay\",\n",
    "            \"ModelAdam001_min0_AllEvents_300_50000\",\n",
    "        ],\n",
    "    \"All\":[\n",
    "        \"/Volumes/Luiza_SSD/output_new_A\",\n",
    "        \"ModelAdam001_min0_AllEvents_120_50000\",\n",
    "    ],\n",
    "    \n",
    "}\n",
    "\n",
    "list_color=[\"red\",\"blue\",\"green\",\"orange\",\"magenta\"]"
   ]
  },
  {
   "cell_type": "code",
   "execution_count": 5,
   "metadata": {},
   "outputs": [],
   "source": [
    "# list of variables to plot the overlay for\n",
    "list_variable=[\n",
    "    \"OutputPositive\",\n",
    "    \"OutputNegative\",\n",
    "    \"PredictedOutputPositive\",\n",
    "    \"PredictedOutputNegative\",\n",
    "    \"TruePositive\",\n",
    "    \"FalsePositive\",\n",
    "    \"FalseNegative\",\n",
    "    \"TrueNegative\",\n",
    "    \"accuracy\",\n",
    "    \"precision\",\n",
    "    \"recall\",\n",
    "    \"negativePredictedValue\",\n",
    "    \"trueNegativeRate\",\n",
    "]\n",
    "\n",
    "bins_int_0_21 = [i for i in range(22)]\n",
    "bins_float_0_1 = [i/20 for i in range(22)]\n",
    "\n",
    "dict_variable_infoVariable={\n",
    "    \"OutputPositive\":[bins_int_0_21, \"upper right\"],\n",
    "    \"OutputNegative\":[bins_int_0_21, \"upper left\"],\n",
    "    \"PredictedOutputPositive\":[bins_int_0_21, \"upper right\"],\n",
    "    \"PredictedOutputNegative\":[bins_int_0_21, \"upper left\"],\n",
    "    \"TruePositive\":[bins_int_0_21, \"upper right\"],\n",
    "    \"FalsePositive\":[bins_int_0_21, \"upper right\"],\n",
    "    \"FalseNegative\":[bins_int_0_21, \"upper right\"],\n",
    "    \"TrueNegative\":[bins_int_0_21, \"upper right\"],\n",
    "    \"accuracy\":[bins_float_0_1, \"upper left\"],\n",
    "    \"precision\":[bins_float_0_1, \"upper left\"],\n",
    "    \"recall\":[bins_float_0_1, \"upper right\"],\n",
    "    \"negativePredictedValue\":[bins_float_0_1, \"upper left\"],\n",
    "    \"trueNegativeRate\":[bins_float_0_1, \"upper left\"],    \n",
    "}"
   ]
  },
  {
   "cell_type": "code",
   "execution_count": 6,
   "metadata": {},
   "outputs": [],
   "source": [
    "# list of variables to plot the overlay for\n",
    "list_variable2=[\n",
    "    \"accuracyBinary\",\n",
    "    \"loss\",\n",
    "]\n",
    "\n",
    "bins_int_0_21 = [i for i in range(22)]\n",
    "bins_float_0_1 = [i/20 for i in range(22)]\n",
    "\n",
    "dict_variable2_infoVariable={\n",
    "    \"accuracyBinary\":[bins_int_0_21, \"upper left\"],\n",
    "    \"loss\":[bins_int_0_21, \"upper right\"],\n",
    "    \n",
    "}"
   ]
  },
  {
   "cell_type": "code",
   "execution_count": 7,
   "metadata": {},
   "outputs": [],
   "source": [
    "# list of Train or Test\n",
    "list_TrainOrTest=[\n",
    "    \"Train\",\n",
    "    \"Test\",\n",
    "]"
   ]
  },
  {
   "cell_type": "code",
   "execution_count": 8,
   "metadata": {},
   "outputs": [
    {
     "ename": "FileNotFoundError",
     "evalue": "[Errno 2] No such file or directory: '/Users/luizaadelinaciucu/Work/ATLAS/TrackML/outputForOverlay/NN_5_ModelAdam001_min0_AllEvents_300_50000_OutputPositive_Train.npy'",
     "output_type": "error",
     "traceback": [
      "\u001b[0;31m---------------------------------------------------------------------------\u001b[0m",
      "\u001b[0;31mFileNotFoundError\u001b[0m                         Traceback (most recent call last)",
      "\u001b[0;32m<ipython-input-8-d9dabc4dc2a9>\u001b[0m in \u001b[0;36m<module>\u001b[0;34m\u001b[0m\n\u001b[1;32m     18\u001b[0m             \u001b[0mmodelDescription\u001b[0m\u001b[0;34m=\u001b[0m\u001b[0minfoOption\u001b[0m\u001b[0;34m[\u001b[0m\u001b[0;36m1\u001b[0m\u001b[0;34m]\u001b[0m\u001b[0;34m\u001b[0m\u001b[0;34m\u001b[0m\u001b[0m\n\u001b[1;32m     19\u001b[0m             \u001b[0minputFileName\u001b[0m\u001b[0;34m=\u001b[0m\u001b[0minputFolderName\u001b[0m\u001b[0;34m+\u001b[0m\u001b[0;34m\"/NN_5_\"\u001b[0m\u001b[0;34m+\u001b[0m\u001b[0mmodelDescription\u001b[0m\u001b[0;34m+\u001b[0m\u001b[0;34m\"_\"\u001b[0m\u001b[0;34m+\u001b[0m\u001b[0mvariable\u001b[0m\u001b[0;34m+\u001b[0m\u001b[0;34m\"_\"\u001b[0m\u001b[0;34m+\u001b[0m\u001b[0mTrainOrTest\u001b[0m\u001b[0;34m+\u001b[0m\u001b[0;34m\".npy\"\u001b[0m\u001b[0;34m\u001b[0m\u001b[0;34m\u001b[0m\u001b[0m\n\u001b[0;32m---> 20\u001b[0;31m             \u001b[0mnparray\u001b[0m\u001b[0;34m=\u001b[0m\u001b[0mnp\u001b[0m\u001b[0;34m.\u001b[0m\u001b[0mload\u001b[0m\u001b[0;34m(\u001b[0m\u001b[0minputFileName\u001b[0m\u001b[0;34m)\u001b[0m\u001b[0;34m\u001b[0m\u001b[0;34m\u001b[0m\u001b[0m\n\u001b[0m\u001b[1;32m     21\u001b[0m             \u001b[0mplt\u001b[0m\u001b[0;34m.\u001b[0m\u001b[0mhist\u001b[0m\u001b[0;34m(\u001b[0m\u001b[0mnparray\u001b[0m\u001b[0;34m,\u001b[0m\u001b[0mbins\u001b[0m\u001b[0;34m=\u001b[0m\u001b[0mbins\u001b[0m\u001b[0;34m,\u001b[0m\u001b[0mdensity\u001b[0m\u001b[0;34m=\u001b[0m\u001b[0;32mTrue\u001b[0m\u001b[0;34m,\u001b[0m\u001b[0malpha\u001b[0m\u001b[0;34m=\u001b[0m\u001b[0;36m1\u001b[0m\u001b[0;34m,\u001b[0m\u001b[0mcolor\u001b[0m\u001b[0;34m=\u001b[0m\u001b[0mcolor\u001b[0m\u001b[0;34m,\u001b[0m\u001b[0mhisttype\u001b[0m\u001b[0;34m=\u001b[0m\u001b[0;34m'step'\u001b[0m\u001b[0;34m,\u001b[0m\u001b[0mlabel\u001b[0m\u001b[0;34m=\u001b[0m\u001b[0moption\u001b[0m\u001b[0;34m)\u001b[0m\u001b[0;34m\u001b[0m\u001b[0;34m\u001b[0m\u001b[0m\n\u001b[1;32m     22\u001b[0m         \u001b[0;31m# done for loop over option\u001b[0m\u001b[0;34m\u001b[0m\u001b[0;34m\u001b[0m\u001b[0;34m\u001b[0m\u001b[0m\n",
      "\u001b[0;32m~/Work/PythonEnvironments/env_python3/lib/python3.7/site-packages/numpy/lib/npyio.py\u001b[0m in \u001b[0;36mload\u001b[0;34m(file, mmap_mode, allow_pickle, fix_imports, encoding)\u001b[0m\n\u001b[1;32m    426\u001b[0m         \u001b[0mown_fid\u001b[0m \u001b[0;34m=\u001b[0m \u001b[0;32mFalse\u001b[0m\u001b[0;34m\u001b[0m\u001b[0;34m\u001b[0m\u001b[0m\n\u001b[1;32m    427\u001b[0m     \u001b[0;32melse\u001b[0m\u001b[0;34m:\u001b[0m\u001b[0;34m\u001b[0m\u001b[0;34m\u001b[0m\u001b[0m\n\u001b[0;32m--> 428\u001b[0;31m         \u001b[0mfid\u001b[0m \u001b[0;34m=\u001b[0m \u001b[0mopen\u001b[0m\u001b[0;34m(\u001b[0m\u001b[0mos_fspath\u001b[0m\u001b[0;34m(\u001b[0m\u001b[0mfile\u001b[0m\u001b[0;34m)\u001b[0m\u001b[0;34m,\u001b[0m \u001b[0;34m\"rb\"\u001b[0m\u001b[0;34m)\u001b[0m\u001b[0;34m\u001b[0m\u001b[0;34m\u001b[0m\u001b[0m\n\u001b[0m\u001b[1;32m    429\u001b[0m         \u001b[0mown_fid\u001b[0m \u001b[0;34m=\u001b[0m \u001b[0;32mTrue\u001b[0m\u001b[0;34m\u001b[0m\u001b[0;34m\u001b[0m\u001b[0m\n\u001b[1;32m    430\u001b[0m \u001b[0;34m\u001b[0m\u001b[0m\n",
      "\u001b[0;31mFileNotFoundError\u001b[0m: [Errno 2] No such file or directory: '/Users/luizaadelinaciucu/Work/ATLAS/TrackML/outputForOverlay/NN_5_ModelAdam001_min0_AllEvents_300_50000_OutputPositive_Train.npy'"
     ]
    }
   ],
   "source": [
    "# create histogram plots \n",
    "# for loop over TrainOrTest\n",
    "for TrainOrTest in list_TrainOrTest:\n",
    "    # for loop over variable\n",
    "    for variable in list_variable:\n",
    "        infoVariable=dict_variable_infoVariable[variable]\n",
    "        if debug:\n",
    "            print(\"variable\",variable,\"infoVariable\",infoVariable)\n",
    "        bins=infoVariable[0]\n",
    "        legend_position=infoVariable[1]\n",
    "        # for loop over option to plot\n",
    "        for i,option in enumerate(list_option):\n",
    "            if debug:\n",
    "                print(\"i\",i,\"option\",option)\n",
    "            color=list_color[i]\n",
    "            infoOption=dict_option_infoOption[option]\n",
    "            inputFolderName=infoOption[0]\n",
    "            modelDescription=infoOption[1]\n",
    "            inputFileName=inputFolderName+\"/NN_5_\"+modelDescription+\"_\"+variable+\"_\"+TrainOrTest+\".npy\"\n",
    "            nparray=np.load(inputFileName)\n",
    "            plt.hist(nparray,bins=bins,density=True,alpha=1,color=color,histtype='step',label=option)\n",
    "        # done for loop over option\n",
    "        plt.ylabel(\"Number of buckets\")\n",
    "        plt.xlabel(\"Bucket \"+variable)\n",
    "        plt.title(\"\")\n",
    "        plt.legend(loc=legend_position)\n",
    "        # plt.ylim(bottom=0,top=250)\n",
    "        # plt.show()\n",
    "        for extension in list_extension:\n",
    "            plt.savefig(outputFolderName+\"/plot_overlay_histo_\"+variable+\"_\"+TrainOrTest+\".\"+extension)\n",
    "        plt.close()\n",
    "    # done for loop over variable\n",
    "# done for loop over TrainOrTest"
   ]
  },
  {
   "cell_type": "code",
   "execution_count": null,
   "metadata": {},
   "outputs": [],
   "source": [
    "# create graph plots \n",
    "# for loop over TrainOrTest\n",
    "for TrainOrTest in list_TrainOrTest:\n",
    "    # for loop over variable\n",
    "    for variable2 in list_variable2:\n",
    "        infoVariable2=dict_variable2_infoVariable[variable2]\n",
    "        if debug:\n",
    "            print(\"variable2\",variable2,\"infoVariable2\",infoVariable2)\n",
    "        bins=infoVariable2[0]\n",
    "        legend_position=infoVariable2[1]\n",
    "        # for loop over option to plot\n",
    "        for i,option in enumerate(list_option):\n",
    "            if debug:\n",
    "                print(\"i\",i,\"option\",option)\n",
    "            color=list_color[i]\n",
    "            infoOption=dict_option_infoOption[option]\n",
    "            inputFolderName=infoOption[0]\n",
    "            modelDescription=infoOption[1]\n",
    "            inputFileName=inputFolderName+\"/NN_3_\"+modelDescription+\"_\"+variable2+\"_\"+TrainOrTest+\".npy\"\n",
    "            nparray=np.load(inputFileName)\n",
    "            plt.plot(nparray,color=color,label=option)\n",
    "        # done for loop over option\n",
    "        plt.ylabel(variable2)\n",
    "        plt.xlabel(\"Number of epochs\")\n",
    "        plt.title(\"\")\n",
    "        plt.legend(loc=legend_position)\n",
    "        # plt.ylim(bottom=0,top=250)\n",
    "        # plt.show()\n",
    "        for extension in list_extension:\n",
    "            plt.savefig(outputFolderName+\"/plot_overlay_graph_\"+variable2+\"_\"+TrainOrTest+\".\"+extension)\n",
    "        plt.close()\n",
    "    # done for loop over variable\n",
    "# done for loop over TrainOrTest"
   ]
  },
  {
   "cell_type": "code",
   "execution_count": null,
   "metadata": {},
   "outputs": [],
   "source": []
  },
  {
   "cell_type": "code",
   "execution_count": null,
   "metadata": {},
   "outputs": [],
   "source": []
  }
 ],
 "metadata": {
  "kernelspec": {
   "display_name": "Python 3",
   "language": "python",
   "name": "python3"
  },
  "language_info": {
   "codemirror_mode": {
    "name": "ipython",
    "version": 3
   },
   "file_extension": ".py",
   "mimetype": "text/x-python",
   "name": "python",
   "nbconvert_exporter": "python",
   "pygments_lexer": "ipython3",
   "version": "3.7.5"
  }
 },
 "nbformat": 4,
 "nbformat_minor": 2
}
