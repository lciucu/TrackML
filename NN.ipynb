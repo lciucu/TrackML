{
 "cells": [
  {
   "cell_type": "code",
   "execution_count": 1,
   "metadata": {},
   "outputs": [],
   "source": [
    "import os\n",
    "import numpy as np\n",
    "import collections\n",
    "import matplotlib.pyplot as plt\n",
    "from matplotlib.colors import LogNorm\n",
    "import pandas as pd"
   ]
  },
  {
   "cell_type": "code",
   "execution_count": 2,
   "metadata": {},
   "outputs": [],
   "source": [
    "doTrain=True\n",
    "doLoadModel=True\n",
    "doLoadMetrics=True\n",
    "doPlotMetrics=True\n",
    "doPredict=True\n",
    "doLoadPredict=True\n",
    "doCalculateMetrics2=True\n",
    "doPlotMetrics2=True\n",
    "\n",
    "modelName=\"ModelAdam001_min0_AllEvents\"\n",
    "numberOfEpochs=120\n",
    "batchSize=50000"
   ]
  },
  {
   "cell_type": "code",
   "execution_count": 3,
   "metadata": {},
   "outputs": [
    {
     "data": {
      "text/plain": [
       "'/Users/luizaadelinaciucu/Work/ATLAS/TrackML'"
      ]
     },
     "execution_count": 3,
     "metadata": {},
     "output_type": "execute_result"
    }
   ],
   "source": [
    "os.getcwd()"
   ]
  },
  {
   "cell_type": "code",
   "execution_count": 4,
   "metadata": {},
   "outputs": [],
   "source": [
    "def p(name,nparray):\n",
    "    print(\"Start\",name)\n",
    "    print(nparray)\n",
    "    print(\"End\",name,\"shape\",nparray.shape,\"type\",type(nparray),\"dtype\",nparray.dtype)\n",
    "# done function"
   ]
  },
  {
   "cell_type": "code",
   "execution_count": 5,
   "metadata": {},
   "outputs": [],
   "source": [
    "outputFolder=\"/Users/luizaadelinaciucu/Work/ATLAS/TrackML/outputForOverlay\""
   ]
  },
  {
   "cell_type": "code",
   "execution_count": 6,
   "metadata": {},
   "outputs": [],
   "source": [
    "#eventNumber=\"000000082\"\n",
    "eventNumber=\"all\"\n",
    "nparray_Input_Train=np.load(outputFolder+\"/NN_2_data_Input_Train_\"+eventNumber+\".npy\")\n",
    "nparray_Input_Test=np.load(outputFolder+\"/NN_2_data_Input_Test_\"+eventNumber+\".npy\")\n",
    "nparray_Output_Train=np.load(outputFolder+\"/NN_2_data_Output_Train_\"+eventNumber+\".npy\")\n",
    "nparray_Output_Test=np.load(outputFolder+\"/NN_2_data_Output_Test_\"+eventNumber+\".npy\")"
   ]
  },
  {
   "cell_type": "code",
   "execution_count": 7,
   "metadata": {},
   "outputs": [
    {
     "name": "stdout",
     "output_type": "stream",
     "text": [
      "Start Input_Train\n",
      "[[[  -32.3306 ]\n",
      "  [   -4.28872]\n",
      "  [ -462.092  ]\n",
      "  ...\n",
      "  [  -89.3    ]\n",
      "  [  -15.1782 ]\n",
      "  [-1302.5    ]]\n",
      "\n",
      " [[  -30.0484 ]\n",
      "  [  -10.8162 ]\n",
      "  [ -427.981  ]\n",
      "  ...\n",
      "  [  -47.7968 ]\n",
      "  [  -14.5214 ]\n",
      "  [ -702.     ]]\n",
      "\n",
      " [[  -30.4775 ]\n",
      "  [   -9.58902]\n",
      "  [ -421.256  ]\n",
      "  ...\n",
      "  [ -112.212  ]\n",
      "  [  -40.1146 ]\n",
      "  [-1498.     ]]\n",
      "\n",
      " ...\n",
      "\n",
      " [[  -31.1126 ]\n",
      "  [    6.67917]\n",
      "  [  479.888  ]\n",
      "  ...\n",
      "  [  -52.7307 ]\n",
      "  [   10.2438 ]\n",
      "  [  817.5    ]]\n",
      "\n",
      " [[  -29.7171 ]\n",
      "  [   10.754  ]\n",
      "  [  423.404  ]\n",
      "  ...\n",
      "  [  -30.046  ]\n",
      "  [   11.212  ]\n",
      "  [  414.481  ]]\n",
      "\n",
      " [[  -31.1787 ]\n",
      "  [    5.50642]\n",
      "  [  468.062  ]\n",
      "  ...\n",
      "  [  -84.2942 ]\n",
      "  [   15.5837 ]\n",
      "  [ 1302.     ]]]\n",
      "End Input_Train shape (676641, 60, 1) type <class 'numpy.ndarray'> dtype float64\n"
     ]
    }
   ],
   "source": [
    "p(\"Input_Train\",nparray_Input_Train)"
   ]
  },
  {
   "cell_type": "code",
   "execution_count": 8,
   "metadata": {},
   "outputs": [
    {
     "name": "stdout",
     "output_type": "stream",
     "text": [
      "Start Input_Test\n",
      "[[[-3.14083e+01]\n",
      "  [-6.92671e+00]\n",
      "  [-4.43949e+02]\n",
      "  ...\n",
      "  [-6.06544e+01]\n",
      "  [-1.45361e+01]\n",
      "  [-8.18000e+02]]\n",
      "\n",
      " [[-3.98043e+01]\n",
      "  [-1.03018e+01]\n",
      "  [-5.98000e+02]\n",
      "  ...\n",
      "  [-4.59755e+01]\n",
      "  [-1.01379e+01]\n",
      "  [-6.98000e+02]]\n",
      "\n",
      " [[-3.00415e+01]\n",
      "  [-1.08359e+01]\n",
      "  [-4.23476e+02]\n",
      "  ...\n",
      "  [-4.99527e+01]\n",
      "  [-2.08473e+01]\n",
      "  [-6.97500e+02]]\n",
      "\n",
      " ...\n",
      "\n",
      " [[-3.31662e+01]\n",
      "  [-3.98620e-01]\n",
      "  [ 4.46810e+02]\n",
      "  ...\n",
      "  [-7.94153e+01]\n",
      "  [ 2.56644e-01]\n",
      "  [ 1.09750e+03]]\n",
      "\n",
      " [[-3.12528e+01]\n",
      "  [ 4.19333e+00]\n",
      "  [ 4.50675e+02]\n",
      "  ...\n",
      "  [-6.78425e+01]\n",
      "  [ 1.15825e+01]\n",
      "  [ 9.62000e+02]]\n",
      "\n",
      " [[-3.07637e+01]\n",
      "  [ 1.28645e+01]\n",
      "  [ 4.24059e+02]\n",
      "  ...\n",
      "  [-5.61753e+01]\n",
      "  [ 2.31333e+01]\n",
      "  [ 8.18000e+02]]]\n",
      "End Input_Test shape (280483, 60, 1) type <class 'numpy.ndarray'> dtype float64\n"
     ]
    }
   ],
   "source": [
    "p(\"Input_Test\",nparray_Input_Test)"
   ]
  },
  {
   "cell_type": "code",
   "execution_count": 9,
   "metadata": {},
   "outputs": [
    {
     "name": "stdout",
     "output_type": "stream",
     "text": [
      "Start Output_Train\n",
      "[[-1  1 -1 ... -1 -1 -1]\n",
      " [ 1 -1 -1 ... -1 -1 -1]\n",
      " [-1 -1 -1 ... -1 -1 -1]\n",
      " ...\n",
      " [ 1  1  1 ... -1 -1 -1]\n",
      " [ 1  1  1 ... -1 -1 -1]\n",
      " [-1 -1 -1 ... -1 -1  1]]\n",
      "End Output_Train shape (676641, 20) type <class 'numpy.ndarray'> dtype int64\n"
     ]
    }
   ],
   "source": [
    "p (\"Output_Train\", nparray_Output_Train)"
   ]
  },
  {
   "cell_type": "code",
   "execution_count": 10,
   "metadata": {},
   "outputs": [
    {
     "name": "stdout",
     "output_type": "stream",
     "text": [
      "Start Output_Test\n",
      "[[-1 -1 -1 ...  1 -1 -1]\n",
      " [-1 -1 -1 ...  1  1 -1]\n",
      " [ 1  1  1 ... -1  1 -1]\n",
      " ...\n",
      " [ 1  1  1 ... -1 -1 -1]\n",
      " [ 1  1  1 ... -1 -1 -1]\n",
      " [-1 -1 -1 ... -1 -1 -1]]\n",
      "End Output_Test shape (280483, 20) type <class 'numpy.ndarray'> dtype int64\n"
     ]
    }
   ],
   "source": [
    "p (\"Output_Test\",nparray_Output_Test)"
   ]
  },
  {
   "cell_type": "markdown",
   "metadata": {},
   "source": [
    "Creating model"
   ]
  },
  {
   "cell_type": "code",
   "execution_count": 11,
   "metadata": {},
   "outputs": [
    {
     "name": "stderr",
     "output_type": "stream",
     "text": [
      "Using TensorFlow backend.\n"
     ]
    }
   ],
   "source": [
    "#np.random.seed(98383822)\n",
    "np.random.seed(18383822) # this line must be before importing keras\n",
    "import keras\n",
    "nrNodesInputLayer=nparray_Input_Train.shape[1] # three inputs (x, y, z) for each hit in the batch\n",
    "nrNodesOutputLayer=nparray_Output_Train.shape[1] # one output for each hit in the batch"
   ]
  },
  {
   "cell_type": "code",
   "execution_count": 12,
   "metadata": {},
   "outputs": [],
   "source": [
    "def get_model():\n",
    "    \n",
    "    # nr nodes on the hidden layers\n",
    "    k=5\n",
    "    nrNodesHiddenLayer=nrNodesOutputLayer*k\n",
    "\n",
    "    # create empty model\n",
    "    model=keras.models.Sequential()\n",
    "\n",
    "    # add first layer \n",
    "    model.add(keras.layers.Dense(nrNodesInputLayer,activation='linear',input_shape=(nrNodesInputLayer,1)))\n",
    "\n",
    "    # flatten first layer\n",
    "    model.add(keras.layers.Flatten())\n",
    "\n",
    "    # add hidden layers\n",
    "    model.add(keras.layers.Dense(nrNodesHiddenLayer,activation='elu'))\n",
    "    model.add(keras.layers.Dense(nrNodesHiddenLayer,activation='elu'))\n",
    "    \n",
    "    # add output layer\n",
    "    model.add(keras.layers.Dense(nrNodesOutputLayer,activation='tanh'))\n",
    "\n",
    "    # model geometry done\n",
    "\n",
    "    # choosing how the NN learns \n",
    "    # learning method squared hinge; optimizer Adadelta\n",
    "    model.compile(loss=keras.losses.squared_hinge,\n",
    "                #optimizer=keras.optimizers.Adadelta(),\n",
    "                optimizer=keras.optimizers.Adam(learning_rate=0.001, beta_1=0.9, beta_2=0.999, amsgrad=False),\n",
    "                metrics=['binary_accuracy','categorical_accuracy'])\n",
    "\n",
    "   # now model is done we are ready to train \n",
    "    return model\n",
    "# done function "
   ]
  },
  {
   "cell_type": "code",
   "execution_count": 13,
   "metadata": {},
   "outputs": [],
   "source": [
    "model=get_model()"
   ]
  },
  {
   "cell_type": "code",
   "execution_count": 14,
   "metadata": {},
   "outputs": [],
   "source": [
    "def train_model(model,modelName,numberOfEpochs,batchSize):\n",
    "    print(\"*** Start train_model for modeName\",modelName,\"***\")\n",
    "    # train the model and return for each epoch the accuracy and loss values\n",
    "    # in a variable called history\n",
    "    history=model.fit(\n",
    "            nparray_Input_Train,\n",
    "            nparray_Output_Train,\n",
    "            batchSize,numberOfEpochs,\n",
    "            validation_data=(nparray_Input_Test,nparray_Output_Test),\n",
    "            shuffle=False\n",
    "            )\n",
    "    # the train (fit) function outputs a history\n",
    "    # retrieve from it the accuracy, loss, train, test\n",
    "    nparray_accuracyBinary_Train=history.history[\"binary_accuracy\"]\n",
    "    nparray_accuracyCategorical_Train=history.history[\"categorical_accuracy\"]\n",
    "    nparray_accuracyBinary_Test=history.history[\"val_binary_accuracy\"]\n",
    "    nparray_accuracyCategorical_Test=history.history[\"val_categorical_accuracy\"]\n",
    "    nparray_loss_Train=history.history[\"loss\"]\n",
    "    nparray_loss_Test=history.history[\"val_loss\"]\n",
    "    \n",
    "    # save the loss, accuracies, weights + biases of the trained model to a file\n",
    "    # create the name stem, specific for this training\n",
    "    outputFileNameStem=\"NN_3_\"+modelName+\"_\"+str(numberOfEpochs)+\"_\"+str(batchSize)\n",
    "    # create the file names for accuracy and loss, train and test\n",
    "    outputFileNameAccuracyBinaryTrain=outputFolder+\"/\"+outputFileNameStem+\"_accuracyBinary_Train.npy\"\n",
    "    outputFileNameAccuracyCategoricalTrain=outputFolder+\"/\"+outputFileNameStem+\"_accuracyCategorical_Train.npy\"\n",
    "    outputFileNameAccuracyBinaryTest=outputFolder+\"/\"+outputFileNameStem+\"_accuracyBinary_Test.npy\"\n",
    "    outputFileNameAccuracyCategoricalTest=outputFolder+\"/\"+outputFileNameStem+\"_accuracyCategorical_Test.npy\"\n",
    "    outputFileNameLossTrain=outputFolder+\"/\"+outputFileNameStem+\"_loss_Train.npy\"\n",
    "    outputFileNameLossTest=outputFolder+\"/\"+outputFileNameStem+\"_loss_Test.npy\"\n",
    "    # create the file name for the weights and biases\n",
    "    outputFileNameWeights=outputFolder+\"/\"+outputFileNameStem+\"_weights.hdf5\"\n",
    "    \n",
    "    # save to files\n",
    "    #\n",
    "    np.save(outputFileNameAccuracyBinaryTrain,nparray_accuracyBinary_Train)\n",
    "    np.save(outputFileNameAccuracyBinaryTest,nparray_accuracyBinary_Test)\n",
    "    np.save(outputFileNameAccuracyCategoricalTrain,nparray_accuracyCategorical_Train)\n",
    "    np.save(outputFileNameAccuracyCategoricalTest,nparray_accuracyCategorical_Test)\n",
    "    np.save(outputFileNameLossTrain,nparray_loss_Train)\n",
    "    np.save(outputFileNameLossTest,nparray_loss_Test)\n",
    "    #\n",
    "    model.save_weights(outputFileNameWeights)\n",
    "\n",
    "    # ready to return\n",
    "    return (model,nparray_accuracyBinary_Train,nparray_accuracyBinary_Test,nparray_accuracyCategorical_Train,nparray_accuracyCategorical_Test,nparray_loss_Train,nparray_loss_Test)\n",
    "# done function"
   ]
  },
  {
   "cell_type": "code",
   "execution_count": 15,
   "metadata": {},
   "outputs": [
    {
     "name": "stdout",
     "output_type": "stream",
     "text": [
      "*** Start train_model for modeName ModelAdam001_min0_AllEvents ***\n",
      "Train on 676641 samples, validate on 280483 samples\n",
      "Epoch 1/120\n",
      "676641/676641 [==============================] - 38s 56us/step - loss: 1.5980 - binary_accuracy: 0.5992 - categorical_accuracy: 0.1063 - val_loss: 1.4612 - val_binary_accuracy: 0.6342 - val_categorical_accuracy: 0.0798\n",
      "Epoch 2/120\n",
      "676641/676641 [==============================] - 35s 52us/step - loss: 1.4396 - binary_accuracy: 0.6396 - categorical_accuracy: 0.0784 - val_loss: 1.4086 - val_binary_accuracy: 0.6475 - val_categorical_accuracy: 0.0786\n",
      "Epoch 3/120\n",
      "676641/676641 [==============================] - 34s 51us/step - loss: 1.4084 - binary_accuracy: 0.6476 - categorical_accuracy: 0.0831 - val_loss: 1.4003 - val_binary_accuracy: 0.6496 - val_categorical_accuracy: 0.0857\n",
      "Epoch 4/120\n",
      "676641/676641 [==============================] - 34s 50us/step - loss: 1.3949 - binary_accuracy: 0.6510 - categorical_accuracy: 0.0907 - val_loss: 1.3815 - val_binary_accuracy: 0.6543 - val_categorical_accuracy: 0.0944\n",
      "Epoch 5/120\n",
      "676641/676641 [==============================] - 34s 50us/step - loss: 1.3770 - binary_accuracy: 0.6554 - categorical_accuracy: 0.1024 - val_loss: 1.3539 - val_binary_accuracy: 0.6612 - val_categorical_accuracy: 0.1150\n",
      "Epoch 6/120\n",
      "676641/676641 [==============================] - 34s 50us/step - loss: 1.3560 - binary_accuracy: 0.6606 - categorical_accuracy: 0.1179 - val_loss: 1.3350 - val_binary_accuracy: 0.6659 - val_categorical_accuracy: 0.1214\n",
      "Epoch 7/120\n",
      "676641/676641 [==============================] - 34s 50us/step - loss: 1.3429 - binary_accuracy: 0.6639 - categorical_accuracy: 0.1245 - val_loss: 1.3248 - val_binary_accuracy: 0.6684 - val_categorical_accuracy: 0.1286\n",
      "Epoch 8/120\n",
      "676641/676641 [==============================] - 34s 50us/step - loss: 1.3277 - binary_accuracy: 0.6677 - categorical_accuracy: 0.1290 - val_loss: 1.3159 - val_binary_accuracy: 0.6707 - val_categorical_accuracy: 0.1307\n",
      "Epoch 9/120\n",
      "676641/676641 [==============================] - 35s 51us/step - loss: 1.3195 - binary_accuracy: 0.6697 - categorical_accuracy: 0.1335 - val_loss: 1.3069 - val_binary_accuracy: 0.6729 - val_categorical_accuracy: 0.1378\n",
      "Epoch 10/120\n",
      "676641/676641 [==============================] - 33s 49us/step - loss: 1.3097 - binary_accuracy: 0.6722 - categorical_accuracy: 0.1391 - val_loss: 1.2958 - val_binary_accuracy: 0.6757 - val_categorical_accuracy: 0.1402\n",
      "Epoch 11/120\n",
      "676641/676641 [==============================] - 35s 51us/step - loss: 1.3031 - binary_accuracy: 0.6738 - categorical_accuracy: 0.1428 - val_loss: 1.2940 - val_binary_accuracy: 0.6761 - val_categorical_accuracy: 0.1423\n",
      "Epoch 12/120\n",
      "676641/676641 [==============================] - 34s 50us/step - loss: 1.3015 - binary_accuracy: 0.6742 - categorical_accuracy: 0.1412 - val_loss: 1.2973 - val_binary_accuracy: 0.6753 - val_categorical_accuracy: 0.1435\n",
      "Epoch 13/120\n",
      "676641/676641 [==============================] - 34s 50us/step - loss: 1.3009 - binary_accuracy: 0.6744 - categorical_accuracy: 0.1439 - val_loss: 1.2910 - val_binary_accuracy: 0.6769 - val_categorical_accuracy: 0.1475\n",
      "Epoch 14/120\n",
      "676641/676641 [==============================] - 34s 50us/step - loss: 1.2965 - binary_accuracy: 0.6755 - categorical_accuracy: 0.1444 - val_loss: 1.2855 - val_binary_accuracy: 0.6783 - val_categorical_accuracy: 0.1459\n",
      "Epoch 15/120\n",
      "676641/676641 [==============================] - 34s 50us/step - loss: 1.2854 - binary_accuracy: 0.6783 - categorical_accuracy: 0.1466 - val_loss: 1.2699 - val_binary_accuracy: 0.6821 - val_categorical_accuracy: 0.1475\n",
      "Epoch 16/120\n",
      "676641/676641 [==============================] - 34s 50us/step - loss: 1.2751 - binary_accuracy: 0.6808 - categorical_accuracy: 0.1445 - val_loss: 1.2654 - val_binary_accuracy: 0.6833 - val_categorical_accuracy: 0.1481\n",
      "Epoch 17/120\n",
      "676641/676641 [==============================] - 33s 49us/step - loss: 1.2707 - binary_accuracy: 0.6819 - categorical_accuracy: 0.1460 - val_loss: 1.2633 - val_binary_accuracy: 0.6838 - val_categorical_accuracy: 0.1450\n",
      "Epoch 18/120\n",
      "676641/676641 [==============================] - 34s 50us/step - loss: 1.2695 - binary_accuracy: 0.6823 - categorical_accuracy: 0.1438 - val_loss: 1.2617 - val_binary_accuracy: 0.6842 - val_categorical_accuracy: 0.1460\n",
      "Epoch 19/120\n",
      "676641/676641 [==============================] - 34s 50us/step - loss: 1.2660 - binary_accuracy: 0.6832 - categorical_accuracy: 0.1473 - val_loss: 1.2636 - val_binary_accuracy: 0.6837 - val_categorical_accuracy: 0.1499\n",
      "Epoch 20/120\n",
      "676641/676641 [==============================] - 34s 50us/step - loss: 1.2621 - binary_accuracy: 0.6841 - categorical_accuracy: 0.1516 - val_loss: 1.2555 - val_binary_accuracy: 0.6858 - val_categorical_accuracy: 0.1499\n",
      "Epoch 21/120\n",
      "676641/676641 [==============================] - 34s 50us/step - loss: 1.2587 - binary_accuracy: 0.6850 - categorical_accuracy: 0.1501 - val_loss: 1.2483 - val_binary_accuracy: 0.6876 - val_categorical_accuracy: 0.1530\n",
      "Epoch 22/120\n",
      "676641/676641 [==============================] - 34s 50us/step - loss: 1.2591 - binary_accuracy: 0.6849 - categorical_accuracy: 0.1532 - val_loss: 1.2511 - val_binary_accuracy: 0.6869 - val_categorical_accuracy: 0.1548\n",
      "Epoch 23/120\n",
      "676641/676641 [==============================] - 34s 50us/step - loss: 1.2570 - binary_accuracy: 0.6854 - categorical_accuracy: 0.1551 - val_loss: 1.2459 - val_binary_accuracy: 0.6882 - val_categorical_accuracy: 0.1536\n",
      "Epoch 24/120\n",
      "676641/676641 [==============================] - 34s 50us/step - loss: 1.2537 - binary_accuracy: 0.6862 - categorical_accuracy: 0.1565 - val_loss: 1.2429 - val_binary_accuracy: 0.6889 - val_categorical_accuracy: 0.1611\n",
      "Epoch 25/120\n",
      "676641/676641 [==============================] - 34s 50us/step - loss: 1.2475 - binary_accuracy: 0.6878 - categorical_accuracy: 0.1595 - val_loss: 1.2371 - val_binary_accuracy: 0.6904 - val_categorical_accuracy: 0.1617\n",
      "Epoch 26/120\n",
      "676641/676641 [==============================] - 34s 50us/step - loss: 1.2471 - binary_accuracy: 0.6879 - categorical_accuracy: 0.1601 - val_loss: 1.2383 - val_binary_accuracy: 0.6901 - val_categorical_accuracy: 0.1667\n",
      "Epoch 27/120\n",
      "676641/676641 [==============================] - 34s 50us/step - loss: 1.2480 - binary_accuracy: 0.6877 - categorical_accuracy: 0.1619 - val_loss: 1.2410 - val_binary_accuracy: 0.6894 - val_categorical_accuracy: 0.1639\n",
      "Epoch 28/120\n",
      "676641/676641 [==============================] - 34s 51us/step - loss: 1.2449 - binary_accuracy: 0.6885 - categorical_accuracy: 0.1614 - val_loss: 1.2344 - val_binary_accuracy: 0.6911 - val_categorical_accuracy: 0.1664\n",
      "Epoch 29/120\n",
      "676641/676641 [==============================] - 33s 49us/step - loss: 1.2424 - binary_accuracy: 0.6891 - categorical_accuracy: 0.1653 - val_loss: 1.2352 - val_binary_accuracy: 0.6909 - val_categorical_accuracy: 0.1744\n",
      "Epoch 30/120\n",
      "676641/676641 [==============================] - 34s 51us/step - loss: 1.2409 - binary_accuracy: 0.6894 - categorical_accuracy: 0.1776 - val_loss: 1.2320 - val_binary_accuracy: 0.6917 - val_categorical_accuracy: 0.1807\n",
      "Epoch 31/120\n",
      "676641/676641 [==============================] - 34s 50us/step - loss: 1.2412 - binary_accuracy: 0.6894 - categorical_accuracy: 0.1783 - val_loss: 1.2305 - val_binary_accuracy: 0.6921 - val_categorical_accuracy: 0.1877\n",
      "Epoch 32/120\n",
      "676641/676641 [==============================] - 34s 50us/step - loss: 1.2397 - binary_accuracy: 0.6898 - categorical_accuracy: 0.1881 - val_loss: 1.2317 - val_binary_accuracy: 0.6918 - val_categorical_accuracy: 0.1853\n",
      "Epoch 33/120\n",
      "676641/676641 [==============================] - 34s 50us/step - loss: 1.2359 - binary_accuracy: 0.6907 - categorical_accuracy: 0.1906 - val_loss: 1.2281 - val_binary_accuracy: 0.6927 - val_categorical_accuracy: 0.2010\n",
      "Epoch 34/120\n",
      "676641/676641 [==============================] - 33s 49us/step - loss: 1.2379 - binary_accuracy: 0.6902 - categorical_accuracy: 0.1870 - val_loss: 1.2280 - val_binary_accuracy: 0.6927 - val_categorical_accuracy: 0.1942\n",
      "Epoch 35/120\n",
      "676641/676641 [==============================] - 34s 50us/step - loss: 1.2310 - binary_accuracy: 0.6919 - categorical_accuracy: 0.1935 - val_loss: 1.2192 - val_binary_accuracy: 0.6949 - val_categorical_accuracy: 0.1893\n"
     ]
    },
    {
     "name": "stdout",
     "output_type": "stream",
     "text": [
      "Epoch 36/120\n",
      "676641/676641 [==============================] - 35s 51us/step - loss: 1.2322 - binary_accuracy: 0.6916 - categorical_accuracy: 0.1879 - val_loss: 1.2220 - val_binary_accuracy: 0.6942 - val_categorical_accuracy: 0.1979\n",
      "Epoch 37/120\n",
      "676641/676641 [==============================] - 33s 49us/step - loss: 1.2264 - binary_accuracy: 0.6931 - categorical_accuracy: 0.2017 - val_loss: 1.2170 - val_binary_accuracy: 0.6955 - val_categorical_accuracy: 0.1981\n",
      "Epoch 38/120\n",
      "676641/676641 [==============================] - 34s 50us/step - loss: 1.2220 - binary_accuracy: 0.6942 - categorical_accuracy: 0.2008 - val_loss: 1.2164 - val_binary_accuracy: 0.6956 - val_categorical_accuracy: 0.1987\n",
      "Epoch 39/120\n",
      "676641/676641 [==============================] - 34s 50us/step - loss: 1.2249 - binary_accuracy: 0.6935 - categorical_accuracy: 0.2065 - val_loss: 1.2135 - val_binary_accuracy: 0.6963 - val_categorical_accuracy: 0.2019\n",
      "Epoch 40/120\n",
      "676641/676641 [==============================] - 34s 50us/step - loss: 1.2213 - binary_accuracy: 0.6944 - categorical_accuracy: 0.2034 - val_loss: 1.2143 - val_binary_accuracy: 0.6961 - val_categorical_accuracy: 0.2060\n",
      "Epoch 41/120\n",
      "676641/676641 [==============================] - 33s 49us/step - loss: 1.2184 - binary_accuracy: 0.6951 - categorical_accuracy: 0.2019 - val_loss: 1.2147 - val_binary_accuracy: 0.6960 - val_categorical_accuracy: 0.1941\n",
      "Epoch 42/120\n",
      "676641/676641 [==============================] - 33s 49us/step - loss: 1.2179 - binary_accuracy: 0.6952 - categorical_accuracy: 0.2041 - val_loss: 1.2103 - val_binary_accuracy: 0.6971 - val_categorical_accuracy: 0.1942\n",
      "Epoch 43/120\n",
      "676641/676641 [==============================] - 37s 54us/step - loss: 1.2125 - binary_accuracy: 0.6966 - categorical_accuracy: 0.2007 - val_loss: 1.2046 - val_binary_accuracy: 0.6986 - val_categorical_accuracy: 0.2112\n",
      "Epoch 44/120\n",
      "676641/676641 [==============================] - 34s 50us/step - loss: 1.2122 - binary_accuracy: 0.6966 - categorical_accuracy: 0.2131 - val_loss: 1.2035 - val_binary_accuracy: 0.6988 - val_categorical_accuracy: 0.2177\n",
      "Epoch 45/120\n",
      "676641/676641 [==============================] - 33s 49us/step - loss: 1.2110 - binary_accuracy: 0.6970 - categorical_accuracy: 0.2127 - val_loss: 1.2052 - val_binary_accuracy: 0.6984 - val_categorical_accuracy: 0.2108\n",
      "Epoch 46/120\n",
      "676641/676641 [==============================] - 33s 49us/step - loss: 1.2119 - binary_accuracy: 0.6967 - categorical_accuracy: 0.2194 - val_loss: 1.2062 - val_binary_accuracy: 0.6982 - val_categorical_accuracy: 0.2162\n",
      "Epoch 47/120\n",
      "676641/676641 [==============================] - 34s 50us/step - loss: 1.2137 - binary_accuracy: 0.6963 - categorical_accuracy: 0.2090 - val_loss: 1.2063 - val_binary_accuracy: 0.6982 - val_categorical_accuracy: 0.2276\n",
      "Epoch 48/120\n",
      "676641/676641 [==============================] - 33s 49us/step - loss: 1.2148 - binary_accuracy: 0.6960 - categorical_accuracy: 0.2161 - val_loss: 1.2067 - val_binary_accuracy: 0.6981 - val_categorical_accuracy: 0.2119\n",
      "Epoch 49/120\n",
      "676641/676641 [==============================] - 35s 52us/step - loss: 1.2105 - binary_accuracy: 0.6971 - categorical_accuracy: 0.2218 - val_loss: 1.2059 - val_binary_accuracy: 0.6983 - val_categorical_accuracy: 0.2307\n",
      "Epoch 50/120\n",
      "676641/676641 [==============================] - 52s 76us/step - loss: 1.2093 - binary_accuracy: 0.6974 - categorical_accuracy: 0.2261 - val_loss: 1.2043 - val_binary_accuracy: 0.6986 - val_categorical_accuracy: 0.2305\n",
      "Epoch 51/120\n",
      "676641/676641 [==============================] - 43s 63us/step - loss: 1.2111 - binary_accuracy: 0.6970 - categorical_accuracy: 0.2318 - val_loss: 1.2047 - val_binary_accuracy: 0.6985 - val_categorical_accuracy: 0.2215\n",
      "Epoch 52/120\n",
      "676641/676641 [==============================] - 42s 62us/step - loss: 1.2100 - binary_accuracy: 0.6972 - categorical_accuracy: 0.2222 - val_loss: 1.2023 - val_binary_accuracy: 0.6992 - val_categorical_accuracy: 0.2347\n",
      "Epoch 53/120\n",
      "676641/676641 [==============================] - 56s 83us/step - loss: 1.2104 - binary_accuracy: 0.6971 - categorical_accuracy: 0.2295 - val_loss: 1.2090 - val_binary_accuracy: 0.6975 - val_categorical_accuracy: 0.2165\n",
      "Epoch 54/120\n",
      "676641/676641 [==============================] - 49s 73us/step - loss: 1.2132 - binary_accuracy: 0.6964 - categorical_accuracy: 0.2172 - val_loss: 1.2078 - val_binary_accuracy: 0.6978 - val_categorical_accuracy: 0.2305\n",
      "Epoch 55/120\n",
      "676641/676641 [==============================] - 47s 70us/step - loss: 1.2104 - binary_accuracy: 0.6971 - categorical_accuracy: 0.2288 - val_loss: 1.2008 - val_binary_accuracy: 0.6995 - val_categorical_accuracy: 0.2245\n",
      "Epoch 56/120\n",
      "676641/676641 [==============================] - 48s 71us/step - loss: 1.2071 - binary_accuracy: 0.6980 - categorical_accuracy: 0.2344 - val_loss: 1.1998 - val_binary_accuracy: 0.6998 - val_categorical_accuracy: 0.2342\n",
      "Epoch 57/120\n",
      "676641/676641 [==============================] - 45s 66us/step - loss: 1.2074 - binary_accuracy: 0.6979 - categorical_accuracy: 0.2224 - val_loss: 1.2013 - val_binary_accuracy: 0.6994 - val_categorical_accuracy: 0.2245\n",
      "Epoch 58/120\n",
      "676641/676641 [==============================] - 44s 65us/step - loss: 1.2079 - binary_accuracy: 0.6978 - categorical_accuracy: 0.2297 - val_loss: 1.2012 - val_binary_accuracy: 0.6994 - val_categorical_accuracy: 0.2292\n",
      "Epoch 59/120\n",
      "676641/676641 [==============================] - 45s 66us/step - loss: 1.2071 - binary_accuracy: 0.6980 - categorical_accuracy: 0.2356 - val_loss: 1.2062 - val_binary_accuracy: 0.6982 - val_categorical_accuracy: 0.2520\n",
      "Epoch 60/120\n",
      "676641/676641 [==============================] - 45s 67us/step - loss: 1.2080 - binary_accuracy: 0.6977 - categorical_accuracy: 0.2369 - val_loss: 1.2014 - val_binary_accuracy: 0.6994 - val_categorical_accuracy: 0.2516\n",
      "Epoch 61/120\n",
      "676641/676641 [==============================] - 46s 68us/step - loss: 1.2072 - binary_accuracy: 0.6979 - categorical_accuracy: 0.2455 - val_loss: 1.2026 - val_binary_accuracy: 0.6991 - val_categorical_accuracy: 0.2478\n",
      "Epoch 62/120\n",
      "676641/676641 [==============================] - 47s 70us/step - loss: 1.2070 - binary_accuracy: 0.6980 - categorical_accuracy: 0.2467 - val_loss: 1.2016 - val_binary_accuracy: 0.6994 - val_categorical_accuracy: 0.2420\n",
      "Epoch 63/120\n",
      "676641/676641 [==============================] - 44s 66us/step - loss: 1.2058 - binary_accuracy: 0.6983 - categorical_accuracy: 0.2458 - val_loss: 1.1972 - val_binary_accuracy: 0.7004 - val_categorical_accuracy: 0.2526\n",
      "Epoch 64/120\n",
      "676641/676641 [==============================] - 46s 68us/step - loss: 1.2064 - binary_accuracy: 0.6981 - categorical_accuracy: 0.2454 - val_loss: 1.1983 - val_binary_accuracy: 0.7002 - val_categorical_accuracy: 0.2594\n",
      "Epoch 65/120\n",
      "676641/676641 [==============================] - 45s 67us/step - loss: 1.2002 - binary_accuracy: 0.6997 - categorical_accuracy: 0.2489 - val_loss: 1.1931 - val_binary_accuracy: 0.7015 - val_categorical_accuracy: 0.2556\n",
      "Epoch 66/120\n",
      "676641/676641 [==============================] - 45s 67us/step - loss: 1.2007 - binary_accuracy: 0.6996 - categorical_accuracy: 0.2539 - val_loss: 1.1963 - val_binary_accuracy: 0.7007 - val_categorical_accuracy: 0.2530\n",
      "Epoch 67/120\n",
      "676641/676641 [==============================] - 45s 67us/step - loss: 1.2037 - binary_accuracy: 0.6988 - categorical_accuracy: 0.2566 - val_loss: 1.1956 - val_binary_accuracy: 0.7008 - val_categorical_accuracy: 0.2613\n",
      "Epoch 68/120\n",
      "676641/676641 [==============================] - 45s 67us/step - loss: 1.2004 - binary_accuracy: 0.6996 - categorical_accuracy: 0.2649 - val_loss: 1.1874 - val_binary_accuracy: 0.7029 - val_categorical_accuracy: 0.2596\n",
      "Epoch 69/120\n",
      "676641/676641 [==============================] - 46s 67us/step - loss: 1.1999 - binary_accuracy: 0.6998 - categorical_accuracy: 0.2559 - val_loss: 1.1905 - val_binary_accuracy: 0.7021 - val_categorical_accuracy: 0.2565\n",
      "Epoch 70/120\n",
      "676641/676641 [==============================] - 45s 67us/step - loss: 1.2002 - binary_accuracy: 0.6997 - categorical_accuracy: 0.2613 - val_loss: 1.1930 - val_binary_accuracy: 0.7015 - val_categorical_accuracy: 0.2755\n",
      "Epoch 71/120\n",
      "676641/676641 [==============================] - 44s 65us/step - loss: 1.1991 - binary_accuracy: 0.7000 - categorical_accuracy: 0.2663 - val_loss: 1.1904 - val_binary_accuracy: 0.7021 - val_categorical_accuracy: 0.2815\n",
      "Epoch 72/120\n",
      "676641/676641 [==============================] - 44s 66us/step - loss: 1.1958 - binary_accuracy: 0.7008 - categorical_accuracy: 0.2716 - val_loss: 1.1879 - val_binary_accuracy: 0.7028 - val_categorical_accuracy: 0.2787\n",
      "Epoch 73/120\n",
      "676641/676641 [==============================] - 59s 87us/step - loss: 1.1963 - binary_accuracy: 0.7007 - categorical_accuracy: 0.2784 - val_loss: 1.1888 - val_binary_accuracy: 0.7025 - val_categorical_accuracy: 0.2972\n",
      "Epoch 74/120\n",
      "676641/676641 [==============================] - 54s 80us/step - loss: 1.1962 - binary_accuracy: 0.7007 - categorical_accuracy: 0.2875 - val_loss: 1.1901 - val_binary_accuracy: 0.7022 - val_categorical_accuracy: 0.2850\n",
      "Epoch 75/120\n",
      "676641/676641 [==============================] - 48s 70us/step - loss: 1.1947 - binary_accuracy: 0.7011 - categorical_accuracy: 0.2856 - val_loss: 1.1950 - val_binary_accuracy: 0.7010 - val_categorical_accuracy: 0.2937\n",
      "Epoch 76/120\n",
      "676641/676641 [==============================] - 44s 65us/step - loss: 1.1981 - binary_accuracy: 0.7002 - categorical_accuracy: 0.2823 - val_loss: 1.1951 - val_binary_accuracy: 0.7010 - val_categorical_accuracy: 0.2727\n",
      "Epoch 77/120\n",
      "676641/676641 [==============================] - 43s 63us/step - loss: 1.1954 - binary_accuracy: 0.7009 - categorical_accuracy: 0.2855 - val_loss: 1.1841 - val_binary_accuracy: 0.7037 - val_categorical_accuracy: 0.2887\n",
      "Epoch 78/120\n",
      "676641/676641 [==============================] - 47s 70us/step - loss: 1.1931 - binary_accuracy: 0.7015 - categorical_accuracy: 0.2886 - val_loss: 1.1932 - val_binary_accuracy: 0.7014 - val_categorical_accuracy: 0.2959\n",
      "Epoch 79/120\n",
      "676641/676641 [==============================] - 44s 65us/step - loss: 1.1945 - binary_accuracy: 0.7011 - categorical_accuracy: 0.2945 - val_loss: 1.1877 - val_binary_accuracy: 0.7028 - val_categorical_accuracy: 0.3055\n",
      "Epoch 80/120\n",
      "676641/676641 [==============================] - 44s 64us/step - loss: 1.1938 - binary_accuracy: 0.7013 - categorical_accuracy: 0.2980 - val_loss: 1.1843 - val_binary_accuracy: 0.7037 - val_categorical_accuracy: 0.2963\n",
      "Epoch 81/120\n",
      "676641/676641 [==============================] - 44s 66us/step - loss: 1.1926 - binary_accuracy: 0.7016 - categorical_accuracy: 0.2959 - val_loss: 1.1854 - val_binary_accuracy: 0.7034 - val_categorical_accuracy: 0.3021\n",
      "Epoch 82/120\n",
      "676641/676641 [==============================] - 45s 67us/step - loss: 1.1918 - binary_accuracy: 0.7018 - categorical_accuracy: 0.2972 - val_loss: 1.1873 - val_binary_accuracy: 0.7029 - val_categorical_accuracy: 0.2856\n",
      "Epoch 83/120\n",
      "676641/676641 [==============================] - 47s 70us/step - loss: 1.1941 - binary_accuracy: 0.7012 - categorical_accuracy: 0.2983 - val_loss: 1.1843 - val_binary_accuracy: 0.7037 - val_categorical_accuracy: 0.3062\n",
      "Epoch 84/120\n",
      "676641/676641 [==============================] - 45s 66us/step - loss: 1.1949 - binary_accuracy: 0.7010 - categorical_accuracy: 0.3031 - val_loss: 1.1864 - val_binary_accuracy: 0.7031 - val_categorical_accuracy: 0.3029\n",
      "Epoch 85/120\n",
      "676641/676641 [==============================] - 44s 65us/step - loss: 1.1915 - binary_accuracy: 0.7019 - categorical_accuracy: 0.3028 - val_loss: 1.1851 - val_binary_accuracy: 0.7035 - val_categorical_accuracy: 0.3154\n",
      "Epoch 86/120\n",
      "676641/676641 [==============================] - 44s 65us/step - loss: 1.1955 - binary_accuracy: 0.7009 - categorical_accuracy: 0.3072 - val_loss: 1.1835 - val_binary_accuracy: 0.7039 - val_categorical_accuracy: 0.2985\n",
      "Epoch 87/120\n",
      "676641/676641 [==============================] - 37s 54us/step - loss: 1.1903 - binary_accuracy: 0.7021 - categorical_accuracy: 0.3037 - val_loss: 1.1860 - val_binary_accuracy: 0.7033 - val_categorical_accuracy: 0.2877\n",
      "Epoch 88/120\n",
      "676641/676641 [==============================] - 33s 49us/step - loss: 1.1928 - binary_accuracy: 0.7015 - categorical_accuracy: 0.2773 - val_loss: 1.1848 - val_binary_accuracy: 0.7035 - val_categorical_accuracy: 0.2795\n",
      "Epoch 89/120\n",
      "676641/676641 [==============================] - 34s 50us/step - loss: 1.1914 - binary_accuracy: 0.7019 - categorical_accuracy: 0.2995 - val_loss: 1.1834 - val_binary_accuracy: 0.7039 - val_categorical_accuracy: 0.3008\n",
      "Epoch 90/120\n",
      "676641/676641 [==============================] - 33s 49us/step - loss: 1.1909 - binary_accuracy: 0.7020 - categorical_accuracy: 0.3037 - val_loss: 1.1774 - val_binary_accuracy: 0.7054 - val_categorical_accuracy: 0.3124\n",
      "Epoch 91/120\n",
      "676641/676641 [==============================] - 33s 49us/step - loss: 1.1885 - binary_accuracy: 0.7026 - categorical_accuracy: 0.3041 - val_loss: 1.1811 - val_binary_accuracy: 0.7045 - val_categorical_accuracy: 0.3196\n",
      "Epoch 92/120\n",
      "676641/676641 [==============================] - 33s 49us/step - loss: 1.1868 - binary_accuracy: 0.7030 - categorical_accuracy: 0.3093 - val_loss: 1.1794 - val_binary_accuracy: 0.7049 - val_categorical_accuracy: 0.3158\n",
      "Epoch 93/120\n",
      "676641/676641 [==============================] - 33s 49us/step - loss: 1.1870 - binary_accuracy: 0.7030 - categorical_accuracy: 0.3070 - val_loss: 1.1776 - val_binary_accuracy: 0.7053 - val_categorical_accuracy: 0.3135\n",
      "Epoch 94/120\n",
      "676641/676641 [==============================] - 33s 49us/step - loss: 1.1847 - binary_accuracy: 0.7036 - categorical_accuracy: 0.3103 - val_loss: 1.1769 - val_binary_accuracy: 0.7055 - val_categorical_accuracy: 0.3103\n",
      "Epoch 95/120\n",
      "676641/676641 [==============================] - 33s 49us/step - loss: 1.1829 - binary_accuracy: 0.7040 - categorical_accuracy: 0.3116 - val_loss: 1.1745 - val_binary_accuracy: 0.7061 - val_categorical_accuracy: 0.3233\n",
      "Epoch 96/120\n",
      "676641/676641 [==============================] - 34s 50us/step - loss: 1.1835 - binary_accuracy: 0.7038 - categorical_accuracy: 0.3189 - val_loss: 1.1797 - val_binary_accuracy: 0.7048 - val_categorical_accuracy: 0.3240\n",
      "Epoch 97/120\n",
      "676641/676641 [==============================] - 33s 49us/step - loss: 1.1863 - binary_accuracy: 0.7031 - categorical_accuracy: 0.3190 - val_loss: 1.1794 - val_binary_accuracy: 0.7049 - val_categorical_accuracy: 0.3159\n",
      "Epoch 98/120\n",
      "676641/676641 [==============================] - 33s 49us/step - loss: 1.1830 - binary_accuracy: 0.7040 - categorical_accuracy: 0.3178 - val_loss: 1.1739 - val_binary_accuracy: 0.7063 - val_categorical_accuracy: 0.3188\n",
      "Epoch 99/120\n",
      "676641/676641 [==============================] - 33s 49us/step - loss: 1.1820 - binary_accuracy: 0.7042 - categorical_accuracy: 0.3152 - val_loss: 1.1725 - val_binary_accuracy: 0.7066 - val_categorical_accuracy: 0.3268\n",
      "Epoch 100/120\n",
      "676641/676641 [==============================] - 34s 50us/step - loss: 1.1833 - binary_accuracy: 0.7039 - categorical_accuracy: 0.3200 - val_loss: 1.1729 - val_binary_accuracy: 0.7065 - val_categorical_accuracy: 0.3291\n",
      "Epoch 101/120\n",
      "676641/676641 [==============================] - 33s 49us/step - loss: 1.1815 - binary_accuracy: 0.7043 - categorical_accuracy: 0.3163 - val_loss: 1.1740 - val_binary_accuracy: 0.7062 - val_categorical_accuracy: 0.3323\n",
      "Epoch 102/120\n",
      "676641/676641 [==============================] - 34s 50us/step - loss: 1.1813 - binary_accuracy: 0.7044 - categorical_accuracy: 0.3160 - val_loss: 1.1806 - val_binary_accuracy: 0.7046 - val_categorical_accuracy: 0.3260\n",
      "Epoch 103/120\n",
      "676641/676641 [==============================] - 34s 50us/step - loss: 1.1826 - binary_accuracy: 0.7041 - categorical_accuracy: 0.3148 - val_loss: 1.1720 - val_binary_accuracy: 0.7067 - val_categorical_accuracy: 0.3256\n",
      "Epoch 104/120\n",
      "676641/676641 [==============================] - 33s 49us/step - loss: 1.1796 - binary_accuracy: 0.7048 - categorical_accuracy: 0.3219 - val_loss: 1.1756 - val_binary_accuracy: 0.7058 - val_categorical_accuracy: 0.3224\n",
      "Epoch 105/120\n",
      "676641/676641 [==============================] - 33s 49us/step - loss: 1.1810 - binary_accuracy: 0.7045 - categorical_accuracy: 0.3192 - val_loss: 1.1748 - val_binary_accuracy: 0.7060 - val_categorical_accuracy: 0.3081\n",
      "Epoch 106/120\n"
     ]
    },
    {
     "name": "stdout",
     "output_type": "stream",
     "text": [
      "676641/676641 [==============================] - 33s 49us/step - loss: 1.1795 - binary_accuracy: 0.7048 - categorical_accuracy: 0.3183 - val_loss: 1.1736 - val_binary_accuracy: 0.7063 - val_categorical_accuracy: 0.3216\n",
      "Epoch 107/120\n",
      "676641/676641 [==============================] - 33s 49us/step - loss: 1.1798 - binary_accuracy: 0.7047 - categorical_accuracy: 0.3198 - val_loss: 1.1682 - val_binary_accuracy: 0.7076 - val_categorical_accuracy: 0.3269\n",
      "Epoch 108/120\n",
      "676641/676641 [==============================] - 33s 49us/step - loss: 1.1774 - binary_accuracy: 0.7054 - categorical_accuracy: 0.3180 - val_loss: 1.1723 - val_binary_accuracy: 0.7066 - val_categorical_accuracy: 0.3276\n",
      "Epoch 109/120\n",
      "676641/676641 [==============================] - 34s 50us/step - loss: 1.1794 - binary_accuracy: 0.7048 - categorical_accuracy: 0.3179 - val_loss: 1.1754 - val_binary_accuracy: 0.7059 - val_categorical_accuracy: 0.3199\n",
      "Epoch 110/120\n",
      "676641/676641 [==============================] - 34s 50us/step - loss: 1.1789 - binary_accuracy: 0.7050 - categorical_accuracy: 0.3220 - val_loss: 1.1732 - val_binary_accuracy: 0.7064 - val_categorical_accuracy: 0.3304\n",
      "Epoch 111/120\n",
      "676641/676641 [==============================] - 33s 49us/step - loss: 1.1769 - binary_accuracy: 0.7055 - categorical_accuracy: 0.3184 - val_loss: 1.1680 - val_binary_accuracy: 0.7077 - val_categorical_accuracy: 0.3233\n",
      "Epoch 112/120\n",
      "676641/676641 [==============================] - 33s 49us/step - loss: 1.1747 - binary_accuracy: 0.7060 - categorical_accuracy: 0.3229 - val_loss: 1.1686 - val_binary_accuracy: 0.7075 - val_categorical_accuracy: 0.3271\n",
      "Epoch 113/120\n",
      "676641/676641 [==============================] - 33s 49us/step - loss: 1.1755 - binary_accuracy: 0.7058 - categorical_accuracy: 0.3247 - val_loss: 1.1711 - val_binary_accuracy: 0.7069 - val_categorical_accuracy: 0.3350\n",
      "Epoch 114/120\n",
      "676641/676641 [==============================] - 34s 50us/step - loss: 1.1773 - binary_accuracy: 0.7054 - categorical_accuracy: 0.3215 - val_loss: 1.1703 - val_binary_accuracy: 0.7071 - val_categorical_accuracy: 0.3334\n",
      "Epoch 115/120\n",
      "676641/676641 [==============================] - 33s 49us/step - loss: 1.1765 - binary_accuracy: 0.7056 - categorical_accuracy: 0.3221 - val_loss: 1.1713 - val_binary_accuracy: 0.7069 - val_categorical_accuracy: 0.3223\n",
      "Epoch 116/120\n",
      "676641/676641 [==============================] - 33s 49us/step - loss: 1.1763 - binary_accuracy: 0.7056 - categorical_accuracy: 0.3144 - val_loss: 1.1676 - val_binary_accuracy: 0.7078 - val_categorical_accuracy: 0.3317\n",
      "Epoch 117/120\n",
      "676641/676641 [==============================] - 33s 49us/step - loss: 1.1747 - binary_accuracy: 0.7060 - categorical_accuracy: 0.3261 - val_loss: 1.1685 - val_binary_accuracy: 0.7076 - val_categorical_accuracy: 0.3297\n",
      "Epoch 118/120\n",
      "676641/676641 [==============================] - 34s 50us/step - loss: 1.1742 - binary_accuracy: 0.7061 - categorical_accuracy: 0.3234 - val_loss: 1.1656 - val_binary_accuracy: 0.7083 - val_categorical_accuracy: 0.3306\n",
      "Epoch 119/120\n",
      "676641/676641 [==============================] - 33s 49us/step - loss: 1.1737 - binary_accuracy: 0.7062 - categorical_accuracy: 0.3252 - val_loss: 1.1658 - val_binary_accuracy: 0.7082 - val_categorical_accuracy: 0.3268\n",
      "Epoch 120/120\n",
      "676641/676641 [==============================] - 33s 49us/step - loss: 1.1730 - binary_accuracy: 0.7064 - categorical_accuracy: 0.3208 - val_loss: 1.1724 - val_binary_accuracy: 0.7066 - val_categorical_accuracy: 0.3309\n"
     ]
    }
   ],
   "source": [
    "if doTrain:\n",
    "    model,nparray_accuracyBinary_Train,nparray_accuracyBinary_Test,nparray_accuracyCategorical_Train,nparray_accuracyCategorical_Test,nparray_loss_Train,nparray_loss_Test=train_model(model,modelName=modelName,numberOfEpochs=numberOfEpochs,batchSize=batchSize)"
   ]
  },
  {
   "cell_type": "code",
   "execution_count": 16,
   "metadata": {},
   "outputs": [],
   "source": [
    "def load_model(model,modelName,numberOfEpochs,batchSize):\n",
    "    print(\"*** Start load_model for modeName\",modelName,\"***\")\n",
    "    # load the loss, accuracies, weights + biases of the trained model to a file\n",
    "    \n",
    "    # create the name stem, specific for this training\n",
    "    outputFileNameStem=\"NN_3_\"+modelName+\"_\"+str(numberOfEpochs)+\"_\"+str(batchSize)\n",
    "    \n",
    "    # create the file name for the weights and biases\n",
    "    outputFileNameWeights=outputFolder+\"/\"+outputFileNameStem+\"_weights.hdf5\"\n",
    "    \n",
    "    # load the weights and biases\n",
    "    model.load_weights(outputFileNameWeights)\n",
    "\n",
    "    # ready to return\n",
    "    return model\n",
    "# done function"
   ]
  },
  {
   "cell_type": "code",
   "execution_count": 17,
   "metadata": {},
   "outputs": [
    {
     "name": "stdout",
     "output_type": "stream",
     "text": [
      "*** Start load_model for modeName ModelAdam001_min0_AllEvents ***\n"
     ]
    }
   ],
   "source": [
    "if doLoadModel:\n",
    "    model=load_model(model,modelName,numberOfEpochs,batchSize)"
   ]
  },
  {
   "cell_type": "code",
   "execution_count": 18,
   "metadata": {},
   "outputs": [],
   "source": [
    "def load_metrics(modelName,numberOfEpochs,batchSize):\n",
    "    print(\"*** Start load_metrics for modeName\",modelName,\"***\")\n",
    "    # load the loss, accuracies, weights + biases of the trained model to a file\n",
    "    \n",
    "    # create the name stem, specific for this training\n",
    "    outputFileNameStem=\"NN_3_\"+modelName+\"_\"+str(numberOfEpochs)+\"_\"+str(batchSize)\n",
    "    \n",
    "    # create the file names for accuracy and loss, train and test\n",
    "    outputFileNameAccuracyBinaryTrain=outputFolder+\"/\"+outputFileNameStem+\"_accuracyBinary_Train.npy\"\n",
    "    outputFileNameAccuracyCategoricalTrain=outputFolder+\"/\"+outputFileNameStem+\"_accuracyCategorical_Train.npy\"\n",
    "    outputFileNameAccuracyBinaryTest=outputFolder+\"/\"+outputFileNameStem+\"_accuracyBinary_Test.npy\"\n",
    "    outputFileNameAccuracyCategoricalTest=outputFolder+\"/\"+outputFileNameStem+\"_accuracyCategorical_Test.npy\"\n",
    "    outputFileNameLossTrain=outputFolder+\"/\"+outputFileNameStem+\"_loss_Train.npy\"\n",
    "    outputFileNameLossTest=outputFolder+\"/\"+outputFileNameStem+\"_loss_Test.npy\"\n",
    "    \n",
    "    # retrieve from it the accuracy, loss, train, test\n",
    "    nparray_accuracyBinary_Train=np.load(outputFileNameAccuracyBinaryTrain)\n",
    "    nparray_accuracyBinary_Test=np.load(outputFileNameAccuracyBinaryTest)\n",
    "    nparray_accuracyCategorical_Train=np.load(outputFileNameAccuracyCategoricalTrain)\n",
    "    nparray_accuracyCategorical_Test=np.load(outputFileNameAccuracyCategoricalTest)\n",
    "    nparray_loss_Train=np.load(outputFileNameLossTrain)\n",
    "    nparray_loss_Test=np.load(outputFileNameLossTest)\n",
    "\n",
    "    # ready to return\n",
    "    return (nparray_accuracyBinary_Train,nparray_accuracyBinary_Test,nparray_accuracyCategorical_Train,nparray_accuracyCategorical_Test,nparray_loss_Train,nparray_loss_Test)\n",
    "# done function"
   ]
  },
  {
   "cell_type": "code",
   "execution_count": 19,
   "metadata": {},
   "outputs": [
    {
     "name": "stdout",
     "output_type": "stream",
     "text": [
      "*** Start load_metrics for modeName ModelAdam001_min0_AllEvents ***\n"
     ]
    }
   ],
   "source": [
    "if doLoadMetrics:\n",
    "    nparray_accuracyBinary_Train,nparray_accuracyBinary_Test,nparray_accuracyCategorical_Train,nparray_accuracyCategorical_Test,nparray_loss_Train,nparray_loss_Test=load_metrics(modelName=modelName,numberOfEpochs=numberOfEpochs,batchSize=batchSize)"
   ]
  },
  {
   "cell_type": "code",
   "execution_count": 20,
   "metadata": {},
   "outputs": [],
   "source": [
    "# overlay accuracy train and test\n",
    "def plot_accuracy_Train_vs_Test(nparray_accuracyBinary_Train,nparray_accuracyBinary_Test,nparray_accuracyCategorical_Train,nparray_accuracyCategorical_Test,modelName):\n",
    "    plt.plot(nparray_accuracyBinary_Train)\n",
    "    plt.plot(nparray_accuracyBinary_Test)\n",
    "    #plt.plot(nparray_accuracyCategorical_Train)\n",
    "    #plt.plot(nparray_accuracyCategorical_Test)\n",
    "    plt.title('Model_'+modelName+' accuracy')\n",
    "    plt.ylabel('Accuracy')\n",
    "    plt.xlabel('Epoch')\n",
    "    #plt.xlim(left=0,right=10)\n",
    "    # plt.ylim(bottom=0,top=0.8)\n",
    "    #plt.ylim(bottom=0.75,top=0.80)\n",
    "    plt.legend(['Binary Train', 'Binary Test','Categorical Train', 'Categorical Test'], loc='best')\n",
    "    # plt.show()\n",
    "    outputFileNameStem=\"NN_5_\"+modelName+\"_\"+str(numberOfEpochs)+\"_\"+str(batchSize)\n",
    "    plt.savefig(outputFolder+\"/\"+outputFileNameStem+\"_graph_accuracy.png\")\n",
    "# done function"
   ]
  },
  {
   "cell_type": "code",
   "execution_count": 21,
   "metadata": {},
   "outputs": [
    {
     "data": {
      "image/png": "[encoded data removed]",
      "text/plain": [
       "<Figure size 432x288 with 1 Axes>"
      ]
     },
     "metadata": {
      "needs_background": "light"
     },
     "output_type": "display_data"
    }
   ],
   "source": [
    "if doPlotMetrics:\n",
    "    plot_accuracy_Train_vs_Test(nparray_accuracyBinary_Train,nparray_accuracyBinary_Test,nparray_accuracyCategorical_Train,nparray_accuracyCategorical_Test,\"model\")"
   ]
  },
  {
   "cell_type": "code",
   "execution_count": 22,
   "metadata": {},
   "outputs": [],
   "source": [
    "# overlay loss train and test\n",
    "def plot_loss_Train_vs_Test(nparray_loss_Train,nparray_loss_Test,modelName):\n",
    "    plt.plot(nparray_loss_Train)\n",
    "    plt.plot(nparray_loss_Test)\n",
    "    plt.title('Model_'+modelName+' loss')\n",
    "    plt.ylabel('Loss')\n",
    "    plt.xlabel('Epoch')\n",
    "    plt.legend(['Train','Test'],loc=\"upper left\")\n",
    "    #plt.show()\n",
    "    outputFileNameStem=\"NN_5_\"+modelName+\"_\"+str(numberOfEpochs)+\"_\"+str(batchSize)\n",
    "    plt.savefig(outputFolder+\"/\"+outputFileNameStem+\"_graph_loss.png\")\n",
    "# done function"
   ]
  },
  {
   "cell_type": "code",
   "execution_count": 23,
   "metadata": {},
   "outputs": [
    {
     "data": {
      "image/png": "[encoded data removed]",
      "text/plain": [
       "<Figure size 432x288 with 1 Axes>"
      ]
     },
     "metadata": {
      "needs_background": "light"
     },
     "output_type": "display_data"
    }
   ],
   "source": [
    "if doPlotMetrics:\n",
    "    plot_loss_Train_vs_Test(nparray_loss_Train,nparray_loss_Test,\"model\")"
   ]
  },
  {
   "cell_type": "code",
   "execution_count": 24,
   "metadata": {},
   "outputs": [],
   "source": [
    "def predict_from_model(model,nparray_Input_Train,nparray_Input_Test,nparray_Output_Train,nparray_Output_Test):\n",
    "    outputFileNameStem=\"NN_4_\"+modelName+\"_\"+str(numberOfEpochs)+\"_\"+str(batchSize)\n",
    "    \n",
    "    # Train\n",
    "    nparray_PredictedOutput_Train=model.predict(nparray_Input_Train)\n",
    "    p(\"PredictedOutput_Train\",nparray_PredictedOutput_Train)\n",
    "    p(\"Output_Train\",nparray_Output_Train)\n",
    "    nparray_Diff_Train=nparray_PredictedOutput_Train-nparray_Output_Train\n",
    "    p(\"Diff_Train\",nparray_Diff_Train)\n",
    "    # save numpy arrays to npy files\n",
    "    outputFileNamePredictedOutput_Train=outputFolder+\"/\"+outputFileNameStem+\"_PredictedOutput_Train.npy\"\n",
    "    np.save(outputFileNamePredictedOutput_Train,nparray_PredictedOutput_Train)\n",
    "    outputFileNameDiff_Train=outputFolder+\"/\"+outputFileNameStem+\"_Diff_Train.npy\"\n",
    "    np.save(outputFileNameDiff_Train,nparray_Diff_Train)\n",
    "    \n",
    "    # Test\n",
    "    nparray_PredictedOutput_Test=model.predict(nparray_Input_Test)\n",
    "    p(\"PredictedOutput_Test\",nparray_PredictedOutput_Test)\n",
    "    p(\"Output_Test\",nparray_Output_Test)\n",
    "    nparray_Diff_Test=nparray_PredictedOutput_Test-nparray_Output_Test\n",
    "    p(\"Diff_Test\",nparray_Diff_Test)\n",
    "    # save numpy arrays to npy files\n",
    "    outputFileNamePredictedOutput_Test=outputFolder+\"/\"+outputFileNameStem+\"_PredictedOutput_Test.npy\"\n",
    "    np.save(outputFileNamePredictedOutput_Test,nparray_PredictedOutput_Test)\n",
    "    outputFileNameDiff_Test=outputFolder+\"/\"+outputFileNameStem+\"_Diff_Test.npy\"\n",
    "    np.save(outputFileNameDiff_Test,nparray_Diff_Test)\n",
    "    \n",
    "# done function    "
   ]
  },
  {
   "cell_type": "code",
   "execution_count": 25,
   "metadata": {},
   "outputs": [
    {
     "name": "stdout",
     "output_type": "stream",
     "text": [
      "Start PredictedOutput_Train\n",
      "[[-1. -1. -1. ... -1. -1. -1.]\n",
      " [-1.  1. -1. ... -1. -1. -1.]\n",
      " [-1.  1. -1. ... -1. -1. -1.]\n",
      " ...\n",
      " [-1.  1. -1. ... -1. -1. -1.]\n",
      " [-1.  1. -1. ... -1. -1. -1.]\n",
      " [-1. -1. -1. ... -1. -1. -1.]]\n",
      "End PredictedOutput_Train shape (676641, 20) type <class 'numpy.ndarray'> dtype float32\n",
      "Start Output_Train\n",
      "[[-1  1 -1 ... -1 -1 -1]\n",
      " [ 1 -1 -1 ... -1 -1 -1]\n",
      " [-1 -1 -1 ... -1 -1 -1]\n",
      " ...\n",
      " [ 1  1  1 ... -1 -1 -1]\n",
      " [ 1  1  1 ... -1 -1 -1]\n",
      " [-1 -1 -1 ... -1 -1  1]]\n",
      "End Output_Train shape (676641, 20) type <class 'numpy.ndarray'> dtype int64\n",
      "Start Diff_Train\n",
      "[[ 0. -2.  0. ...  0.  0.  0.]\n",
      " [-2.  2.  0. ...  0.  0.  0.]\n",
      " [ 0.  2.  0. ...  0.  0.  0.]\n",
      " ...\n",
      " [-2.  0. -2. ...  0.  0.  0.]\n",
      " [-2.  0. -2. ...  0.  0.  0.]\n",
      " [ 0.  0.  0. ...  0.  0. -2.]]\n",
      "End Diff_Train shape (676641, 20) type <class 'numpy.ndarray'> dtype float64\n",
      "Start PredictedOutput_Test\n",
      "[[-1.  1. -1. ... -1. -1. -1.]\n",
      " [-1.  1. -1. ... -1. -1. -1.]\n",
      " [-1. -1. -1. ... -1. -1. -1.]\n",
      " ...\n",
      " [-1.  1. -1. ... -1. -1. -1.]\n",
      " [-1.  1. -1. ... -1. -1. -1.]\n",
      " [-1.  1. -1. ... -1. -1. -1.]]\n",
      "End PredictedOutput_Test shape (280483, 20) type <class 'numpy.ndarray'> dtype float32\n",
      "Start Output_Test\n",
      "[[-1 -1 -1 ...  1 -1 -1]\n",
      " [-1 -1 -1 ...  1  1 -1]\n",
      " [ 1  1  1 ... -1  1 -1]\n",
      " ...\n",
      " [ 1  1  1 ... -1 -1 -1]\n",
      " [ 1  1  1 ... -1 -1 -1]\n",
      " [-1 -1 -1 ... -1 -1 -1]]\n",
      "End Output_Test shape (280483, 20) type <class 'numpy.ndarray'> dtype int64\n",
      "Start Diff_Test\n",
      "[[ 0.  2.  0. ... -2.  0.  0.]\n",
      " [ 0.  2.  0. ... -2. -2.  0.]\n",
      " [-2. -2. -2. ...  0. -2.  0.]\n",
      " ...\n",
      " [-2.  0. -2. ...  0.  0.  0.]\n",
      " [-2.  0. -2. ...  0.  0.  0.]\n",
      " [ 0.  2.  0. ...  0.  0.  0.]]\n",
      "End Diff_Test shape (280483, 20) type <class 'numpy.ndarray'> dtype float64\n"
     ]
    }
   ],
   "source": [
    "if doPredict:\n",
    "    predict_from_model(model,nparray_Input_Train,nparray_Input_Test,nparray_Output_Train,nparray_Output_Test)"
   ]
  },
  {
   "cell_type": "code",
   "execution_count": 26,
   "metadata": {},
   "outputs": [],
   "source": [
    "def load_predicted():\n",
    "    outputFileNameStem=\"NN_4_\"+modelName+\"_\"+str(numberOfEpochs)+\"_\"+str(batchSize)\n",
    "    \n",
    "    # Train\n",
    "    outputFileNamePredictedOutput_Train=outputFolder+\"/\"+outputFileNameStem+\"_PredictedOutput_Train.npy\"\n",
    "    nparray_PredictedOutput_Train=np.load(outputFileNamePredictedOutput_Train)\n",
    "    outputFileNameDiff_Train=outputFolder+\"/\"+outputFileNameStem+\"_Diff_Train.npy\"\n",
    "    nparray_Diff_Train=np.load(outputFileNameDiff_Train)\n",
    "    \n",
    "    # Test\n",
    "    outputFileNamePredictedOutput_Test=outputFolder+\"/\"+outputFileNameStem+\"_PredictedOutput_Test.npy\"\n",
    "    nparray_PredictedOutput_Test=np.load(outputFileNamePredictedOutput_Test)\n",
    "    outputFileNameDiff_Test=outputFolder+\"/\"+outputFileNameStem+\"_Diff_Test.npy\"\n",
    "    nparray_Diff_Test=np.load(outputFileNameDiff_Test)\n",
    "    \n",
    "    return nparray_PredictedOutput_Train, nparray_Diff_Train, nparray_PredictedOutput_Test, nparray_Diff_Test\n",
    "# done function   "
   ]
  },
  {
   "cell_type": "code",
   "execution_count": 27,
   "metadata": {},
   "outputs": [],
   "source": [
    "if doLoadPredict:\n",
    "    nparray_PredictedOutput_Train, nparray_Diff_Train, nparray_PredictedOutput_Test, nparray_Diff_Test=load_predicted()"
   ]
  },
  {
   "cell_type": "code",
   "execution_count": 28,
   "metadata": {},
   "outputs": [],
   "source": [
    "def calculate_metrics2(TrainOrTest, nparray_Output, nparray_PredictedOutput):\n",
    "    #p(\"nparray_Output\",nparray_Output)\n",
    "    #p(\"nparray_PredictedOutput\",nparray_PredictedOutput)\n",
    "    \n",
    "    # for loop over i (buckets)\n",
    "    list_bucket_OutputPositive=[]\n",
    "    list_bucket_OutputNegative=[]\n",
    "    list_bucket_PredictedOutputPositive=[]\n",
    "    list_bucket_PredictedOutputNegative=[]\n",
    "    list_bucket_TruePositive=[]\n",
    "    list_bucket_FalsePositive=[]\n",
    "    list_bucket_FalseNegative=[]\n",
    "    list_bucket_TrueNegative=[]\n",
    "    list_bucket_acc=[]\n",
    "    list_bucket_accuracy=[]\n",
    "    list_bucket_precision=[]\n",
    "    list_bucket_recall=[]\n",
    "    list_bucket_negativePredictedValue=[]\n",
    "    list_bucket_trueNegativeRate=[]\n",
    "    \n",
    "    for i in range(len(nparray_Output)):\n",
    "        #if i>=1:\n",
    "            #continue\n",
    "        #print(\"bucket i\",i)\n",
    "        nparray_bucket_Output=nparray_Output[i]\n",
    "        nparray_bucket_PredictedOutput=nparray_PredictedOutput[i]\n",
    "        #p(\"nparray_bucket_Output\",nparray_bucket_Output)\n",
    "        #p(\"nparray_bucket_PredictedOutput\",nparray_bucket_PredictedOutput)\n",
    "        \n",
    "        # for loop over j (hit)\n",
    "        counter_hit_TP=0\n",
    "        counter_hit_FP=0\n",
    "        counter_hit_FN=0\n",
    "        counter_hit_TN=0\n",
    "        for j in range(len(nparray_bucket_Output)):\n",
    "            #print (\"hit j\",j)\n",
    "            hit_Output=nparray_bucket_Output[j]\n",
    "            hit_PredictedOutput=nparray_bucket_PredictedOutput[j]\n",
    "            #print(\"j\",j,\"hit_PredictedOutput - hit_Output\",hit_PredictedOutput, hit_Output)\n",
    "               \n",
    "            # confusion matrix\n",
    "            # TP FP\n",
    "            # FN TN\n",
    "            TP=0 # True Positive\n",
    "            FP=0 # False Positive (type I error)\n",
    "            FN=0 # False Negative (type II error)\n",
    "            TN=0 # True Negative\n",
    "            \n",
    "            # for this hit ask conditions\n",
    "            if hit_PredictedOutput>0:\n",
    "                # the value is predicted positive\n",
    "                if hit_Output>0:\n",
    "                    # the value is actually positive\n",
    "                    TP=1\n",
    "                else:\n",
    "                    # the value is actually negative \n",
    "                    FP=1\n",
    "                # done if \n",
    "            else:\n",
    "                # the value is predicted negative\n",
    "                if hit_Output>0:\n",
    "                    # the value is actually positive\n",
    "                    FN=1\n",
    "                else:\n",
    "                    # the value is actually negative\n",
    "                    TN=1\n",
    "                # done if\n",
    "            # done if \n",
    "            #print(\"i\",i,\"j\",j,\"TP\",TP,\"FP\",FP,\"FN\",FN,\"TN\",TN)\n",
    "            \n",
    "            # increment counters for hits\n",
    "            counter_hit_TP+=TP\n",
    "            counter_hit_FP+=FP\n",
    "            counter_hit_FN+=FN\n",
    "            counter_hit_TN+=TN  \n",
    "        # done for loop over j (hit)\n",
    "        #print(\"i\",i,\"counter_hit_TP\",counter_hit_TP,\"counter_hit_FP\",counter_hit_FP,\"counter_hit_FN\",counter_hit_FN,\"counter_hit_TN\",counter_hit_TN)\n",
    "\n",
    "        \n",
    "        bucket_OutputPositive=counter_hit_TP+counter_hit_FN \n",
    "        bucket_OutputNegative=counter_hit_FP+counter_hit_TN\n",
    "        bucket_PredictedOutputPositive=counter_hit_TP+counter_hit_FP\n",
    "        bucket_PredictedOutputNegative=counter_hit_FN+counter_hit_TN\n",
    "        \n",
    "        #print(\"i\",i,\"bucket_OutputPositive\",bucket_OutputPositive)\n",
    "        #print(\"i\",i,\"bucket_OutputNegative\",bucket_OutputNegative)\n",
    "        #print(\"i\",i,\"bucket_PredictedOutputPositive\",bucket_PredictedOutputPositive)\n",
    "        #print(\"i\",i,\"bucket_PredictedOutputNegative\",bucket_PredictedOutputNegative)\n",
    "        \n",
    "        \n",
    "        bucket_TruePositive=counter_hit_TP\n",
    "        bucket_FalsePositive=counter_hit_FP\n",
    "        bucket_FalseNegative=counter_hit_FN\n",
    "        bucket_TrueNegative=counter_hit_TN\n",
    "\n",
    "        # accuracy=(TP+TN)/(TP+FP+FN+TN)=(TP+TN)/ALL, ALL=20 (20 hits in a bucket)\n",
    "        # precision=(TP)/(TP+FP)=(TP)/(all that are in reality positive)=efficiency from CERN \n",
    "        # e.g. there are 100 truth electrons, efficiency = what fraction of them are also reconstricted as electrons? \n",
    "        # recall=(TP)/(TP+FN)=(TP)/(all that are predicted positive) = one minus fake rate from CERN\n",
    "        # e.g. fake rate = I have reconstructed 100 electrons. What fraction of these are not in reality truth electrons\n",
    "        # fake rate = What fraction of reconstructed electrons are fake electrons?\n",
    "        # fake rate = (FN)/(TP+FN) = 1 - recall\n",
    "        \n",
    "        # accuracy\n",
    "        bucket_accuracy=(counter_hit_TP+counter_hit_TN)/(counter_hit_TP+counter_hit_FP+counter_hit_FN+counter_hit_TN)\n",
    "        bucket_acc=counter_hit_TP+counter_hit_TN\n",
    "        \n",
    "        # https://en.wikipedia.org/wiki/Precision_and_recall\n",
    "        \n",
    "        # precision\n",
    "        if (counter_hit_TP+counter_hit_FP)==0:\n",
    "            bucket_precision=0\n",
    "        else:\n",
    "            bucket_precision=(counter_hit_TP)/(counter_hit_TP+counter_hit_FP)\n",
    "        # done if\n",
    "        \n",
    "        # recall\n",
    "        if counter_hit_TP+counter_hit_FN==0:\n",
    "            bucket_recall=0\n",
    "        else:\n",
    "            bucket_recall=(counter_hit_TP)/(counter_hit_TP+counter_hit_FN)\n",
    "        # done if\n",
    "        #print(\"i\",i,\"bucket_accuracy\",bucket_accuracy,\"bucket_precision\",bucket_precision,\"bucket_recall\",bucket_recall)\n",
    "        \n",
    "        # Negative predicted values (like precision but for negative)\n",
    "        if counter_hit_TN+counter_hit_FN==0:\n",
    "            bucket_negativePredictedValue=0\n",
    "        else:\n",
    "            bucket_negativePredictedValue=(counter_hit_TN)/(counter_hit_TN+counter_hit_FN)\n",
    "        # done if\n",
    "        \n",
    "        # True negative rate (like recall, but for negative)\n",
    "        if counter_hit_TN+counter_hit_FP==0:\n",
    "            bucket_trueNegativeRate=0\n",
    "        else:\n",
    "            bucket_trueNegativeRate=(counter_hit_TN)/(counter_hit_TN+counter_hit_FP)\n",
    "        # done if \n",
    "        \n",
    "        \n",
    "        \n",
    "        # add to lists\n",
    "        list_bucket_OutputPositive.append(bucket_OutputPositive)\n",
    "        list_bucket_OutputNegative.append(bucket_OutputNegative)\n",
    "        list_bucket_PredictedOutputPositive.append(bucket_PredictedOutputPositive)\n",
    "        list_bucket_PredictedOutputNegative.append(bucket_PredictedOutputNegative)\n",
    "        list_bucket_TruePositive.append(bucket_TruePositive)\n",
    "        list_bucket_FalsePositive.append(bucket_FalsePositive)\n",
    "        list_bucket_FalseNegative.append(bucket_FalseNegative)\n",
    "        list_bucket_TrueNegative.append(bucket_TrueNegative)\n",
    "        list_bucket_acc.append(bucket_acc)\n",
    "        list_bucket_accuracy.append(bucket_accuracy)\n",
    "        list_bucket_precision.append(bucket_precision)\n",
    "        list_bucket_recall.append(bucket_recall)\n",
    "        list_bucket_negativePredictedValue.append(bucket_negativePredictedValue)\n",
    "        list_bucket_trueNegativeRate.append(bucket_trueNegativeRate)\n",
    "        \n",
    "    # done for loop over i (bucket)\n",
    "    #print(\"list_bucket_accuracy\",list_bucket_accuracy)\n",
    "    #print(\"list_bucket_precision\",list_bucket_precision)\n",
    "    #print(\"list_bucket_recall\",list_bucket_recall)\n",
    "    \n",
    "    # convert list to numpy array\n",
    "    nparray_bucket_OutputPositive=np.array(list_bucket_OutputPositive)\n",
    "    nparray_bucket_OutputNegative=np.array(list_bucket_OutputNegative)\n",
    "    nparray_bucket_PredictedOutputPositive=np.array(list_bucket_PredictedOutputPositive)\n",
    "    nparray_bucket_PredictedOutputNegative=np.array(list_bucket_PredictedOutputNegative)\n",
    "    nparray_bucket_TruePositive=np.array(list_bucket_TruePositive)\n",
    "    nparray_bucket_FalsePositive=np.array(list_bucket_FalsePositive)\n",
    "    nparray_bucket_FalseNegative=np.array(list_bucket_FalseNegative)\n",
    "    nparray_bucket_TrueNegative=np.array(list_bucket_TrueNegative)\n",
    "    nparray_bucket_acc=np.array(list_bucket_acc)\n",
    "    nparray_bucket_accuracy=np.array(list_bucket_accuracy)\n",
    "    nparray_bucket_precision=np.array(list_bucket_precision)\n",
    "    nparray_bucket_recall=np.array(list_bucket_recall)\n",
    "    nparray_bucket_negativePredictedValue=np.array(list_bucket_negativePredictedValue)\n",
    "    nparray_bucket_trueNegativeRate=np.array(list_bucket_trueNegativeRate)\n",
    "    \n",
    "    p(\"nparray_bucket_OutputPositive\",nparray_bucket_OutputPositive)\n",
    "    p(\"nparray_bucket_OutputNegative\",nparray_bucket_OutputNegative)\n",
    "    p(\"nparray_bucket_PredictedOutputPositive\",nparray_bucket_PredictedOutputPositive)\n",
    "    p(\"nparray_bucket_PredictedOutputNegative\",nparray_bucket_PredictedOutputNegative)\n",
    "    p(\"nparray_bucket_TruePositive\",nparray_bucket_TruePositive)\n",
    "    p(\"nparray_bucket_FalsePositive\",nparray_bucket_FalsePositive)\n",
    "    p(\"nparray_bucket_FalseNegative\",nparray_bucket_FalseNegative)\n",
    "    p(\"nparray_bucket_TrueNegative\",nparray_bucket_TrueNegative)\n",
    "    p(\"nparray_bucket_acc\",nparray_bucket_acc)\n",
    "    p(\"nparray_bucket_accuracy\",nparray_bucket_accuracy)\n",
    "    p(\"nparray_bucket_precision\",nparray_bucket_precision)\n",
    "    p(\"nparray_bucket_recall\",nparray_bucket_recall)\n",
    "    p(\"nparray_bucket_negativePredictedValue\",nparray_bucket_negativePredictedValue)\n",
    "    p(\"nparray_bucket_trueNegativeRate\",nparray_bucket_trueNegativeRate)\n",
    "    \n",
    "    outputFileNameStem=\"NN_5_\"+modelName+\"_\"+str(numberOfEpochs)+\"_\"+str(batchSize)\n",
    "    \n",
    "\n",
    "    outputFileName_OutputPositive=outputFolder+\"/\"+outputFileNameStem+\"_OutputPositive_\"+TrainOrTest+\".npy\"\n",
    "    np.save(outputFileName_OutputPositive,nparray_bucket_OutputPositive)\n",
    "    outputFileName_OutputNegative=outputFolder+\"/\"+outputFileNameStem+\"_OutputNegative_\"+TrainOrTest+\".npy\"\n",
    "    np.save(outputFileName_OutputNegative,nparray_bucket_OutputNegative)\n",
    "    outputFileName_OutputNegative=outputFolder+\"/\"+outputFileNameStem+\"_OutputNegative_\"+TrainOrTest+\".npy\"\n",
    "    np.save(outputFileName_OutputNegative,nparray_bucket_OutputNegative)\n",
    "    outputFileName_PredictedOutputPositive=outputFolder+\"/\"+outputFileNameStem+\"_PredictedOutputPositive_\"+TrainOrTest+\".npy\"\n",
    "    np.save(outputFileName_PredictedOutputPositive,nparray_bucket_PredictedOutputPositive)\n",
    "    outputFileName_PredictedOutputNegative=outputFolder+\"/\"+outputFileNameStem+\"_PredictedOutputNegative_\"+TrainOrTest+\".npy\"\n",
    "    np.save(outputFileName_PredictedOutputNegative,nparray_bucket_PredictedOutputNegative)\n",
    "    outputFileName_TruePositive=outputFolder+\"/\"+outputFileNameStem+\"_TruePositive_\"+TrainOrTest+\".npy\"\n",
    "    np.save(outputFileName_TruePositive,nparray_bucket_TruePositive)\n",
    "    outputFileName_FalsePositive=outputFolder+\"/\"+outputFileNameStem+\"_FalsePositive_\"+TrainOrTest+\".npy\"\n",
    "    np.save(outputFileName_FalsePositive,nparray_bucket_FalsePositive)\n",
    "    outputFileName_FalseNegative=outputFolder+\"/\"+outputFileNameStem+\"_FalseNegative_\"+TrainOrTest+\".npy\"\n",
    "    np.save(outputFileName_FalseNegative,nparray_bucket_FalseNegative)\n",
    "    outputFileName_TrueNegative=outputFolder+\"/\"+outputFileNameStem+\"_TrueNegative_\"+TrainOrTest+\".npy\"\n",
    "    np.save(outputFileName_TrueNegative,nparray_bucket_TrueNegative)\n",
    "    outputFileName_acc=outputFolder+\"/\"+outputFileNameStem+\"_accuracy_\"+TrainOrTest+\".npy\"\n",
    "    np.save(outputFileName_acc,nparray_bucket_acc)\n",
    "    outputFileName_accuracy=outputFolder+\"/\"+outputFileNameStem+\"_accuracy_\"+TrainOrTest+\".npy\"\n",
    "    np.save(outputFileName_accuracy,nparray_bucket_accuracy)\n",
    "    outputFileName_precision=outputFolder+\"/\"+outputFileNameStem+\"_precision_\"+TrainOrTest+\".npy\"\n",
    "    np.save(outputFileName_precision,nparray_bucket_precision)\n",
    "    outputFileName_recall=outputFolder+\"/\"+outputFileNameStem+\"_recall_\"+TrainOrTest+\".npy\"\n",
    "    np.save(outputFileName_recall,nparray_bucket_recall)\n",
    "    outputFileName_negativePredictedValue=outputFolder+\"/\"+outputFileNameStem+\"_negativePredictedValue_\"+TrainOrTest+\".npy\"\n",
    "    np.save(outputFileName_negativePredictedValue,nparray_bucket_negativePredictedValue)\n",
    "    outputFileName_trueNegativeRate=outputFolder+\"/\"+outputFileNameStem+\"_trueNegativeRate_\"+TrainOrTest+\".npy\"\n",
    "    np.save(outputFileName_trueNegativeRate,nparray_bucket_trueNegativeRate)\n",
    "    \n",
    "    \n",
    "    \n",
    "    \n",
    "    \n",
    "    \n",
    "    \n",
    "    \n",
    "    # done all, ready to return\n",
    "    return nparray_bucket_OutputPositive,nparray_bucket_OutputNegative,nparray_bucket_PredictedOutputPositive,nparray_bucket_PredictedOutputNegative,nparray_bucket_TruePositive,nparray_bucket_FalsePositive,nparray_bucket_FalseNegative,nparray_bucket_TrueNegative,nparray_bucket_acc,nparray_bucket_accuracy,nparray_bucket_precision,nparray_bucket_recall,nparray_bucket_negativePredictedValue,nparray_bucket_trueNegativeRate\n",
    "# done function"
   ]
  },
  {
   "cell_type": "code",
   "execution_count": 29,
   "metadata": {},
   "outputs": [
    {
     "name": "stdout",
     "output_type": "stream",
     "text": [
      "\n",
      "Train\n",
      "Start nparray_bucket_OutputPositive\n",
      "[ 7  6  6 ... 12 14 12]\n",
      "End nparray_bucket_OutputPositive shape (676641,) type <class 'numpy.ndarray'> dtype int64\n",
      "Start nparray_bucket_OutputNegative\n",
      "[13 14 14 ...  8  6  8]\n",
      "End nparray_bucket_OutputNegative shape (676641,) type <class 'numpy.ndarray'> dtype int64\n",
      "Start nparray_bucket_PredictedOutputPositive\n",
      "[8 8 9 ... 9 9 4]\n",
      "End nparray_bucket_PredictedOutputPositive shape (676641,) type <class 'numpy.ndarray'> dtype int64\n",
      "Start nparray_bucket_PredictedOutputNegative\n",
      "[12 12 11 ... 11 11 16]\n",
      "End nparray_bucket_PredictedOutputNegative shape (676641,) type <class 'numpy.ndarray'> dtype int64\n",
      "Start nparray_bucket_TruePositive\n",
      "[3 4 4 ... 9 9 2]\n",
      "End nparray_bucket_TruePositive shape (676641,) type <class 'numpy.ndarray'> dtype int64\n",
      "Start nparray_bucket_FalsePositive\n",
      "[5 4 5 ... 0 0 2]\n",
      "End nparray_bucket_FalsePositive shape (676641,) type <class 'numpy.ndarray'> dtype int64\n",
      "Start nparray_bucket_FalseNegative\n",
      "[ 4  2  2 ...  3  5 10]\n",
      "End nparray_bucket_FalseNegative shape (676641,) type <class 'numpy.ndarray'> dtype int64\n",
      "Start nparray_bucket_TrueNegative\n",
      "[ 8 10  9 ...  8  6  6]\n",
      "End nparray_bucket_TrueNegative shape (676641,) type <class 'numpy.ndarray'> dtype int64\n",
      "Start nparray_bucket_acc\n",
      "[11 14 13 ... 17 15  8]\n",
      "End nparray_bucket_acc shape (676641,) type <class 'numpy.ndarray'> dtype int64\n",
      "Start nparray_bucket_accuracy\n",
      "[0.55 0.7  0.65 ... 0.85 0.75 0.4 ]\n",
      "End nparray_bucket_accuracy shape (676641,) type <class 'numpy.ndarray'> dtype float64\n",
      "Start nparray_bucket_precision\n",
      "[0.375      0.5        0.44444444 ... 1.         1.         0.5       ]\n",
      "End nparray_bucket_precision shape (676641,) type <class 'numpy.ndarray'> dtype float64\n",
      "Start nparray_bucket_recall\n",
      "[0.42857143 0.66666667 0.66666667 ... 0.75       0.64285714 0.16666667]\n",
      "End nparray_bucket_recall shape (676641,) type <class 'numpy.ndarray'> dtype float64\n",
      "Start nparray_bucket_negativePredictedValue\n",
      "[0.66666667 0.83333333 0.81818182 ... 0.72727273 0.54545455 0.375     ]\n",
      "End nparray_bucket_negativePredictedValue shape (676641,) type <class 'numpy.ndarray'> dtype float64\n",
      "Start nparray_bucket_trueNegativeRate\n",
      "[0.61538462 0.71428571 0.64285714 ... 1.         1.         0.75      ]\n",
      "End nparray_bucket_trueNegativeRate shape (676641,) type <class 'numpy.ndarray'> dtype float64\n",
      "\n",
      "Test\n",
      "Start nparray_bucket_OutputPositive\n",
      "[13  9  9 ... 15  8 14]\n",
      "End nparray_bucket_OutputPositive shape (280483,) type <class 'numpy.ndarray'> dtype int64\n",
      "Start nparray_bucket_OutputNegative\n",
      "[ 7 11 11 ...  5 12  6]\n",
      "End nparray_bucket_OutputNegative shape (280483,) type <class 'numpy.ndarray'> dtype int64\n",
      "Start nparray_bucket_PredictedOutputPositive\n",
      "[10 10  8 ...  8  7  9]\n",
      "End nparray_bucket_PredictedOutputPositive shape (280483,) type <class 'numpy.ndarray'> dtype int64\n",
      "Start nparray_bucket_PredictedOutputNegative\n",
      "[10 10 12 ... 12 13 11]\n",
      "End nparray_bucket_PredictedOutputNegative shape (280483,) type <class 'numpy.ndarray'> dtype int64\n",
      "Start nparray_bucket_TruePositive\n",
      "[8 4 2 ... 8 6 8]\n",
      "End nparray_bucket_TruePositive shape (280483,) type <class 'numpy.ndarray'> dtype int64\n",
      "Start nparray_bucket_FalsePositive\n",
      "[2 6 6 ... 0 1 1]\n",
      "End nparray_bucket_FalsePositive shape (280483,) type <class 'numpy.ndarray'> dtype int64\n",
      "Start nparray_bucket_FalseNegative\n",
      "[5 5 7 ... 7 2 6]\n",
      "End nparray_bucket_FalseNegative shape (280483,) type <class 'numpy.ndarray'> dtype int64\n",
      "Start nparray_bucket_TrueNegative\n",
      "[ 5  5  5 ...  5 11  5]\n",
      "End nparray_bucket_TrueNegative shape (280483,) type <class 'numpy.ndarray'> dtype int64\n",
      "Start nparray_bucket_acc\n",
      "[13  9  7 ... 13 17 13]\n",
      "End nparray_bucket_acc shape (280483,) type <class 'numpy.ndarray'> dtype int64\n",
      "Start nparray_bucket_accuracy\n",
      "[0.65 0.45 0.35 ... 0.65 0.85 0.65]\n",
      "End nparray_bucket_accuracy shape (280483,) type <class 'numpy.ndarray'> dtype float64\n",
      "Start nparray_bucket_precision\n",
      "[0.8        0.4        0.25       ... 1.         0.85714286 0.88888889]\n",
      "End nparray_bucket_precision shape (280483,) type <class 'numpy.ndarray'> dtype float64\n",
      "Start nparray_bucket_recall\n",
      "[0.61538462 0.44444444 0.22222222 ... 0.53333333 0.75       0.57142857]\n",
      "End nparray_bucket_recall shape (280483,) type <class 'numpy.ndarray'> dtype float64\n",
      "Start nparray_bucket_negativePredictedValue\n",
      "[0.5        0.5        0.41666667 ... 0.41666667 0.84615385 0.45454545]\n",
      "End nparray_bucket_negativePredictedValue shape (280483,) type <class 'numpy.ndarray'> dtype float64\n",
      "Start nparray_bucket_trueNegativeRate\n",
      "[0.71428571 0.45454545 0.45454545 ... 1.         0.91666667 0.83333333]\n",
      "End nparray_bucket_trueNegativeRate shape (280483,) type <class 'numpy.ndarray'> dtype float64\n"
     ]
    }
   ],
   "source": [
    "if doCalculateMetrics2:\n",
    "    print(\"\")\n",
    "    print(\"Train\")\n",
    "    nparray_bucket_OutputPositive_Train,nparray_bucket_OutputNegative_Train,nparray_bucket_PredictedOutputPositive_Train,nparray_bucket_PredictedOutputNegative_Train,nparray_bucket_TruePositive_Train,nparray_bucket_FalsePositive_Train,nparray_bucket_FalseNegative_Train,nparray_bucket_TrueNegative_Train,nparray_bucket_acc_Train,nparray_bucket_accuracy_Train,nparray_bucket_precision_Train,nparray_bucket_recall_Train,nparray_bucket_negativePredictedValue_Train,nparray_bucket_trueNegativeRate_Train=calculate_metrics2(\"Train\", nparray_Output_Train, nparray_PredictedOutput_Train)\n",
    "    print(\"\")\n",
    "    print(\"Test\")\n",
    "    nparray_bucket_OutputPositive_Test,nparray_bucket_OutputNegative_Test,nparray_bucket_PredictedOutputPositive_Test,nparray_bucket_PredictedOutputNegative_Test,nparray_bucket_TruePositive_Test,nparray_bucket_FalsePositive_Test,nparray_bucket_FalseNegative_Test,nparray_bucket_TrueNegative_Test,nparray_bucket_acc_Test,nparray_bucket_accuracy_Test,nparray_bucket_precision_Test,nparray_bucket_recall_Test,nparray_bucket_negativePredictedValue_Test,nparray_bucket_trueNegativeRate_Test=calculate_metrics2(\"Test\", nparray_Output_Test, nparray_PredictedOutput_Test)"
   ]
  },
  {
   "cell_type": "code",
   "execution_count": 30,
   "metadata": {},
   "outputs": [
    {
     "data": {
      "image/png": "[encoded data removed]",
      "text/plain": [
       "<Figure size 432x288 with 1 Axes>"
      ]
     },
     "metadata": {
      "needs_background": "light"
     },
     "output_type": "display_data"
    }
   ],
   "source": [
    "# overlay train and test we expect train to be better than test \n",
    "def plot_train_test_OutputPositive(nparray_bucket_OutputPositive_Train,nparray_bucket_OutputPositive_Test,modelName):\n",
    "    plt.hist(nparray_bucket_OutputPositive_Train,bins=[i for i in range(22)],density=True,alpha=1,color=\"blue\",histtype='step')\n",
    "    plt.hist(nparray_bucket_OutputPositive_Test,bins=[i for i in range(22)],density=True,alpha=1,color=\"red\",histtype='step')\n",
    "    plt.ylabel('Nr of buckets')\n",
    "    plt.xlabel('Bucket OutputPositive')\n",
    "    plt.title(modelName)\n",
    "    plt.legend([\"Train\",\"Test\"],loc='upper left')\n",
    "    #plt.ylim(bottom=0,top=250)\n",
    "    #plt.show()\n",
    "    outputFileNameStem=\"NN_5_\"+modelName+\"_\"+str(numberOfEpochs)+\"_\"+str(batchSize)\n",
    "    plt.savefig(outputFolder+\"/\"+outputFileNameStem+\"_histo_OutputPositive.png\")\n",
    "# done function\n",
    "if doPlotMetrics2:\n",
    "    plot_train_test_OutputPositive(nparray_bucket_OutputPositive_Train,nparray_bucket_OutputPositive_Test,modelName)"
   ]
  },
  {
   "cell_type": "code",
   "execution_count": 31,
   "metadata": {},
   "outputs": [
    {
     "data": {
      "image/png": "[encoded data removed]",
      "text/plain": [
       "<Figure size 432x288 with 1 Axes>"
      ]
     },
     "metadata": {
      "needs_background": "light"
     },
     "output_type": "display_data"
    }
   ],
   "source": [
    "# overlay train and test we expect train to be better than test \n",
    "def plot_train_test_OutputNegative(nparray_bucket_OutputNegative_Train,nparray_bucket_OutputNegative_Test,modelName):\n",
    "    plt.hist(nparray_bucket_OutputNegative_Train,bins=[i for i in range(22)],density=True,alpha=1,color=\"blue\",histtype='step')\n",
    "    plt.hist(nparray_bucket_OutputNegative_Test,bins=[i for i in range(22)],density=True,alpha=1,color=\"red\",histtype='step')\n",
    "    plt.ylabel('Nr of buckets')\n",
    "    plt.xlabel('Bucket OutputNegative')\n",
    "    plt.title(modelName)\n",
    "    plt.legend([\"Train\",\"Test\"],loc='upper left')\n",
    "    #plt.ylim(bottom=0,top=250)\n",
    "    #plt.show()\n",
    "    outputFileNameStem=\"NN_5_\"+modelName+\"_\"+str(numberOfEpochs)+\"_\"+str(batchSize)\n",
    "    plt.savefig(outputFolder+\"/\"+outputFileNameStem+\"_histo_OutputNegative.png\")\n",
    "# done function\n",
    "if doPlotMetrics2:\n",
    "    plot_train_test_OutputNegative(nparray_bucket_OutputNegative_Train,nparray_bucket_OutputNegative_Test,modelName)"
   ]
  },
  {
   "cell_type": "code",
   "execution_count": 32,
   "metadata": {},
   "outputs": [
    {
     "data": {
      "image/png": "[encoded data removed]",
      "text/plain": [
       "<Figure size 432x288 with 1 Axes>"
      ]
     },
     "metadata": {
      "needs_background": "light"
     },
     "output_type": "display_data"
    }
   ],
   "source": [
    "# overlay train and test we expect train to be better than test \n",
    "def plot_train_test_PredictedOutputPositive(nparray_bucket_PredictedOutputPositive_Train,nparray_bucket_PredictedOutputPositive_Test,modelName):\n",
    "    plt.hist(nparray_bucket_PredictedOutputPositive_Train,bins=[i for i in range(22)],density=True,alpha=1,color=\"blue\",histtype='step')\n",
    "    plt.hist(nparray_bucket_PredictedOutputPositive_Test,bins=[i for i in range(22)],density=True,alpha=1,color=\"red\",histtype='step')\n",
    "    plt.ylabel('Nr of buckets')\n",
    "    plt.xlabel('Bucket PredictedOutputPositive')\n",
    "    plt.title(modelName)\n",
    "    plt.legend([\"Train\",\"Test\"],loc='upper left')\n",
    "    #plt.ylim(bottom=0,top=250)\n",
    "    #plt.show()\n",
    "    outputFileNameStem=\"NN_5_\"+modelName+\"_\"+str(numberOfEpochs)+\"_\"+str(batchSize)\n",
    "    plt.savefig(outputFolder+\"/\"+outputFileNameStem+\"_histo_PredictedOutputPositive.png\")\n",
    "# done function\n",
    "if doPlotMetrics2:\n",
    "    plot_train_test_PredictedOutputPositive(nparray_bucket_PredictedOutputPositive_Train,nparray_bucket_PredictedOutputPositive_Test,modelName)"
   ]
  },
  {
   "cell_type": "code",
   "execution_count": 33,
   "metadata": {},
   "outputs": [
    {
     "data": {
      "image/png": "[encoded data removed]",
      "text/plain": [
       "<Figure size 432x288 with 1 Axes>"
      ]
     },
     "metadata": {
      "needs_background": "light"
     },
     "output_type": "display_data"
    }
   ],
   "source": [
    "# overlay train and test we expect train to be better than test \n",
    "def plot_train_test_PredictedOutputNegative(nparray_bucket_PredictedOutputNegative_Train,nparray_bucket_PredictedOutputNegative_Test,modelName):\n",
    "    #p(\"nparray_bucket_PredictedOutputNegative_Train\",nparray_bucket_PredictedOutputNegative_Train)\n",
    "    #p(\"nparray_bucket_PredictedOutputNegative_Test\",nparray_bucket_PredictedOutputNegative_Test)\n",
    "    plt.hist(nparray_bucket_PredictedOutputNegative_Train,bins=[i for i in range(22)],density=True,alpha=1,color=\"blue\",histtype='step')\n",
    "    plt.hist(nparray_bucket_PredictedOutputNegative_Test,bins=[i for i in range(22)],density=True,alpha=1,color=\"red\",histtype='step')\n",
    "    plt.ylabel('Nr of buckets')\n",
    "    plt.xlabel('Bucket PredictedOutputNegative')\n",
    "    plt.title(modelName)\n",
    "    plt.legend([\"Train\",\"Test\"],loc='upper left')\n",
    "    #plt.ylim(bottom=0,top=250)\n",
    "    #plt.show()\n",
    "    outputFileNameStem=\"NN_5_\"+modelName+\"_\"+str(numberOfEpochs)+\"_\"+str(batchSize)\n",
    "    plt.savefig(outputFolder+\"/\"+outputFileNameStem+\"_histo_PredictedOutputNegative.png\")\n",
    "# done function\n",
    "if doPlotMetrics2:\n",
    "    plot_train_test_PredictedOutputNegative(nparray_bucket_PredictedOutputNegative_Train,nparray_bucket_PredictedOutputNegative_Test,modelName)"
   ]
  },
  {
   "cell_type": "code",
   "execution_count": 34,
   "metadata": {},
   "outputs": [
    {
     "data": {
      "image/png": "[encoded data removed]",
      "text/plain": [
       "<Figure size 432x288 with 1 Axes>"
      ]
     },
     "metadata": {
      "needs_background": "light"
     },
     "output_type": "display_data"
    }
   ],
   "source": [
    "# overlay train and test we expect train to be better than test \n",
    "def plot_train_test_TruePositive(nparray_bucket_TruePositive_Train,nparray_bucket_TruePositive_Test,modelName):\n",
    "    plt.hist(nparray_bucket_TruePositive_Train,bins=[i for i in range(22)],density=True,alpha=1,color=\"blue\",histtype='step')\n",
    "    plt.hist(nparray_bucket_TruePositive_Test,bins=[i for i in range(22)],density=True,alpha=1,color=\"red\",histtype='step')\n",
    "    plt.ylabel('Nr of buckets')\n",
    "    plt.xlabel('Bucket TruePositive')\n",
    "    plt.title(modelName)\n",
    "    plt.legend([\"Train\",\"Test\"],loc='upper left')\n",
    "    #plt.ylim(bottom=0,top=250)\n",
    "    #plt.show()\n",
    "    outputFileNameStem=\"NN_5_\"+modelName+\"_\"+str(numberOfEpochs)+\"_\"+str(batchSize)\n",
    "    plt.savefig(outputFolder+\"/\"+outputFileNameStem+\"_histo_TruePositive.png\")\n",
    "# done function\n",
    "if doPlotMetrics2:\n",
    "    plot_train_test_TruePositive(nparray_bucket_TruePositive_Train,nparray_bucket_TruePositive_Test,modelName)"
   ]
  },
  {
   "cell_type": "code",
   "execution_count": 35,
   "metadata": {},
   "outputs": [
    {
     "data": {
      "image/png": "[encoded data removed]",
      "text/plain": [
       "<Figure size 432x288 with 1 Axes>"
      ]
     },
     "metadata": {
      "needs_background": "light"
     },
     "output_type": "display_data"
    }
   ],
   "source": [
    "# overlay train and test we expect train to be better than test \n",
    "def plot_train_test_FalsePositive(nparray_bucket_FalsePositive_Train,nparray_bucket_FalsePositive_Test,modelName):\n",
    "    plt.hist(nparray_bucket_FalsePositive_Train,bins=[i for i in range(22)],density=True,alpha=1,color=\"blue\",histtype='step')\n",
    "    plt.hist(nparray_bucket_FalsePositive_Test,bins=[i for i in range(22)],density=True,alpha=1,color=\"red\",histtype='step')\n",
    "    plt.ylabel('Nr of buckets')\n",
    "    plt.xlabel('Bucket FalsePositive')\n",
    "    plt.title(modelName)\n",
    "    plt.legend([\"Train\",\"Test\"],loc='upper left')\n",
    "    #plt.ylim(bottom=0,top=250)\n",
    "    #plt.show()\n",
    "    outputFileNameStem=\"NN_5_\"+modelName+\"_\"+str(numberOfEpochs)+\"_\"+str(batchSize)\n",
    "    plt.savefig(outputFolder+\"/\"+outputFileNameStem+\"_histo_FalsePositive.png\")\n",
    "# done function\n",
    "if doPlotMetrics2:\n",
    "    plot_train_test_FalsePositive(nparray_bucket_FalsePositive_Train,nparray_bucket_FalsePositive_Test,modelName)"
   ]
  },
  {
   "cell_type": "code",
   "execution_count": 36,
   "metadata": {},
   "outputs": [
    {
     "data": {
      "image/png": "[encoded data removed]",
      "text/plain": [
       "<Figure size 432x288 with 1 Axes>"
      ]
     },
     "metadata": {
      "needs_background": "light"
     },
     "output_type": "display_data"
    }
   ],
   "source": [
    "# overlay train and test we expect train to be better than test \n",
    "def plot_train_test_FalseNegative(nparray_bucket_FalseNegative_Train,nparray_bucket_FalseNegative_Test,modelName):\n",
    "    plt.hist(nparray_bucket_FalseNegative_Train,bins=[i for i in range(22)],density=True,alpha=1,color=\"blue\",histtype='step')\n",
    "    plt.hist(nparray_bucket_FalseNegative_Test,bins=[i for i in range(22)],density=True,alpha=1,color=\"red\",histtype='step')\n",
    "    plt.ylabel('Nr of buckets')\n",
    "    plt.xlabel('Bucket FalseNegative')\n",
    "    plt.title(modelName)\n",
    "    plt.legend([\"Train\",\"Test\"],loc='upper left')\n",
    "    #plt.ylim(bottom=0,top=250)\n",
    "    #plt.show()\n",
    "    outputFileNameStem=\"NN_5_\"+modelName+\"_\"+str(numberOfEpochs)+\"_\"+str(batchSize)\n",
    "    plt.savefig(outputFolder+\"/\"+outputFileNameStem+\"_histo_FalseNegative.png\")\n",
    "# done function\n",
    "if doPlotMetrics2:\n",
    "    plot_train_test_FalseNegative(nparray_bucket_FalseNegative_Train,nparray_bucket_FalseNegative_Test,modelName)"
   ]
  },
  {
   "cell_type": "code",
   "execution_count": 37,
   "metadata": {},
   "outputs": [
    {
     "data": {
      "image/png": "[encoded data removed]",
      "text/plain": [
       "<Figure size 432x288 with 1 Axes>"
      ]
     },
     "metadata": {
      "needs_background": "light"
     },
     "output_type": "display_data"
    }
   ],
   "source": [
    "# overlay train and test we expect train to be better than test \n",
    "def plot_train_test_TrueNegative(nparray_bucket_TrueNegative_Train,nparray_bucket_TrueNegative_Test,modelName):\n",
    "    plt.hist(nparray_bucket_TrueNegative_Train,bins=[i for i in range(22)],density=True,alpha=1,color=\"blue\",histtype='step')\n",
    "    plt.hist(nparray_bucket_TrueNegative_Test,bins=[i for i in range(22)],density=True,alpha=1,color=\"red\",histtype='step')\n",
    "    plt.ylabel('Nr of buckets')\n",
    "    plt.xlabel('Bucket TrueNegative')\n",
    "    plt.title(modelName)\n",
    "    plt.legend([\"Train\",\"Test\"],loc='upper left')\n",
    "    #plt.ylim(bottom=0,top=250)\n",
    "    #plt.show()\n",
    "    outputFileNameStem=\"NN_5_\"+modelName+\"_\"+str(numberOfEpochs)+\"_\"+str(batchSize)\n",
    "    plt.savefig(outputFolder+\"/\"+outputFileNameStem+\"_histo_TrueNegative.png\")\n",
    "# done function\n",
    "if doPlotMetrics2:\n",
    "    plot_train_test_TrueNegative(nparray_bucket_TrueNegative_Train,nparray_bucket_TrueNegative_Test,modelName)"
   ]
  },
  {
   "cell_type": "code",
   "execution_count": 38,
   "metadata": {},
   "outputs": [
    {
     "data": {
      "image/png": "[encoded data removed]",
      "text/plain": [
       "<Figure size 432x288 with 1 Axes>"
      ]
     },
     "metadata": {
      "needs_background": "light"
     },
     "output_type": "display_data"
    }
   ],
   "source": [
    "# overlay train and test we expect train to be better than test \n",
    "def plot_train_test_acc(nparray_bucket_acc_Train,nparray_bucket_acc_Test,modelName):\n",
    "    plt.hist(nparray_bucket_acc_Train,bins=[i for i in range(22)],density=True,alpha=1,color=\"blue\",histtype='step')\n",
    "    plt.hist(nparray_bucket_acc_Test,bins=[i for i in range(22)],density=True,alpha=1,color=\"red\",histtype='step')\n",
    "    plt.ylabel('Nr of buckets')\n",
    "    plt.xlabel('Bucket acc')\n",
    "    plt.title(modelName)\n",
    "    plt.legend([\"Train\",\"Test\"],loc='upper left')\n",
    "    #plt.ylim(bottom=0,top=250)\n",
    "    #plt.show()\n",
    "    outputFileNameStem=\"NN_5_\"+modelName+\"_\"+str(numberOfEpochs)+\"_\"+str(batchSize)\n",
    "    plt.savefig(outputFolder+\"/\"+outputFileNameStem+\"_histo_acc.png\")\n",
    "# done function\n",
    "if doPlotMetrics2:\n",
    "    plot_train_test_acc(nparray_bucket_acc_Train,nparray_bucket_acc_Test,modelName)"
   ]
  },
  {
   "cell_type": "code",
   "execution_count": 39,
   "metadata": {},
   "outputs": [
    {
     "data": {
      "image/png": "[encoded data removed]",
      "text/plain": [
       "<Figure size 432x288 with 1 Axes>"
      ]
     },
     "metadata": {
      "needs_background": "light"
     },
     "output_type": "display_data"
    }
   ],
   "source": [
    "# overlay train and test we expect train to be better than test \n",
    "def plot_train_test_accuracy(nparray_bucket_accuracy_Train,nparray_bucket_accuracy_Test,modelName):\n",
    "    plt.hist(nparray_bucket_accuracy_Train,bins=[i/20 for i in range(22)],density=True,alpha=1,color=\"blue\",histtype='step')\n",
    "    plt.hist(nparray_bucket_accuracy_Test,bins=[i/20 for i in range(22)],density=True,alpha=1,color=\"red\",histtype='step')\n",
    "    plt.ylabel('Nr of buckets')\n",
    "    plt.xlabel('Bucket accuracy')\n",
    "    plt.title(modelName)\n",
    "    plt.legend([\"Train\",\"Test\"],loc='upper left')\n",
    "    #plt.ylim(bottom=0,top=250)\n",
    "    #plt.show()\n",
    "    outputFileNameStem=\"NN_5_\"+modelName+\"_\"+str(numberOfEpochs)+\"_\"+str(batchSize)\n",
    "    plt.savefig(outputFolder+\"/\"+outputFileNameStem+\"_histo_accuracy.png\")\n",
    "# done function\n",
    "if doPlotMetrics2:\n",
    "    plot_train_test_accuracy(nparray_bucket_accuracy_Train,nparray_bucket_accuracy_Test,modelName)"
   ]
  },
  {
   "cell_type": "code",
   "execution_count": 40,
   "metadata": {},
   "outputs": [
    {
     "data": {
      "image/png": "[encoded data removed]",
      "text/plain": [
       "<Figure size 432x288 with 1 Axes>"
      ]
     },
     "metadata": {
      "needs_background": "light"
     },
     "output_type": "display_data"
    }
   ],
   "source": [
    "# overlay train and test we expect train to be better than test \n",
    "def plot_train_test_precision(nparray_bucket_precision_Train,nparray_bucket_precision_Test,modelName):\n",
    "    plt.hist(nparray_bucket_precision_Train,bins=[i/20 for i in range(22)],density=True,alpha=1,color=\"blue\",histtype='step')\n",
    "    plt.hist(nparray_bucket_precision_Test,bins=[i/20 for i in range(22)],density=True,alpha=1,color=\"red\",histtype='step')\n",
    "    plt.ylabel('Nr of buckets')\n",
    "    plt.xlabel('Bucket precision')\n",
    "    plt.title(modelName)\n",
    "    plt.legend([\"Train\",\"Test\"],loc='upper left')\n",
    "    #plt.ylim(bottom=0,top=250)\n",
    "    #plt.show()\n",
    "    outputFileNameStem=\"NN_5_\"+modelName+\"_\"+str(numberOfEpochs)+\"_\"+str(batchSize)\n",
    "    plt.savefig(outputFolder+\"/\"+outputFileNameStem+\"_histo_precision.png\")\n",
    "# done function\n",
    "if doPlotMetrics2:\n",
    "    plot_train_test_precision(nparray_bucket_precision_Train,nparray_bucket_precision_Test,modelName)"
   ]
  },
  {
   "cell_type": "code",
   "execution_count": 41,
   "metadata": {},
   "outputs": [
    {
     "data": {
      "image/png": "[encoded data removed]",
      "text/plain": [
       "<Figure size 432x288 with 1 Axes>"
      ]
     },
     "metadata": {
      "needs_background": "light"
     },
     "output_type": "display_data"
    }
   ],
   "source": [
    "# overlay train and test we expect train to be better than test \n",
    "def plot_train_test_recall(nparray_bucket_recall_Train,nparray_bucket_recall_Test,modelName):\n",
    "    plt.hist(nparray_bucket_recall_Train,bins=[i/20 for i in range(22)],density=True,alpha=1,color=\"blue\",histtype='step')\n",
    "    plt.hist(nparray_bucket_recall_Test,bins=[i/20 for i in range(22)],density=True,alpha=1,color=\"red\",histtype='step')\n",
    "    plt.ylabel('Nr of buckets')\n",
    "    plt.xlabel('Bucket recall')\n",
    "    plt.title(modelName)\n",
    "    plt.legend([\"Train\",\"Test\"],loc='upper left')\n",
    "    #plt.ylim(bottom=0,top=250)\n",
    "    #plt.show()\n",
    "    outputFileNameStem=\"NN_5_\"+modelName+\"_\"+str(numberOfEpochs)+\"_\"+str(batchSize)\n",
    "    plt.savefig(outputFolder+\"/\"+outputFileNameStem+\"_histo_recall.png\")\n",
    "# done function\n",
    "if doPlotMetrics2:\n",
    "    plot_train_test_recall(nparray_bucket_recall_Train,nparray_bucket_recall_Test,modelName)"
   ]
  },
  {
   "cell_type": "code",
   "execution_count": 42,
   "metadata": {},
   "outputs": [
    {
     "data": {
      "image/png": "[encoded data removed]",
      "text/plain": [
       "<Figure size 432x288 with 1 Axes>"
      ]
     },
     "metadata": {
      "needs_background": "light"
     },
     "output_type": "display_data"
    }
   ],
   "source": [
    "# overlay train and test we expect train to be better than test \n",
    "def plot_train_test_negativePredictedValue(nparray_bucket_negativePredictedValue_Train,nparray_bucket_negativePredictedValue_Test,modelName):\n",
    "    plt.hist(nparray_bucket_negativePredictedValue_Train,bins=[i/20 for i in range(22)],density=True,alpha=1,color=\"blue\",histtype='step')\n",
    "    plt.hist(nparray_bucket_negativePredictedValue_Test,bins=[i/20 for i in range(22)],density=True,alpha=1,color=\"red\",histtype='step')\n",
    "    plt.ylabel('Nr of buckets')\n",
    "    plt.xlabel('Bucket negativePredictedValue')\n",
    "    plt.title(modelName)\n",
    "    plt.legend([\"Train\",\"Test\"],loc='upper left')\n",
    "    #plt.ylim(bottom=0,top=250)\n",
    "    #plt.show()\n",
    "    outputFileNameStem=\"NN_5_\"+modelName+\"_\"+str(numberOfEpochs)+\"_\"+str(batchSize)\n",
    "    plt.savefig(outputFolder+\"/\"+outputFileNameStem+\"_histo_negativePredictedValue.png\")\n",
    "# done function\n",
    "if doPlotMetrics2:\n",
    "    plot_train_test_negativePredictedValue(nparray_bucket_negativePredictedValue_Train,nparray_bucket_negativePredictedValue_Test,modelName)"
   ]
  },
  {
   "cell_type": "code",
   "execution_count": 43,
   "metadata": {},
   "outputs": [
    {
     "data": {
      "image/png": "[encoded data removed]",
      "text/plain": [
       "<Figure size 432x288 with 1 Axes>"
      ]
     },
     "metadata": {
      "needs_background": "light"
     },
     "output_type": "display_data"
    }
   ],
   "source": [
    "# overlay train and test we expect train to be better than test \n",
    "def plot_train_test_trueNegativeRate(nparray_bucket_trueNegativeRate_Train,nparray_bucket_trueNegativeRate_Test,modelName):\n",
    "    plt.hist(nparray_bucket_trueNegativeRate_Train,bins=[i/20 for i in range(22)],density=True,alpha=1,color=\"blue\",histtype='step')\n",
    "    plt.hist(nparray_bucket_trueNegativeRate_Test,bins=[i/20 for i in range(22)],density=True,alpha=1,color=\"red\",histtype='step')\n",
    "    plt.ylabel('Nr of buckets')\n",
    "    plt.xlabel('Bucket trueNegativeRate')\n",
    "    plt.title(modelName)\n",
    "    plt.legend([\"Train\",\"Test\"],loc='upper left')\n",
    "    #plt.ylim(bottom=0,top=250)\n",
    "    #plt.show()\n",
    "    outputFileNameStem=\"NN_5_\"+modelName+\"_\"+str(numberOfEpochs)+\"_\"+str(batchSize)\n",
    "    plt.savefig(outputFolder+\"/\"+outputFileNameStem+\"_histo_trueNegativeRate.png\")\n",
    "# done function\n",
    "if doPlotMetrics2:\n",
    "    plot_train_test_trueNegativeRate(nparray_bucket_trueNegativeRate_Train,nparray_bucket_trueNegativeRate_Test,modelName)\n",
    "    "
   ]
  },
  {
   "cell_type": "code",
   "execution_count": 44,
   "metadata": {},
   "outputs": [
    {
     "data": {
      "image/png": "[encoded data removed]",
      "text/plain": [
       "<Figure size 432x288 with 2 Axes>"
      ]
     },
     "metadata": {
      "needs_background": "light"
     },
     "output_type": "display_data"
    }
   ],
   "source": [
    "fig, ax = plt.subplots()\n",
    "h=ax.hist2d(\n",
    "    nparray_bucket_OutputPositive_Train,\n",
    "    nparray_bucket_PredictedOutputPositive_Train,\n",
    "    bins=[range(0,22),range(0,22)],\n",
    "    cmin=1\n",
    "    )\n",
    "plt.colorbar(h[3], ax=ax)\n",
    "plt.xlabel(\"Output Positive\")\n",
    "plt.ylabel(\"Predicted Output Positive\")\n",
    "plt.title(\"Train\")\n",
    "\n",
    "\n",
    "plt.savefig(outputFolder+\"/histo_OutputPositive_vs_PredictedOutputPositive_Train.pdf\")\n",
    "plt.savefig(outputFolder+\"/histo_OutputPositive_vs_PredictedOutputPositive_Train.png\")\n"
   ]
  },
  {
   "cell_type": "code",
   "execution_count": 45,
   "metadata": {},
   "outputs": [
    {
     "data": {
      "image/png": "[encoded data removed]",
      "text/plain": [
       "<Figure size 432x288 with 2 Axes>"
      ]
     },
     "metadata": {
      "needs_background": "light"
     },
     "output_type": "display_data"
    }
   ],
   "source": [
    "fig, ax = plt.subplots()\n",
    "h=ax.hist2d(\n",
    "    nparray_bucket_OutputPositive_Test,\n",
    "    nparray_bucket_PredictedOutputPositive_Test,\n",
    "    bins=[range(0,22),range(0,22)],\n",
    "    cmin=1\n",
    "    )\n",
    "plt.colorbar(h[3], ax=ax)\n",
    "plt.xlabel(\"Output Positive\")\n",
    "plt.ylabel(\"Predicted Output Positive\")\n",
    "plt.title(\"Test\")\n",
    "\n",
    "\n",
    "plt.savefig(outputFolder+\"/histo_OutputPositive_vs_PredictedOutputPositive_Test.pdf\")\n",
    "plt.savefig(outputFolder+\"/histo_OutputPositive_vs_PredictedOutputPositive_Test.png\")"
   ]
  },
  {
   "cell_type": "code",
   "execution_count": 46,
   "metadata": {},
   "outputs": [
    {
     "data": {
      "image/png": "[encoded data removed]",
      "text/plain": [
       "<Figure size 432x288 with 2 Axes>"
      ]
     },
     "metadata": {
      "needs_background": "light"
     },
     "output_type": "display_data"
    }
   ],
   "source": [
    "fig, ax = plt.subplots()\n",
    "h=ax.hist2d(\n",
    "    nparray_bucket_OutputNegative_Train,\n",
    "    nparray_bucket_PredictedOutputNegative_Train,\n",
    "    bins=[range(0,22),range(0,22)],\n",
    "    cmin=1,\n",
    "    # norm=LogNorm()\n",
    "    )\n",
    "plt.colorbar(h[3], ax=ax)\n",
    "\n",
    "plt.xlabel(\"Output Negative\")\n",
    "plt.ylabel(\"Predicted Output Negative\")\n",
    "plt.title(\"Train\")\n",
    "\n",
    "\n",
    "plt.savefig(outputFolder+\"/histo_OutputNegative_vs_PredictedOutputNegative_Train.pdf\")\n",
    "plt.savefig(outputFolder+\"/histo_OutputNegative_vs_PredictedOutputNegative_Train.png\")"
   ]
  },
  {
   "cell_type": "code",
   "execution_count": 47,
   "metadata": {},
   "outputs": [
    {
     "data": {
      "image/png": "[encoded data removed]",
      "text/plain": [
       "<Figure size 432x288 with 2 Axes>"
      ]
     },
     "metadata": {
      "needs_background": "light"
     },
     "output_type": "display_data"
    }
   ],
   "source": [
    "fig, ax = plt.subplots()\n",
    "h=ax.hist2d(\n",
    "    nparray_bucket_OutputNegative_Test,\n",
    "    nparray_bucket_PredictedOutputNegative_Test,\n",
    "    bins=[range(0,22),range(0,22)],\n",
    "    cmin=1\n",
    "    )\n",
    "plt.xlabel(\"Output Negative\")\n",
    "plt.ylabel(\"Predicted Output Negative\")\n",
    "plt.title(\"Test\")\n",
    "plt.colorbar(h[3], ax=ax)\n",
    "\n",
    "\n",
    "\n",
    "plt.savefig(outputFolder+\"/histo_OutputNegative_vs_PredictedOutputNegative_Test.pdf\")\n",
    "plt.savefig(outputFolder+\"/histo_OutputNegative_vs_PredictedOutputNegative_Test.png\")"
   ]
  },
  {
   "cell_type": "code",
   "execution_count": 48,
   "metadata": {},
   "outputs": [
    {
     "name": "stdout",
     "output_type": "stream",
     "text": [
      "TrainnbHits Percent TP=18.6 FP=9.1 FN=20.4 TN=51.9\n"
     ]
    }
   ],
   "source": [
    "# Confusion matrix Train\n",
    "nbHitTP=np.sum(nparray_bucket_TruePositive_Train)\n",
    "nbHitFP=np.sum(nparray_bucket_FalsePositive_Train)\n",
    "nbHitFN=np.sum(nparray_bucket_FalseNegative_Train)\n",
    "nbHitTN=np.sum(nparray_bucket_TrueNegative_Train)\n",
    "nrHitsAll=nbHitTP+nbHitFP+nbHitFN+nbHitTN\n",
    "nrHitsPercentTP=100*nbHitTP/nrHitsAll\n",
    "nrHitsPercentFP=100*nbHitFP/nrHitsAll\n",
    "nrHitsPercentFN=100*nbHitFN/nrHitsAll\n",
    "nrHitsPercentTN=100*nbHitTN/nrHitsAll\n",
    "print(\"TrainnbHits Percent TP=%.1f FP=%.1f FN=%.1f TN=%.1f\"%(nrHitsPercentTP,nrHitsPercentFP,nrHitsPercentFN,nrHitsPercentTN))"
   ]
  },
  {
   "cell_type": "code",
   "execution_count": 49,
   "metadata": {},
   "outputs": [
    {
     "name": "stdout",
     "output_type": "stream",
     "text": [
      "TestbHits Percent TP=18.6 FP=9.2 FN=20.1 TN=52.1\n"
     ]
    }
   ],
   "source": [
    "# Confusion matrix Train\n",
    "nbHitTP=np.sum(nparray_bucket_TruePositive_Test)\n",
    "nbHitFP=np.sum(nparray_bucket_FalsePositive_Test)\n",
    "nbHitFN=np.sum(nparray_bucket_FalseNegative_Test)\n",
    "nbHitTN=np.sum(nparray_bucket_TrueNegative_Test)\n",
    "nrHitsAll=nbHitTP+nbHitFP+nbHitFN+nbHitTN\n",
    "nrHitsPercentTP=100*nbHitTP/nrHitsAll\n",
    "nrHitsPercentFP=100*nbHitFP/nrHitsAll\n",
    "nrHitsPercentFN=100*nbHitFN/nrHitsAll\n",
    "nrHitsPercentTN=100*nbHitTN/nrHitsAll\n",
    "print(\"TestbHits Percent TP=%.1f FP=%.1f FN=%.1f TN=%.1f\"%(nrHitsPercentTP,nrHitsPercentFP,nrHitsPercentFN,nrHitsPercentTN))"
   ]
  }
 ],
 "metadata": {
  "kernelspec": {
   "display_name": "Python 3",
   "language": "python",
   "name": "python3"
  },
  "language_info": {
   "codemirror_mode": {
    "name": "ipython",
    "version": 3
   },
   "file_extension": ".py",
   "mimetype": "text/x-python",
   "name": "python",
   "nbconvert_exporter": "python",
   "pygments_lexer": "ipython3",
   "version": "3.7.5"
  }
 },
 "nbformat": 4,
 "nbformat_minor": 2
}
